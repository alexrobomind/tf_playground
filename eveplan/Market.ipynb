{
 "cells": [
  {
   "cell_type": "code",
   "execution_count": 7,
   "metadata": {},
   "outputs": [],
   "source": [
    "import numpy as np\n",
    "import pandas as pd\n",
    "import networkx as nx\n",
    "import matplotlib.pyplot as plt\n",
    "import multiprocessing as mp\n",
    "\n",
    "import pickle\n",
    "import joblib\n",
    "import functools\n",
    "import itertools\n",
    "import time\n",
    "\n",
    "import esipy as esi\n",
    "\n",
    "from tqdm.notebook import tqdm, trange\n",
    "\n",
    "import requests"
   ]
  },
  {
   "cell_type": "code",
   "execution_count": 8,
   "metadata": {},
   "outputs": [
    {
     "name": "stderr",
     "output_type": "stream",
     "text": [
      "Defining a 'User-Agent' header is a good practice, and allows CCP to contact you if required. To do this, simply add the following when creating the client: headers={'User-Agent':'something'}.\n",
      "d:\\programme\\python 3.6.6\\lib\\site-packages\\esipy\\client.py:82: UserWarning: Defining a 'User-Agent' header is a good practice, and allows CCP to contact you if required. To do this, simply add the following when creating the client: headers={'User-Agent':'something'}.\n",
      "  warnings.warn(warning_message)\n"
     ]
    }
   ],
   "source": [
    "# Set up network access\n",
    "esi_client = esi.EsiClient(\n",
    "    transport_adapter = requests.adapters.HTTPAdapter(\n",
    "        pool_connections=100,\n",
    "        pool_maxsize=100,\n",
    "        max_retries=10,\n",
    "        pool_block=False\n",
    "    )\n",
    ")\n",
    "esi_app    = esi.EsiApp()\n",
    "\n",
    "app = esi_app.get_latest_swagger\n",
    "\n",
    "def try_request(req):\n",
    "    while True:\n",
    "        response = esi_client.request(req)\n",
    "        \n",
    "        if response.status == 200:\n",
    "            return response.data\n",
    "        \n",
    "        print(response.status)\n",
    "        print(response.header)\n",
    "        time.sleep(5)"
   ]
  },
  {
   "cell_type": "code",
   "execution_count": 3,
   "metadata": {},
   "outputs": [],
   "source": [
    "import json\n",
    "\n",
    "def intd(f):\n",
    "    return {int(k) : v for k,v in json.load(f).items()};\n",
    "\n",
    "with open('universe/systems.txt') as f:\n",
    "    systems = intd(f);\n",
    "\n",
    "with open('universe/stargates.txt') as f:\n",
    "    stargates = intd(f);\n",
    "    \n",
    "with open('universe/market_types.txt') as f:\n",
    "    types = intd(f)\n",
    "    \n",
    "with open('universe/constellations.txt') as f:\n",
    "    constellations = intd(f)"
   ]
  },
  {
   "cell_type": "code",
   "execution_count": 4,
   "metadata": {},
   "outputs": [
    {
     "name": "stdout",
     "output_type": "stream",
     "text": [
      "High-sec has 972 systems\n"
     ]
    }
   ],
   "source": [
    "systems_graph = nx.Graph();\n",
    "\n",
    "for system in systems:\n",
    "    systems_graph.add_node(system);\n",
    "\n",
    "for stargate in stargates.values():\n",
    "    systems_graph.add_edge(stargate[\"system_id\"], stargate[\"destination\"][\"system_id\"])\n",
    "\n",
    "root = 'Jita'\n",
    "root_id = [v for v in systems if systems[v][\"name\"] == root][0]\n",
    "\n",
    "# Limit to high-sec systems\n",
    "subselect = [k for k in systems if systems[k][\"security_status\"] >= 0.5]\n",
    "subgraph = systems_graph.subgraph(subselect)\n",
    "\n",
    "# Limit to component connected to Jita\n",
    "subselect = nx.node_connected_component(subgraph, root_id)\n",
    "subgraph = systems_graph.subgraph(subselect)\n",
    "print('High-sec has {} systems'.format(len(subgraph)))\n",
    "\n",
    "system_ids = list(subgraph)\n",
    "type_ids = list(types)\n",
    "\n",
    "landmark_names = ['Jita', 'Amarr', 'Rens', 'Hek', 'Dodixie', 'Oursulaert', 'Tash-Murkon Prime', 'Agil'];\n",
    "landmarks = [v[\"system_id\"] for v in systems.values() if v[\"name\"] in landmark_names]\n",
    "\n",
    "@functools.lru_cache(maxsize=None)\n",
    "def get_region_id(system_id):\n",
    "    return constellations[systems[system_id][\"constellation_id\"]][\"region_id\"]\n",
    "\n",
    "@functools.lru_cache(maxsize=None)\n",
    "def get_station(station_id):\n",
    "    esi_op = app.op['get_universe_stations_station_id'](station_id = station_id);\n",
    "    return esi_client.request(esi_op).data\n",
    "\n",
    "@functools.lru_cache(maxsize=None)\n",
    "def in_highsec(station_id):\n",
    "    try:\n",
    "        return get_station(station_id).system_id in subgraph\n",
    "    except:\n",
    "        return False"
   ]
  },
  {
   "cell_type": "code",
   "execution_count": 41,
   "metadata": {},
   "outputs": [
    {
     "name": "stdout",
     "output_type": "stream",
     "text": [
      "Loading regions\n",
      "Loading market orders\n"
     ]
    },
    {
     "data": {
      "application/vnd.jupyter.widget-view+json": {
       "model_id": "d30e48f3891f4c668827e37722663569",
       "version_major": 2,
       "version_minor": 0
      },
      "text/plain": [
       "HBox(children=(FloatProgress(value=0.0, description='Regions', max=20.0, style=ProgressStyle(description_width…"
      ]
     },
     "metadata": {},
     "output_type": "display_data"
    },
    {
     "name": "stdout",
     "output_type": "stream",
     "text": [
      "Loading orders in Sinq Laison (10000032)\n"
     ]
    },
    {
     "data": {
      "application/vnd.jupyter.widget-view+json": {
       "model_id": "8745876e610342399a35a7c1acdcfc05",
       "version_major": 2,
       "version_minor": 0
      },
      "text/plain": [
       "HBox(children=(FloatProgress(value=0.0, description='Pages', max=104.0, style=ProgressStyle(description_width=…"
      ]
     },
     "metadata": {},
     "output_type": "display_data"
    },
    {
     "name": "stdout",
     "output_type": "stream",
     "text": [
      "\n",
      "Loading orders in The Citadel (10000033)\n"
     ]
    },
    {
     "data": {
      "application/vnd.jupyter.widget-view+json": {
       "model_id": "f9f8f0096f9d4b50b41f63ac670f9ec2",
       "version_major": 2,
       "version_minor": 0
      },
      "text/plain": [
       "HBox(children=(FloatProgress(value=0.0, description='Pages', max=53.0, style=ProgressStyle(description_width='…"
      ]
     },
     "metadata": {},
     "output_type": "display_data"
    },
    {
     "name": "stdout",
     "output_type": "stream",
     "text": [
      "\n",
      "Loading orders in The Forge (10000002)\n"
     ]
    },
    {
     "data": {
      "application/vnd.jupyter.widget-view+json": {
       "model_id": "917d1a1a2db74aad82895301cb45c12e",
       "version_major": 2,
       "version_minor": 0
      },
      "text/plain": [
       "HBox(children=(FloatProgress(value=0.0, description='Pages', max=286.0, style=ProgressStyle(description_width=…"
      ]
     },
     "metadata": {},
     "output_type": "display_data"
    },
    {
     "name": "stdout",
     "output_type": "stream",
     "text": [
      "\n",
      "Loading orders in Genesis (10000067)\n"
     ]
    },
    {
     "data": {
      "application/vnd.jupyter.widget-view+json": {
       "model_id": "debc518094cd456885aea589ffc99893",
       "version_major": 2,
       "version_minor": 0
      },
      "text/plain": [
       "HBox(children=(FloatProgress(value=0.0, description='Pages', max=31.0, style=ProgressStyle(description_width='…"
      ]
     },
     "metadata": {},
     "output_type": "display_data"
    },
    {
     "name": "stdout",
     "output_type": "stream",
     "text": [
      "\n",
      "Loading orders in Verge Vendor (10000068)\n"
     ]
    },
    {
     "data": {
      "application/vnd.jupyter.widget-view+json": {
       "model_id": "2583571c16bc48d6bb1079ea32879815",
       "version_major": 2,
       "version_minor": 0
      },
      "text/plain": [
       "HBox(children=(FloatProgress(value=0.0, description='Pages', max=30.0, style=ProgressStyle(description_width='…"
      ]
     },
     "metadata": {},
     "output_type": "display_data"
    },
    {
     "name": "stdout",
     "output_type": "stream",
     "text": [
      "\n",
      "Loading orders in Devoid (10000036)\n"
     ]
    },
    {
     "data": {
      "application/vnd.jupyter.widget-view+json": {
       "model_id": "2fb29a98d1fc42b683cbfc20bd9e693c",
       "version_major": 2,
       "version_minor": 0
      },
      "text/plain": [
       "HBox(children=(FloatProgress(value=0.0, description='Pages', max=12.0, style=ProgressStyle(description_width='…"
      ]
     },
     "metadata": {},
     "output_type": "display_data"
    },
    {
     "name": "stdout",
     "output_type": "stream",
     "text": [
      "\n",
      "Loading orders in Kor-Azor (10000065)\n"
     ]
    },
    {
     "data": {
      "application/vnd.jupyter.widget-view+json": {
       "model_id": "4c614733490648f08803c463f5461513",
       "version_major": 2,
       "version_minor": 0
      },
      "text/plain": [
       "HBox(children=(FloatProgress(value=0.0, description='Pages', max=20.0, style=ProgressStyle(description_width='…"
      ]
     },
     "metadata": {},
     "output_type": "display_data"
    },
    {
     "name": "stdout",
     "output_type": "stream",
     "text": [
      "\n",
      "Loading orders in Everyshore (10000037)\n"
     ]
    },
    {
     "data": {
      "application/vnd.jupyter.widget-view+json": {
       "model_id": "b56bd98bef7e481da34fb3602ed0148f",
       "version_major": 2,
       "version_minor": 0
      },
      "text/plain": [
       "HBox(children=(FloatProgress(value=0.0, description='Pages', max=24.0, style=ProgressStyle(description_width='…"
      ]
     },
     "metadata": {},
     "output_type": "display_data"
    },
    {
     "name": "stdout",
     "output_type": "stream",
     "text": [
      "\n",
      "Loading orders in Essence (10000064)\n"
     ]
    },
    {
     "data": {
      "application/vnd.jupyter.widget-view+json": {
       "model_id": "02df7f27d9734f59b3665fb8ef72cb4c",
       "version_major": 2,
       "version_minor": 0
      },
      "text/plain": [
       "HBox(children=(FloatProgress(value=0.0, description='Pages', max=43.0, style=ProgressStyle(description_width='…"
      ]
     },
     "metadata": {},
     "output_type": "display_data"
    },
    {
     "name": "stdout",
     "output_type": "stream",
     "text": [
      "\n",
      "Loading orders in Derelik (10000001)\n"
     ]
    },
    {
     "data": {
      "application/vnd.jupyter.widget-view+json": {
       "model_id": "789886657c5b49a3b48129ba09fd5525",
       "version_major": 2,
       "version_minor": 0
      },
      "text/plain": [
       "HBox(children=(FloatProgress(value=0.0, description='Pages', max=18.0, style=ProgressStyle(description_width='…"
      ]
     },
     "metadata": {},
     "output_type": "display_data"
    },
    {
     "name": "stdout",
     "output_type": "stream",
     "text": [
      "\n",
      "Loading orders in Metropolis (10000042)\n"
     ]
    },
    {
     "data": {
      "application/vnd.jupyter.widget-view+json": {
       "model_id": "9373b781bd4c427cb146c226a3895c11",
       "version_major": 2,
       "version_minor": 0
      },
      "text/plain": [
       "HBox(children=(FloatProgress(value=0.0, description='Pages', style=ProgressStyle(description_width='initial'))…"
      ]
     },
     "metadata": {},
     "output_type": "display_data"
    },
    {
     "name": "stdout",
     "output_type": "stream",
     "text": [
      "\n",
      "Loading orders in Domain (10000043)\n"
     ]
    },
    {
     "data": {
      "application/vnd.jupyter.widget-view+json": {
       "model_id": "399a1984da6d4ae8b6e84b18cd4a03f9",
       "version_major": 2,
       "version_minor": 0
      },
      "text/plain": [
       "HBox(children=(FloatProgress(value=0.0, description='Pages', max=146.0, style=ProgressStyle(description_width=…"
      ]
     },
     "metadata": {},
     "output_type": "display_data"
    },
    {
     "name": "stdout",
     "output_type": "stream",
     "text": [
      "\n",
      "Loading orders in The Bleak Lands (10000038)\n"
     ]
    },
    {
     "data": {
      "application/vnd.jupyter.widget-view+json": {
       "model_id": "65a15d7197e74ac28b37229808b31ff4",
       "version_major": 2,
       "version_minor": 0
      },
      "text/plain": [
       "HBox(children=(FloatProgress(value=0.0, description='Pages', max=12.0, style=ProgressStyle(description_width='…"
      ]
     },
     "metadata": {},
     "output_type": "display_data"
    },
    {
     "name": "stdout",
     "output_type": "stream",
     "text": [
      "\n",
      "Loading orders in Lonetrek (10000016)\n"
     ]
    },
    {
     "data": {
      "application/vnd.jupyter.widget-view+json": {
       "model_id": "f90d22ca25904c19b1dcf50c2a894261",
       "version_major": 2,
       "version_minor": 0
      },
      "text/plain": [
       "HBox(children=(FloatProgress(value=0.0, description='Pages', max=68.0, style=ProgressStyle(description_width='…"
      ]
     },
     "metadata": {},
     "output_type": "display_data"
    },
    {
     "name": "stdout",
     "output_type": "stream",
     "text": [
      "\n",
      "Loading orders in Placid (10000048)\n"
     ]
    },
    {
     "data": {
      "application/vnd.jupyter.widget-view+json": {
       "model_id": "984005e0d7bc41048e0ff04542ef5658",
       "version_major": 2,
       "version_minor": 0
      },
      "text/plain": [
       "HBox(children=(FloatProgress(value=0.0, description='Pages', max=35.0, style=ProgressStyle(description_width='…"
      ]
     },
     "metadata": {},
     "output_type": "display_data"
    },
    {
     "name": "stdout",
     "output_type": "stream",
     "text": [
      "\n",
      "Loading orders in Khanid (10000049)\n"
     ]
    },
    {
     "data": {
      "application/vnd.jupyter.widget-view+json": {
       "model_id": "403210d4c4fa440ab2f299847be98a90",
       "version_major": 2,
       "version_minor": 0
      },
      "text/plain": [
       "HBox(children=(FloatProgress(value=0.0, description='Pages', max=8.0, style=ProgressStyle(description_width='i…"
      ]
     },
     "metadata": {},
     "output_type": "display_data"
    },
    {
     "name": "stdout",
     "output_type": "stream",
     "text": [
      "\n",
      "Loading orders in Tash-Murkon (10000020)\n"
     ]
    },
    {
     "data": {
      "application/vnd.jupyter.widget-view+json": {
       "model_id": "17a9f544201649d890aef7a78e758636",
       "version_major": 2,
       "version_minor": 0
      },
      "text/plain": [
       "HBox(children=(FloatProgress(value=0.0, description='Pages', max=38.0, style=ProgressStyle(description_width='…"
      ]
     },
     "metadata": {},
     "output_type": "display_data"
    },
    {
     "name": "stdout",
     "output_type": "stream",
     "text": [
      "\n",
      "Loading orders in Kador (10000052)\n"
     ]
    },
    {
     "data": {
      "application/vnd.jupyter.widget-view+json": {
       "model_id": "dcdde6a9fd2447c8bd4995e473600159",
       "version_major": 2,
       "version_minor": 0
      },
      "text/plain": [
       "HBox(children=(FloatProgress(value=0.0, description='Pages', max=24.0, style=ProgressStyle(description_width='…"
      ]
     },
     "metadata": {},
     "output_type": "display_data"
    },
    {
     "name": "stdout",
     "output_type": "stream",
     "text": [
      "\n",
      "Loading orders in Molden Heath (10000028)\n"
     ]
    },
    {
     "data": {
      "application/vnd.jupyter.widget-view+json": {
       "model_id": "9291dd406928488998dd89e800f4f31b",
       "version_major": 2,
       "version_minor": 0
      },
      "text/plain": [
       "HBox(children=(FloatProgress(value=0.0, description='Pages', max=21.0, style=ProgressStyle(description_width='…"
      ]
     },
     "metadata": {},
     "output_type": "display_data"
    },
    {
     "name": "stdout",
     "output_type": "stream",
     "text": [
      "\n",
      "Loading orders in Heimatar (10000030)\n"
     ]
    },
    {
     "data": {
      "application/vnd.jupyter.widget-view+json": {
       "model_id": "0f92dcada0034c89b1e4cb3a72800500",
       "version_major": 2,
       "version_minor": 0
      },
      "text/plain": [
       "HBox(children=(FloatProgress(value=0.0, description='Pages', max=70.0, style=ProgressStyle(description_width='…"
      ]
     },
     "metadata": {},
     "output_type": "display_data"
    },
    {
     "name": "stdout",
     "output_type": "stream",
     "text": [
      "\n",
      "\n"
     ]
    }
   ],
   "source": [
    "# Load orders from EVE\n",
    "region_id = get_region_id(root_id)\n",
    "\n",
    "print('Loading regions')\n",
    "#region_ids = esi_client.request(app.op['get_universe_regions']()).data\n",
    "region_ids = list(set(\n",
    "    get_region_id(system_id) for system_id in subgraph\n",
    "))\n",
    "\n",
    "print('Loading market orders')\n",
    "\n",
    "def requests_in_region(region_id):\n",
    "    region = try_request(\n",
    "        app.op['get_universe_regions_region_id'](region_id = region_id)\n",
    "    )\n",
    "    \n",
    "    print('Loading orders in {} ({})'.format(region.name, region_id))\n",
    "    \n",
    "    response = None\n",
    "    while True:\n",
    "        response = esi_client.request(\n",
    "            app.op['get_markets_region_id_orders'](region_id = region_id)\n",
    "        )\n",
    "        \n",
    "        if response.status == 200:\n",
    "            break\n",
    "        \n",
    "        time.sleep(0.1)\n",
    "    \n",
    "    n_pages = response.header.get('X-pages', [1])[0]\n",
    "\n",
    "    p = mp.pool.ThreadPool(1)\n",
    "\n",
    "    requests = [\n",
    "        app.op['get_markets_region_id_orders'](region_id = region_id, page = page, order_type = 'all')\n",
    "        for page in range(1, n_pages + 1)\n",
    "    ]\n",
    "    \n",
    "    return requests\n",
    "\n",
    "orders = {\n",
    "    region_id : {\n",
    "        type_id : list(orders)\n",
    "        for (type_id, orders) in itertools.groupby(\n",
    "            sorted(\n",
    "                (\n",
    "                    result\n",
    "                    for request in tqdm(requests_in_region(region_id), desc = 'Pages')\n",
    "                    for result in try_request(request)\n",
    "                ),\n",
    "                key = lambda x : x.type_id\n",
    "            ),\n",
    "            key = lambda x : x.type_id\n",
    "        )\n",
    "    }\n",
    "    for region_id in tqdm(region_ids, desc = 'Regions')\n",
    "}"
   ]
  },
  {
   "cell_type": "code",
   "execution_count": 42,
   "metadata": {},
   "outputs": [
    {
     "data": {
      "application/vnd.jupyter.widget-view+json": {
       "model_id": "eb54a05479ac460eb83b15529fc4a622",
       "version_major": 2,
       "version_minor": 0
      },
      "text/plain": [
       "HBox(children=(FloatProgress(value=0.0, max=20.0), HTML(value='')))"
      ]
     },
     "metadata": {},
     "output_type": "display_data"
    },
    {
     "name": "stdout",
     "output_type": "stream",
     "text": [
      "\n"
     ]
    }
   ],
   "source": [
    "flat_orders = [\n",
    "    {\n",
    "        k : v\n",
    "        for k,v in order.items()\n",
    "    }\n",
    "    for d in tqdm(orders.values())\n",
    "    for os in d.values()\n",
    "    for order in os\n",
    "]\n",
    "\n",
    "df = pd.DataFrame(flat_orders)\n",
    "df = df.set_index('order_id')"
   ]
  },
  {
   "cell_type": "code",
   "execution_count": 44,
   "metadata": {},
   "outputs": [
    {
     "data": {
      "text/html": [
       "<div>\n",
       "<style scoped>\n",
       "    .dataframe tbody tr th:only-of-type {\n",
       "        vertical-align: middle;\n",
       "    }\n",
       "\n",
       "    .dataframe tbody tr th {\n",
       "        vertical-align: top;\n",
       "    }\n",
       "\n",
       "    .dataframe thead th {\n",
       "        text-align: right;\n",
       "    }\n",
       "</style>\n",
       "<table border=\"1\" class=\"dataframe\">\n",
       "  <thead>\n",
       "    <tr style=\"text-align: right;\">\n",
       "      <th></th>\n",
       "      <th>duration</th>\n",
       "      <th>is_buy_order</th>\n",
       "      <th>issued</th>\n",
       "      <th>location_id</th>\n",
       "      <th>min_volume</th>\n",
       "      <th>price</th>\n",
       "      <th>range</th>\n",
       "      <th>system_id</th>\n",
       "      <th>type_id</th>\n",
       "      <th>volume_remain</th>\n",
       "      <th>volume_total</th>\n",
       "    </tr>\n",
       "    <tr>\n",
       "      <th>order_id</th>\n",
       "      <th></th>\n",
       "      <th></th>\n",
       "      <th></th>\n",
       "      <th></th>\n",
       "      <th></th>\n",
       "      <th></th>\n",
       "      <th></th>\n",
       "      <th></th>\n",
       "      <th></th>\n",
       "      <th></th>\n",
       "      <th></th>\n",
       "    </tr>\n",
       "  </thead>\n",
       "  <tbody>\n",
       "    <tr>\n",
       "      <th>5622028402</th>\n",
       "      <td>90</td>\n",
       "      <td>False</td>\n",
       "      <td>2020-02-29T02:12:37+00:00</td>\n",
       "      <td>60011983</td>\n",
       "      <td>1</td>\n",
       "      <td>8.00</td>\n",
       "      <td>region</td>\n",
       "      <td>30002656</td>\n",
       "      <td>34</td>\n",
       "      <td>67466</td>\n",
       "      <td>67466</td>\n",
       "    </tr>\n",
       "    <tr>\n",
       "      <th>5462301996</th>\n",
       "      <td>90</td>\n",
       "      <td>False</td>\n",
       "      <td>2020-01-08T20:49:48+00:00</td>\n",
       "      <td>60001864</td>\n",
       "      <td>1</td>\n",
       "      <td>7.57</td>\n",
       "      <td>region</td>\n",
       "      <td>30002659</td>\n",
       "      <td>34</td>\n",
       "      <td>43969472</td>\n",
       "      <td>43969472</td>\n",
       "    </tr>\n",
       "    <tr>\n",
       "      <th>5465715946</th>\n",
       "      <td>90</td>\n",
       "      <td>False</td>\n",
       "      <td>2020-01-15T03:23:03+00:00</td>\n",
       "      <td>60001864</td>\n",
       "      <td>1</td>\n",
       "      <td>7.59</td>\n",
       "      <td>region</td>\n",
       "      <td>30002659</td>\n",
       "      <td>34</td>\n",
       "      <td>43756270</td>\n",
       "      <td>43756270</td>\n",
       "    </tr>\n",
       "    <tr>\n",
       "      <th>5458648271</th>\n",
       "      <td>90</td>\n",
       "      <td>False</td>\n",
       "      <td>2020-01-03T11:59:28+00:00</td>\n",
       "      <td>60001864</td>\n",
       "      <td>1</td>\n",
       "      <td>7.55</td>\n",
       "      <td>region</td>\n",
       "      <td>30002659</td>\n",
       "      <td>34</td>\n",
       "      <td>15561344</td>\n",
       "      <td>45106952</td>\n",
       "    </tr>\n",
       "    <tr>\n",
       "      <th>5599686666</th>\n",
       "      <td>90</td>\n",
       "      <td>False</td>\n",
       "      <td>2020-02-24T16:36:53+00:00</td>\n",
       "      <td>60011866</td>\n",
       "      <td>1</td>\n",
       "      <td>8.70</td>\n",
       "      <td>region</td>\n",
       "      <td>30002659</td>\n",
       "      <td>34</td>\n",
       "      <td>56120886</td>\n",
       "      <td>56120886</td>\n",
       "    </tr>\n",
       "    <tr>\n",
       "      <th>...</th>\n",
       "      <td>...</td>\n",
       "      <td>...</td>\n",
       "      <td>...</td>\n",
       "      <td>...</td>\n",
       "      <td>...</td>\n",
       "      <td>...</td>\n",
       "      <td>...</td>\n",
       "      <td>...</td>\n",
       "      <td>...</td>\n",
       "      <td>...</td>\n",
       "      <td>...</td>\n",
       "    </tr>\n",
       "    <tr>\n",
       "      <th>5498503626</th>\n",
       "      <td>90</td>\n",
       "      <td>True</td>\n",
       "      <td>2019-12-03T20:28:05+00:00</td>\n",
       "      <td>60015037</td>\n",
       "      <td>1</td>\n",
       "      <td>4.17</td>\n",
       "      <td>station</td>\n",
       "      <td>30012547</td>\n",
       "      <td>34</td>\n",
       "      <td>7535272</td>\n",
       "      <td>10000000</td>\n",
       "    </tr>\n",
       "    <tr>\n",
       "      <th>5348521393</th>\n",
       "      <td>90</td>\n",
       "      <td>True</td>\n",
       "      <td>2020-02-07T17:26:49+00:00</td>\n",
       "      <td>60004588</td>\n",
       "      <td>1</td>\n",
       "      <td>0.04</td>\n",
       "      <td>10</td>\n",
       "      <td>30002510</td>\n",
       "      <td>34</td>\n",
       "      <td>526647968</td>\n",
       "      <td>600000000</td>\n",
       "    </tr>\n",
       "    <tr>\n",
       "      <th>5620093472</th>\n",
       "      <td>90</td>\n",
       "      <td>True</td>\n",
       "      <td>2020-02-29T14:07:14+00:00</td>\n",
       "      <td>60004588</td>\n",
       "      <td>1</td>\n",
       "      <td>6.09</td>\n",
       "      <td>1</td>\n",
       "      <td>30002510</td>\n",
       "      <td>34</td>\n",
       "      <td>40226957</td>\n",
       "      <td>100000000</td>\n",
       "    </tr>\n",
       "    <tr>\n",
       "      <th>5569021813</th>\n",
       "      <td>90</td>\n",
       "      <td>True</td>\n",
       "      <td>2020-02-05T23:12:58+00:00</td>\n",
       "      <td>60015037</td>\n",
       "      <td>1</td>\n",
       "      <td>5.21</td>\n",
       "      <td>station</td>\n",
       "      <td>30012547</td>\n",
       "      <td>34</td>\n",
       "      <td>167944214</td>\n",
       "      <td>200000000</td>\n",
       "    </tr>\n",
       "    <tr>\n",
       "      <th>5566562160</th>\n",
       "      <td>90</td>\n",
       "      <td>True</td>\n",
       "      <td>2020-02-17T20:43:27+00:00</td>\n",
       "      <td>60001117</td>\n",
       "      <td>1</td>\n",
       "      <td>4.16</td>\n",
       "      <td>3</td>\n",
       "      <td>30002534</td>\n",
       "      <td>34</td>\n",
       "      <td>9298909</td>\n",
       "      <td>10000000</td>\n",
       "    </tr>\n",
       "  </tbody>\n",
       "</table>\n",
       "<p>1522 rows × 11 columns</p>\n",
       "</div>"
      ],
      "text/plain": [
       "            duration  is_buy_order                     issued  location_id  \\\n",
       "order_id                                                                     \n",
       "5622028402        90         False  2020-02-29T02:12:37+00:00     60011983   \n",
       "5462301996        90         False  2020-01-08T20:49:48+00:00     60001864   \n",
       "5465715946        90         False  2020-01-15T03:23:03+00:00     60001864   \n",
       "5458648271        90         False  2020-01-03T11:59:28+00:00     60001864   \n",
       "5599686666        90         False  2020-02-24T16:36:53+00:00     60011866   \n",
       "...              ...           ...                        ...          ...   \n",
       "5498503626        90          True  2019-12-03T20:28:05+00:00     60015037   \n",
       "5348521393        90          True  2020-02-07T17:26:49+00:00     60004588   \n",
       "5620093472        90          True  2020-02-29T14:07:14+00:00     60004588   \n",
       "5569021813        90          True  2020-02-05T23:12:58+00:00     60015037   \n",
       "5566562160        90          True  2020-02-17T20:43:27+00:00     60001117   \n",
       "\n",
       "            min_volume  price    range  system_id  type_id  volume_remain  \\\n",
       "order_id                                                                    \n",
       "5622028402           1   8.00   region   30002656       34          67466   \n",
       "5462301996           1   7.57   region   30002659       34       43969472   \n",
       "5465715946           1   7.59   region   30002659       34       43756270   \n",
       "5458648271           1   7.55   region   30002659       34       15561344   \n",
       "5599686666           1   8.70   region   30002659       34       56120886   \n",
       "...                ...    ...      ...        ...      ...            ...   \n",
       "5498503626           1   4.17  station   30012547       34        7535272   \n",
       "5348521393           1   0.04       10   30002510       34      526647968   \n",
       "5620093472           1   6.09        1   30002510       34       40226957   \n",
       "5569021813           1   5.21  station   30012547       34      167944214   \n",
       "5566562160           1   4.16        3   30002534       34        9298909   \n",
       "\n",
       "            volume_total  \n",
       "order_id                  \n",
       "5622028402         67466  \n",
       "5462301996      43969472  \n",
       "5465715946      43756270  \n",
       "5458648271      45106952  \n",
       "5599686666      56120886  \n",
       "...                  ...  \n",
       "5498503626      10000000  \n",
       "5348521393     600000000  \n",
       "5620093472     100000000  \n",
       "5569021813     200000000  \n",
       "5566562160      10000000  \n",
       "\n",
       "[1522 rows x 11 columns]"
      ]
     },
     "execution_count": 44,
     "metadata": {},
     "output_type": "execute_result"
    }
   ],
   "source": [
    "df[df.type_id == 34]"
   ]
  },
  {
   "cell_type": "code",
   "execution_count": 121,
   "metadata": {},
   "outputs": [
    {
     "data": {
      "text/plain": [
       "system_id  type_id\n",
       "30002697   2752       1\n",
       "           2759       1\n",
       "           2774       1\n",
       "           2775       1\n",
       "           2780       1\n",
       "           2784       1\n",
       "           2787       1\n",
       "           2792       1\n",
       "           2794       1\n",
       "           2823       1\n",
       "           15596      1\n",
       "           15610      1\n",
       "           15617      1\n",
       "           15623      1\n",
       "           15642      1\n",
       "           16186      1\n",
       "           17649      2\n",
       "           17651      2\n",
       "           17653      2\n",
       "           17655      1\n",
       "           17661      2\n",
       "           17663      2\n",
       "           21026      1\n",
       "           27935      1\n",
       "           29993      1\n",
       "           30003      1\n",
       "           30009      1\n",
       "           30465      1\n",
       "           30467      1\n",
       "           30479      1\n",
       "           34860      1\n",
       "           36954      1\n",
       "           36966      1\n",
       "           37028      1\n",
       "           37047      1\n",
       "           37343      1\n",
       "           37835      1\n",
       "           41086      1\n",
       "           41132      2\n",
       "           44002      1\n",
       "           46157      2\n",
       "           46158      2\n",
       "           46159      1\n",
       "           46162      2\n",
       "           46163      2\n",
       "           46164      2\n",
       "           46165      2\n",
       "           46197      2\n",
       "           46199      1\n",
       "           46645      1\n",
       "           46649      1\n",
       "           47234      1\n",
       "           47357      1\n",
       "           47361      1\n",
       "Name: order_id, dtype: int64"
      ]
     },
     "execution_count": 121,
     "metadata": {},
     "output_type": "execute_result"
    }
   ],
   "source": [
    "df[df.system_id == 30002697].reset_index().set_index(['system_id', 'type_id']).groupby(['system_id', 'type_id']).count().iloc[:,0]"
   ]
  },
  {
   "cell_type": "code",
   "execution_count": 45,
   "metadata": {},
   "outputs": [],
   "source": [
    "import datetime\n",
    "\n",
    "now = datetime.datetime.now()\n",
    "\n",
    "df.to_csv('market/{}.csv'.format(now.strftime('%Y-%b-%d %H-%M')))\n",
    "df.to_csv('market/current.csv')"
   ]
  },
  {
   "cell_type": "code",
   "execution_count": 72,
   "metadata": {},
   "outputs": [
    {
     "data": {
      "text/html": [
       "<div>\n",
       "<style scoped>\n",
       "    .dataframe tbody tr th:only-of-type {\n",
       "        vertical-align: middle;\n",
       "    }\n",
       "\n",
       "    .dataframe tbody tr th {\n",
       "        vertical-align: top;\n",
       "    }\n",
       "\n",
       "    .dataframe thead th {\n",
       "        text-align: right;\n",
       "    }\n",
       "</style>\n",
       "<table border=\"1\" class=\"dataframe\">\n",
       "  <thead>\n",
       "    <tr style=\"text-align: right;\">\n",
       "      <th></th>\n",
       "      <th>duration</th>\n",
       "      <th>is_buy_order</th>\n",
       "      <th>issued</th>\n",
       "      <th>location_id</th>\n",
       "      <th>min_volume</th>\n",
       "      <th>order_id</th>\n",
       "      <th>price</th>\n",
       "      <th>range</th>\n",
       "      <th>system_id</th>\n",
       "      <th>type_id</th>\n",
       "      <th>volume_remain</th>\n",
       "      <th>volume_total</th>\n",
       "    </tr>\n",
       "    <tr>\n",
       "      <th>order_id</th>\n",
       "      <th></th>\n",
       "      <th></th>\n",
       "      <th></th>\n",
       "      <th></th>\n",
       "      <th></th>\n",
       "      <th></th>\n",
       "      <th></th>\n",
       "      <th></th>\n",
       "      <th></th>\n",
       "      <th></th>\n",
       "      <th></th>\n",
       "      <th></th>\n",
       "    </tr>\n",
       "  </thead>\n",
       "  <tbody>\n",
       "    <tr>\n",
       "      <th>5604786202</th>\n",
       "      <td>90</td>\n",
       "      <td>False</td>\n",
       "      <td>2020-02-07T04:32:45+00:00</td>\n",
       "      <td>60010948</td>\n",
       "      <td>1</td>\n",
       "      <td>5604786202</td>\n",
       "      <td>250000.00</td>\n",
       "      <td>region</td>\n",
       "      <td>30002692</td>\n",
       "      <td>19980</td>\n",
       "      <td>1</td>\n",
       "      <td>1</td>\n",
       "    </tr>\n",
       "    <tr>\n",
       "      <th>5607213292</th>\n",
       "      <td>90</td>\n",
       "      <td>True</td>\n",
       "      <td>2020-02-27T23:09:20+00:00</td>\n",
       "      <td>60011866</td>\n",
       "      <td>1</td>\n",
       "      <td>5607213292</td>\n",
       "      <td>517.42</td>\n",
       "      <td>station</td>\n",
       "      <td>30002659</td>\n",
       "      <td>27401</td>\n",
       "      <td>4767</td>\n",
       "      <td>10000</td>\n",
       "    </tr>\n",
       "    <tr>\n",
       "      <th>5614331424</th>\n",
       "      <td>90</td>\n",
       "      <td>True</td>\n",
       "      <td>2020-02-22T06:26:02+00:00</td>\n",
       "      <td>1025824394754</td>\n",
       "      <td>1</td>\n",
       "      <td>5614331424</td>\n",
       "      <td>25300000.00</td>\n",
       "      <td>1</td>\n",
       "      <td>30002661</td>\n",
       "      <td>10213</td>\n",
       "      <td>3</td>\n",
       "      <td>3</td>\n",
       "    </tr>\n",
       "    <tr>\n",
       "      <th>5380335439</th>\n",
       "      <td>90</td>\n",
       "      <td>True</td>\n",
       "      <td>2020-02-28T09:16:01+00:00</td>\n",
       "      <td>60011866</td>\n",
       "      <td>1</td>\n",
       "      <td>5380335439</td>\n",
       "      <td>6590.59</td>\n",
       "      <td>region</td>\n",
       "      <td>30002659</td>\n",
       "      <td>21430</td>\n",
       "      <td>88474</td>\n",
       "      <td>99000</td>\n",
       "    </tr>\n",
       "    <tr>\n",
       "      <th>5590442672</th>\n",
       "      <td>90</td>\n",
       "      <td>True</td>\n",
       "      <td>2020-02-23T12:07:24+00:00</td>\n",
       "      <td>60011866</td>\n",
       "      <td>1</td>\n",
       "      <td>5590442672</td>\n",
       "      <td>1113.01</td>\n",
       "      <td>station</td>\n",
       "      <td>30002659</td>\n",
       "      <td>247</td>\n",
       "      <td>99894</td>\n",
       "      <td>100000</td>\n",
       "    </tr>\n",
       "    <tr>\n",
       "      <th>...</th>\n",
       "      <td>...</td>\n",
       "      <td>...</td>\n",
       "      <td>...</td>\n",
       "      <td>...</td>\n",
       "      <td>...</td>\n",
       "      <td>...</td>\n",
       "      <td>...</td>\n",
       "      <td>...</td>\n",
       "      <td>...</td>\n",
       "      <td>...</td>\n",
       "      <td>...</td>\n",
       "      <td>...</td>\n",
       "    </tr>\n",
       "    <tr>\n",
       "      <th>5597298425</th>\n",
       "      <td>90</td>\n",
       "      <td>True</td>\n",
       "      <td>2020-01-27T05:11:45+00:00</td>\n",
       "      <td>60004588</td>\n",
       "      <td>1</td>\n",
       "      <td>5597298425</td>\n",
       "      <td>1.00</td>\n",
       "      <td>region</td>\n",
       "      <td>30002510</td>\n",
       "      <td>48375</td>\n",
       "      <td>1000</td>\n",
       "      <td>1000</td>\n",
       "    </tr>\n",
       "    <tr>\n",
       "      <th>5374541783</th>\n",
       "      <td>90</td>\n",
       "      <td>True</td>\n",
       "      <td>2020-01-13T15:09:13+00:00</td>\n",
       "      <td>60004588</td>\n",
       "      <td>1</td>\n",
       "      <td>5374541783</td>\n",
       "      <td>31000128.98</td>\n",
       "      <td>solarsystem</td>\n",
       "      <td>30002510</td>\n",
       "      <td>47700</td>\n",
       "      <td>7</td>\n",
       "      <td>10</td>\n",
       "    </tr>\n",
       "    <tr>\n",
       "      <th>5597298536</th>\n",
       "      <td>90</td>\n",
       "      <td>True</td>\n",
       "      <td>2020-01-27T05:11:58+00:00</td>\n",
       "      <td>60004588</td>\n",
       "      <td>1</td>\n",
       "      <td>5597298536</td>\n",
       "      <td>1.00</td>\n",
       "      <td>region</td>\n",
       "      <td>30002510</td>\n",
       "      <td>48376</td>\n",
       "      <td>1000</td>\n",
       "      <td>1000</td>\n",
       "    </tr>\n",
       "    <tr>\n",
       "      <th>5395709904</th>\n",
       "      <td>90</td>\n",
       "      <td>True</td>\n",
       "      <td>2020-02-20T23:30:26+00:00</td>\n",
       "      <td>60004588</td>\n",
       "      <td>1</td>\n",
       "      <td>5395709904</td>\n",
       "      <td>550000.15</td>\n",
       "      <td>region</td>\n",
       "      <td>30002510</td>\n",
       "      <td>2030</td>\n",
       "      <td>3</td>\n",
       "      <td>3</td>\n",
       "    </tr>\n",
       "    <tr>\n",
       "      <th>5554110457</th>\n",
       "      <td>90</td>\n",
       "      <td>True</td>\n",
       "      <td>2019-12-18T14:15:26+00:00</td>\n",
       "      <td>1028991143684</td>\n",
       "      <td>1</td>\n",
       "      <td>5554110457</td>\n",
       "      <td>10000000.00</td>\n",
       "      <td>20</td>\n",
       "      <td>30002507</td>\n",
       "      <td>47371</td>\n",
       "      <td>5</td>\n",
       "      <td>5</td>\n",
       "    </tr>\n",
       "  </tbody>\n",
       "</table>\n",
       "<p>101066 rows × 12 columns</p>\n",
       "</div>"
      ],
      "text/plain": [
       "            duration  is_buy_order                     issued    location_id  \\\n",
       "order_id                                                                       \n",
       "5604786202        90         False  2020-02-07T04:32:45+00:00       60010948   \n",
       "5607213292        90          True  2020-02-27T23:09:20+00:00       60011866   \n",
       "5614331424        90          True  2020-02-22T06:26:02+00:00  1025824394754   \n",
       "5380335439        90          True  2020-02-28T09:16:01+00:00       60011866   \n",
       "5590442672        90          True  2020-02-23T12:07:24+00:00       60011866   \n",
       "...              ...           ...                        ...            ...   \n",
       "5597298425        90          True  2020-01-27T05:11:45+00:00       60004588   \n",
       "5374541783        90          True  2020-01-13T15:09:13+00:00       60004588   \n",
       "5597298536        90          True  2020-01-27T05:11:58+00:00       60004588   \n",
       "5395709904        90          True  2020-02-20T23:30:26+00:00       60004588   \n",
       "5554110457        90          True  2019-12-18T14:15:26+00:00  1028991143684   \n",
       "\n",
       "            min_volume    order_id        price        range  system_id  \\\n",
       "order_id                                                                  \n",
       "5604786202           1  5604786202    250000.00       region   30002692   \n",
       "5607213292           1  5607213292       517.42      station   30002659   \n",
       "5614331424           1  5614331424  25300000.00            1   30002661   \n",
       "5380335439           1  5380335439      6590.59       region   30002659   \n",
       "5590442672           1  5590442672      1113.01      station   30002659   \n",
       "...                ...         ...          ...          ...        ...   \n",
       "5597298425           1  5597298425         1.00       region   30002510   \n",
       "5374541783           1  5374541783  31000128.98  solarsystem   30002510   \n",
       "5597298536           1  5597298536         1.00       region   30002510   \n",
       "5395709904           1  5395709904    550000.15       region   30002510   \n",
       "5554110457           1  5554110457  10000000.00           20   30002507   \n",
       "\n",
       "            type_id  volume_remain  volume_total  \n",
       "order_id                                          \n",
       "5604786202    19980              1             1  \n",
       "5607213292    27401           4767         10000  \n",
       "5614331424    10213              3             3  \n",
       "5380335439    21430          88474         99000  \n",
       "5590442672      247          99894        100000  \n",
       "...             ...            ...           ...  \n",
       "5597298425    48375           1000          1000  \n",
       "5374541783    47700              7            10  \n",
       "5597298536    48376           1000          1000  \n",
       "5395709904     2030              3             3  \n",
       "5554110457    47371              5             5  \n",
       "\n",
       "[101066 rows x 12 columns]"
      ]
     },
     "execution_count": 72,
     "metadata": {},
     "output_type": "execute_result"
    }
   ],
   "source": [
    "df[df.duration == 90]"
   ]
  },
  {
   "cell_type": "code",
   "execution_count": 81,
   "metadata": {},
   "outputs": [
    {
     "ename": "IndexError",
     "evalue": "only integers, slices (`:`), ellipsis (`...`), numpy.newaxis (`None`) and integer or boolean arrays are valid indices",
     "output_type": "error",
     "traceback": [
      "\u001b[1;31m---------------------------------------------------------------------------\u001b[0m",
      "\u001b[1;31mIndexError\u001b[0m                                Traceback (most recent call last)",
      "\u001b[1;32m<ipython-input-81-a8bebdb27e6d>\u001b[0m in \u001b[0;36m<module>\u001b[1;34m()\u001b[0m\n\u001b[1;32m----> 1\u001b[1;33m \u001b[0mdf\u001b[0m\u001b[1;33m.\u001b[0m\u001b[0mset_index\u001b[0m\u001b[1;33m(\u001b[0m\u001b[1;33m[\u001b[0m\u001b[1;34m'type_id'\u001b[0m\u001b[1;33m,\u001b[0m \u001b[1;34m'order_id'\u001b[0m\u001b[1;33m]\u001b[0m\u001b[1;33m)\u001b[0m\u001b[1;33m.\u001b[0m\u001b[0msort_index\u001b[0m\u001b[1;33m(\u001b[0m\u001b[1;33m)\u001b[0m\u001b[1;33m.\u001b[0m\u001b[0mindex\u001b[0m\u001b[1;33m[\u001b[0m\u001b[1;34m'type_id'\u001b[0m\u001b[1;33m]\u001b[0m\u001b[1;33m\u001b[0m\u001b[0m\n\u001b[0m",
      "\u001b[1;32mc:\\program files\\python36\\lib\\site-packages\\pandas\\core\\indexes\\multi.py\u001b[0m in \u001b[0;36m__getitem__\u001b[1;34m(self, key)\u001b[0m\n\u001b[0;32m   1931\u001b[0m             \u001b[0mretval\u001b[0m \u001b[1;33m=\u001b[0m \u001b[1;33m[\u001b[0m\u001b[1;33m]\u001b[0m\u001b[1;33m\u001b[0m\u001b[0m\n\u001b[0;32m   1932\u001b[0m             \u001b[1;32mfor\u001b[0m \u001b[0mlev\u001b[0m\u001b[1;33m,\u001b[0m \u001b[0mlevel_codes\u001b[0m \u001b[1;32min\u001b[0m \u001b[0mzip\u001b[0m\u001b[1;33m(\u001b[0m\u001b[0mself\u001b[0m\u001b[1;33m.\u001b[0m\u001b[0mlevels\u001b[0m\u001b[1;33m,\u001b[0m \u001b[0mself\u001b[0m\u001b[1;33m.\u001b[0m\u001b[0mcodes\u001b[0m\u001b[1;33m)\u001b[0m\u001b[1;33m:\u001b[0m\u001b[1;33m\u001b[0m\u001b[0m\n\u001b[1;32m-> 1933\u001b[1;33m                 \u001b[1;32mif\u001b[0m \u001b[0mlevel_codes\u001b[0m\u001b[1;33m[\u001b[0m\u001b[0mkey\u001b[0m\u001b[1;33m]\u001b[0m \u001b[1;33m==\u001b[0m \u001b[1;33m-\u001b[0m\u001b[1;36m1\u001b[0m\u001b[1;33m:\u001b[0m\u001b[1;33m\u001b[0m\u001b[0m\n\u001b[0m\u001b[0;32m   1934\u001b[0m                     \u001b[0mretval\u001b[0m\u001b[1;33m.\u001b[0m\u001b[0mappend\u001b[0m\u001b[1;33m(\u001b[0m\u001b[0mnp\u001b[0m\u001b[1;33m.\u001b[0m\u001b[0mnan\u001b[0m\u001b[1;33m)\u001b[0m\u001b[1;33m\u001b[0m\u001b[0m\n\u001b[0;32m   1935\u001b[0m                 \u001b[1;32melse\u001b[0m\u001b[1;33m:\u001b[0m\u001b[1;33m\u001b[0m\u001b[0m\n",
      "\u001b[1;31mIndexError\u001b[0m: only integers, slices (`:`), ellipsis (`...`), numpy.newaxis (`None`) and integer or boolean arrays are valid indices"
     ]
    }
   ],
   "source": [
    "df.set_index(['type_id', 'order_id']).sort_index().index['type_id']"
   ]
  },
  {
   "cell_type": "code",
   "execution_count": 66,
   "metadata": {},
   "outputs": [
    {
     "data": {
      "application/vnd.jupyter.widget-view+json": {
       "model_id": "037fec796fd741948e6621fe26b5eacb",
       "version_major": 2,
       "version_minor": 0
      },
      "text/plain": [
       "HBox(children=(FloatProgress(value=0.0, max=8285.0), HTML(value='')))"
      ]
     },
     "metadata": {},
     "output_type": "display_data"
    },
    {
     "name": "stdout",
     "output_type": "stream",
     "text": [
      "\n"
     ]
    }
   ],
   "source": [
    "regions = [\n",
    "    (s, get_region_id(s))\n",
    "    for s in tqdm(systems)\n",
    "]\n",
    "\n",
    "pd.DataFrame(regions, columns = ['system', 'region']).set_index('system').to_csv('universe/systems_region.csv')"
   ]
  },
  {
   "cell_type": "code",
   "execution_count": null,
   "metadata": {},
   "outputs": [],
   "source": []
  }
 ],
 "metadata": {
  "kernelspec": {
   "display_name": "Python 3",
   "language": "python",
   "name": "python3"
  },
  "language_info": {
   "codemirror_mode": {
    "name": "ipython",
    "version": 3
   },
   "file_extension": ".py",
   "mimetype": "text/x-python",
   "name": "python",
   "nbconvert_exporter": "python",
   "pygments_lexer": "ipython3",
   "version": "3.6.2"
  }
 },
 "nbformat": 4,
 "nbformat_minor": 4
}
