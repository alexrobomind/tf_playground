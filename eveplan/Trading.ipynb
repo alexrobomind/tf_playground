{
 "cells": [
  {
   "cell_type": "code",
   "execution_count": 1,
   "metadata": {},
   "outputs": [],
   "source": [
    "import tensorflow as tf\n",
    "import tensorflow_probability as tfp\n",
    "import numpy as np\n",
    "import pandas as pd\n",
    "import networkx as nx\n",
    "import matplotlib.pyplot as plt\n",
    "import multiprocessing as mp\n",
    "\n",
    "import pickle\n",
    "import json\n",
    "import functools\n",
    "import matplotlib\n",
    "import itertools\n",
    "import copy\n",
    "\n",
    "import esipy as esi\n",
    "\n",
    "from tqdm.notebook import tqdm, trange\n",
    "\n",
    "import requests\n",
    "import time"
   ]
  },
  {
   "cell_type": "code",
   "execution_count": 2,
   "metadata": {},
   "outputs": [
    {
     "name": "stdout",
     "output_type": "stream",
     "text": [
      "1 Physical GPUs, 1 Logical GPUs\n"
     ]
    }
   ],
   "source": [
    "gpus = tf.config.experimental.list_physical_devices('GPU')\n",
    "\n",
    "# Currently, memory growth needs to be the same across GPUs\n",
    "for gpu in gpus:\n",
    "    tf.config.experimental.set_memory_growth(gpu, True)\n",
    "    \n",
    "logical_gpus = tf.config.experimental.list_logical_devices('GPU')\n",
    "print(len(gpus), \"Physical GPUs,\", len(logical_gpus), \"Logical GPUs\")"
   ]
  },
  {
   "cell_type": "code",
   "execution_count": 3,
   "metadata": {},
   "outputs": [],
   "source": [
    "import time\n",
    "\n",
    "class Timer:    \n",
    "    def __enter__(self):\n",
    "        self.start = time.clock()\n",
    "        return self\n",
    "\n",
    "    def __exit__(self, *args):\n",
    "        self.end = time.clock()\n",
    "        self.interval = self.end - self.start\n",
    "        \n",
    "        print(self.interval)"
   ]
  },
  {
   "cell_type": "code",
   "execution_count": 4,
   "metadata": {},
   "outputs": [
    {
     "name": "stderr",
     "output_type": "stream",
     "text": [
      "Defining a 'User-Agent' header is a good practice, and allows CCP to contact you if required. To do this, simply add the following when creating the client: headers={'User-Agent':'something'}.\n",
      "d:\\programme\\python 3.6.6\\lib\\site-packages\\esipy\\client.py:82: UserWarning: Defining a 'User-Agent' header is a good practice, and allows CCP to contact you if required. To do this, simply add the following when creating the client: headers={'User-Agent':'something'}.\n",
      "  warnings.warn(warning_message)\n"
     ]
    }
   ],
   "source": [
    "# Set up network access\n",
    "esi_client = esi.EsiClient(\n",
    "    transport_adapter = requests.adapters.HTTPAdapter(\n",
    "        pool_connections=100,\n",
    "        pool_maxsize=100,\n",
    "        max_retries=10,\n",
    "        pool_block=False\n",
    "    )\n",
    ")\n",
    "esi_app    = esi.EsiApp()\n",
    "\n",
    "app = esi_app.get_latest_swagger\n",
    "\n",
    "def try_request(req):\n",
    "    while True:\n",
    "        response = esi_client.request(req)\n",
    "        \n",
    "        if response.status == 200:\n",
    "            return response.data\n",
    "        \n",
    "        print(response.status)\n",
    "        print(response.header)\n",
    "        time.sleep(5)"
   ]
  },
  {
   "cell_type": "code",
   "execution_count": 5,
   "metadata": {},
   "outputs": [
    {
     "name": "stdout",
     "output_type": "stream",
     "text": [
      "Loading constellation data ...\n"
     ]
    },
    {
     "data": {
      "application/vnd.jupyter.widget-view+json": {
       "model_id": "9bf0a54845a940f791d99f8cacc5f08e",
       "version_major": 2,
       "version_minor": 0
      },
      "text/plain": [
       "HBox(children=(FloatProgress(value=0.0, max=1146.0), HTML(value='')))"
      ]
     },
     "metadata": {},
     "output_type": "display_data"
    },
    {
     "name": "stdout",
     "output_type": "stream",
     "text": [
      "\n"
     ]
    }
   ],
   "source": [
    "def intd(f):\n",
    "    return {int(k) : v for k,v in json.load(f).items()};\n",
    "\n",
    "with open('universe/systems.txt') as f:\n",
    "    systems = intd(f);\n",
    "\n",
    "with open('universe/stargates.txt') as f:\n",
    "    stargates = intd(f);\n",
    "    \n",
    "with open('universe/market_types.txt') as f:\n",
    "    types = intd(f)\n",
    "\n",
    "print('Loading constellation data ...')\n",
    "constellation_ids = esi_client.request(\n",
    "    app.op['get_universe_constellations']()\n",
    ").data\n",
    "\n",
    "constellations = {\n",
    "    i : try_request(app.op['get_universe_constellations_constellation_id'](constellation_id = i))\n",
    "    for i in tqdm(constellation_ids)\n",
    "}"
   ]
  },
  {
   "cell_type": "code",
   "execution_count": 6,
   "metadata": {},
   "outputs": [
    {
     "name": "stdout",
     "output_type": "stream",
     "text": [
      "972\n",
      "Computing system distances\n"
     ]
    },
    {
     "data": {
      "application/vnd.jupyter.widget-view+json": {
       "model_id": "d9c1bc641f6d4496b30ed09b046f8f55",
       "version_major": 2,
       "version_minor": 0
      },
      "text/plain": [
       "HBox(children=(FloatProgress(value=0.0, max=972.0), HTML(value='')))"
      ]
     },
     "metadata": {},
     "output_type": "display_data"
    },
    {
     "name": "stdout",
     "output_type": "stream",
     "text": [
      "\n"
     ]
    }
   ],
   "source": [
    "systems_graph = nx.Graph();\n",
    "\n",
    "for system in systems:\n",
    "    systems_graph.add_node(system);\n",
    "\n",
    "for stargate in stargates.values():\n",
    "    systems_graph.add_edge(stargate[\"system_id\"], stargate[\"destination\"][\"system_id\"])\n",
    "\n",
    "root = 'Jita'\n",
    "root_id = [v for v in systems if systems[v][\"name\"] == root][0]\n",
    "\n",
    "# Limit to high-sec systems\n",
    "subselect = [k for k in systems if systems[k][\"security_status\"] >= 0.5]\n",
    "subgraph = systems_graph.subgraph(subselect)\n",
    "\n",
    "# Limit to component connected to Jita\n",
    "subselect = nx.node_connected_component(subgraph, root_id)\n",
    "subgraph = systems_graph.subgraph(subselect)\n",
    "print(len(subgraph))\n",
    "\n",
    "system_ids = list(subgraph)\n",
    "type_ids = list(types)\n",
    "\n",
    "landmark_names = ['Jita', 'Amarr', 'Rens', 'Hek', 'Dodixie', 'Oursulaert', 'Tash-Murkon Prime', 'Agil'];\n",
    "landmarks = [v[\"system_id\"] for v in systems.values() if v[\"name\"] in landmark_names]\n",
    "\n",
    "# Compute pair-wise distances\n",
    "print('Computing system distances')\n",
    "distances = dict(tqdm(nx.shortest_path_length(subgraph), total = len(subgraph)))\n",
    "\n",
    "@functools.lru_cache(maxsize=None)\n",
    "def system_distance(s1, s2):\n",
    "    #return nx.shortest_path_length(subgraph, s1, s2)\n",
    "    return distances[s1][s2]\n",
    "\n",
    "@functools.lru_cache(maxsize=None)\n",
    "def get_region_id(system_id):\n",
    "    return constellations[systems[system_id][\"constellation_id\"]].region_id\n",
    "\n",
    "@functools.lru_cache(maxsize=None)\n",
    "def get_station(station_id):\n",
    "    esi_op = app.op['get_universe_stations_station_id'](station_id = station_id);\n",
    "    return esi_client.request(esi_op).data\n",
    "\n",
    "@functools.lru_cache(maxsize=None)\n",
    "def in_highsec(station_id):\n",
    "    try:\n",
    "        return get_station(station_id).system_id in subgraph\n",
    "    except:\n",
    "        return False"
   ]
  },
  {
   "cell_type": "code",
   "execution_count": 7,
   "metadata": {},
   "outputs": [
    {
     "name": "stdout",
     "output_type": "stream",
     "text": [
      "Loading regions\n",
      "Loading market orders\n"
     ]
    },
    {
     "data": {
      "application/vnd.jupyter.widget-view+json": {
       "model_id": "dd53336713db4222963313b432acdbba",
       "version_major": 2,
       "version_minor": 0
      },
      "text/plain": [
       "HBox(children=(FloatProgress(value=0.0, description='Regions', max=20.0, style=ProgressStyle(description_width…"
      ]
     },
     "metadata": {},
     "output_type": "display_data"
    },
    {
     "name": "stdout",
     "output_type": "stream",
     "text": [
      "Loading orders in Sinq Laison\n"
     ]
    },
    {
     "data": {
      "application/vnd.jupyter.widget-view+json": {
       "model_id": "be9b9d08447441d8a549d1572e9462aa",
       "version_major": 2,
       "version_minor": 0
      },
      "text/plain": [
       "HBox(children=(FloatProgress(value=0.0, description='Pages', max=104.0, style=ProgressStyle(description_width=…"
      ]
     },
     "metadata": {},
     "output_type": "display_data"
    },
    {
     "name": "stdout",
     "output_type": "stream",
     "text": [
      "\n",
      "Loading orders in The Citadel\n"
     ]
    },
    {
     "data": {
      "application/vnd.jupyter.widget-view+json": {
       "model_id": "1e822ecc217c44b082896afd1bf86a35",
       "version_major": 2,
       "version_minor": 0
      },
      "text/plain": [
       "HBox(children=(FloatProgress(value=0.0, description='Pages', max=53.0, style=ProgressStyle(description_width='…"
      ]
     },
     "metadata": {},
     "output_type": "display_data"
    },
    {
     "name": "stdout",
     "output_type": "stream",
     "text": [
      "\n",
      "Loading orders in The Forge\n"
     ]
    },
    {
     "data": {
      "application/vnd.jupyter.widget-view+json": {
       "model_id": "f1fe8753666c4d1298a5fdababbf9427",
       "version_major": 2,
       "version_minor": 0
      },
      "text/plain": [
       "HBox(children=(FloatProgress(value=0.0, description='Pages', max=288.0, style=ProgressStyle(description_width=…"
      ]
     },
     "metadata": {},
     "output_type": "display_data"
    },
    {
     "name": "stdout",
     "output_type": "stream",
     "text": [
      "\n",
      "Loading orders in Genesis\n"
     ]
    },
    {
     "data": {
      "application/vnd.jupyter.widget-view+json": {
       "model_id": "4b1b232128f1429b9353abc7ec652b62",
       "version_major": 2,
       "version_minor": 0
      },
      "text/plain": [
       "HBox(children=(FloatProgress(value=0.0, description='Pages', max=31.0, style=ProgressStyle(description_width='…"
      ]
     },
     "metadata": {},
     "output_type": "display_data"
    },
    {
     "name": "stdout",
     "output_type": "stream",
     "text": [
      "\n",
      "Loading orders in Verge Vendor\n"
     ]
    },
    {
     "data": {
      "application/vnd.jupyter.widget-view+json": {
       "model_id": "8aeabb2df76c431a976a166025096262",
       "version_major": 2,
       "version_minor": 0
      },
      "text/plain": [
       "HBox(children=(FloatProgress(value=0.0, description='Pages', max=30.0, style=ProgressStyle(description_width='…"
      ]
     },
     "metadata": {},
     "output_type": "display_data"
    },
    {
     "name": "stdout",
     "output_type": "stream",
     "text": [
      "\n",
      "Loading orders in Devoid\n"
     ]
    },
    {
     "data": {
      "application/vnd.jupyter.widget-view+json": {
       "model_id": "74ca99c812a84caa8e886c1ac534aabd",
       "version_major": 2,
       "version_minor": 0
      },
      "text/plain": [
       "HBox(children=(FloatProgress(value=0.0, description='Pages', max=12.0, style=ProgressStyle(description_width='…"
      ]
     },
     "metadata": {},
     "output_type": "display_data"
    },
    {
     "name": "stdout",
     "output_type": "stream",
     "text": [
      "\n",
      "Loading orders in Kor-Azor\n"
     ]
    },
    {
     "data": {
      "application/vnd.jupyter.widget-view+json": {
       "model_id": "e1138cfd1ef247e9ae799a642f796c66",
       "version_major": 2,
       "version_minor": 0
      },
      "text/plain": [
       "HBox(children=(FloatProgress(value=0.0, description='Pages', max=20.0, style=ProgressStyle(description_width='…"
      ]
     },
     "metadata": {},
     "output_type": "display_data"
    },
    {
     "name": "stdout",
     "output_type": "stream",
     "text": [
      "\n",
      "Loading orders in Everyshore\n"
     ]
    },
    {
     "data": {
      "application/vnd.jupyter.widget-view+json": {
       "model_id": "bfa421ef27214070a5d1c65a868f5932",
       "version_major": 2,
       "version_minor": 0
      },
      "text/plain": [
       "HBox(children=(FloatProgress(value=0.0, description='Pages', max=24.0, style=ProgressStyle(description_width='…"
      ]
     },
     "metadata": {},
     "output_type": "display_data"
    },
    {
     "name": "stdout",
     "output_type": "stream",
     "text": [
      "\n",
      "Loading orders in Essence\n"
     ]
    },
    {
     "data": {
      "application/vnd.jupyter.widget-view+json": {
       "model_id": "acec1ec4e5294c1dbcb389e0d3981dc9",
       "version_major": 2,
       "version_minor": 0
      },
      "text/plain": [
       "HBox(children=(FloatProgress(value=0.0, description='Pages', max=43.0, style=ProgressStyle(description_width='…"
      ]
     },
     "metadata": {},
     "output_type": "display_data"
    },
    {
     "name": "stdout",
     "output_type": "stream",
     "text": [
      "\n",
      "Loading orders in Derelik\n"
     ]
    },
    {
     "data": {
      "application/vnd.jupyter.widget-view+json": {
       "model_id": "d4184c66777c44cfbad16e2955e7e5bd",
       "version_major": 2,
       "version_minor": 0
      },
      "text/plain": [
       "HBox(children=(FloatProgress(value=0.0, description='Pages', max=18.0, style=ProgressStyle(description_width='…"
      ]
     },
     "metadata": {},
     "output_type": "display_data"
    },
    {
     "name": "stdout",
     "output_type": "stream",
     "text": [
      "\n",
      "Loading orders in Metropolis\n"
     ]
    },
    {
     "data": {
      "application/vnd.jupyter.widget-view+json": {
       "model_id": "6c9b6fa34f5e43ad860be732c2ce6001",
       "version_major": 2,
       "version_minor": 0
      },
      "text/plain": [
       "HBox(children=(FloatProgress(value=0.0, description='Pages', style=ProgressStyle(description_width='initial'))…"
      ]
     },
     "metadata": {},
     "output_type": "display_data"
    },
    {
     "name": "stdout",
     "output_type": "stream",
     "text": [
      "\n",
      "Loading orders in Domain\n"
     ]
    },
    {
     "data": {
      "application/vnd.jupyter.widget-view+json": {
       "model_id": "bba839e8098c43b398125da281e50cc6",
       "version_major": 2,
       "version_minor": 0
      },
      "text/plain": [
       "HBox(children=(FloatProgress(value=0.0, description='Pages', max=144.0, style=ProgressStyle(description_width=…"
      ]
     },
     "metadata": {},
     "output_type": "display_data"
    },
    {
     "name": "stdout",
     "output_type": "stream",
     "text": [
      "\n",
      "Loading orders in The Bleak Lands\n"
     ]
    },
    {
     "data": {
      "application/vnd.jupyter.widget-view+json": {
       "model_id": "187375e872de433990ac7d2530711a26",
       "version_major": 2,
       "version_minor": 0
      },
      "text/plain": [
       "HBox(children=(FloatProgress(value=0.0, description='Pages', max=12.0, style=ProgressStyle(description_width='…"
      ]
     },
     "metadata": {},
     "output_type": "display_data"
    },
    {
     "name": "stdout",
     "output_type": "stream",
     "text": [
      "\n",
      "Loading orders in Lonetrek\n"
     ]
    },
    {
     "data": {
      "application/vnd.jupyter.widget-view+json": {
       "model_id": "dc5ce436428e49b09cb2f1561d58992b",
       "version_major": 2,
       "version_minor": 0
      },
      "text/plain": [
       "HBox(children=(FloatProgress(value=0.0, description='Pages', max=68.0, style=ProgressStyle(description_width='…"
      ]
     },
     "metadata": {},
     "output_type": "display_data"
    },
    {
     "name": "stdout",
     "output_type": "stream",
     "text": [
      "\n",
      "Loading orders in Placid\n"
     ]
    },
    {
     "data": {
      "application/vnd.jupyter.widget-view+json": {
       "model_id": "feec837577a94fe09fd9132c755e5454",
       "version_major": 2,
       "version_minor": 0
      },
      "text/plain": [
       "HBox(children=(FloatProgress(value=0.0, description='Pages', max=37.0, style=ProgressStyle(description_width='…"
      ]
     },
     "metadata": {},
     "output_type": "display_data"
    },
    {
     "name": "stdout",
     "output_type": "stream",
     "text": [
      "\n",
      "Loading orders in Khanid\n"
     ]
    },
    {
     "data": {
      "application/vnd.jupyter.widget-view+json": {
       "model_id": "caabaf5e9f0149838ecdde0ecbea549d",
       "version_major": 2,
       "version_minor": 0
      },
      "text/plain": [
       "HBox(children=(FloatProgress(value=0.0, description='Pages', max=8.0, style=ProgressStyle(description_width='i…"
      ]
     },
     "metadata": {},
     "output_type": "display_data"
    },
    {
     "name": "stdout",
     "output_type": "stream",
     "text": [
      "\n",
      "Loading orders in Tash-Murkon\n"
     ]
    },
    {
     "data": {
      "application/vnd.jupyter.widget-view+json": {
       "model_id": "762bc935de7e40ddbac0c73bb2be4ef8",
       "version_major": 2,
       "version_minor": 0
      },
      "text/plain": [
       "HBox(children=(FloatProgress(value=0.0, description='Pages', max=38.0, style=ProgressStyle(description_width='…"
      ]
     },
     "metadata": {},
     "output_type": "display_data"
    },
    {
     "name": "stdout",
     "output_type": "stream",
     "text": [
      "\n",
      "Loading orders in Kador\n"
     ]
    },
    {
     "data": {
      "application/vnd.jupyter.widget-view+json": {
       "model_id": "36d4444dffea430c877ed55e2b491bbc",
       "version_major": 2,
       "version_minor": 0
      },
      "text/plain": [
       "HBox(children=(FloatProgress(value=0.0, description='Pages', max=24.0, style=ProgressStyle(description_width='…"
      ]
     },
     "metadata": {},
     "output_type": "display_data"
    },
    {
     "name": "stdout",
     "output_type": "stream",
     "text": [
      "\n",
      "Loading orders in Molden Heath\n"
     ]
    },
    {
     "data": {
      "application/vnd.jupyter.widget-view+json": {
       "model_id": "8ff1fdb5538c45af9d7c477d657cfe53",
       "version_major": 2,
       "version_minor": 0
      },
      "text/plain": [
       "HBox(children=(FloatProgress(value=0.0, description='Pages', max=21.0, style=ProgressStyle(description_width='…"
      ]
     },
     "metadata": {},
     "output_type": "display_data"
    },
    {
     "name": "stdout",
     "output_type": "stream",
     "text": [
      "\n",
      "Loading orders in Heimatar\n"
     ]
    },
    {
     "data": {
      "application/vnd.jupyter.widget-view+json": {
       "model_id": "682f736b206e4fdc8722c6edcb8e9fa4",
       "version_major": 2,
       "version_minor": 0
      },
      "text/plain": [
       "HBox(children=(FloatProgress(value=0.0, description='Pages', max=70.0, style=ProgressStyle(description_width='…"
      ]
     },
     "metadata": {},
     "output_type": "display_data"
    },
    {
     "name": "stdout",
     "output_type": "stream",
     "text": [
      "\n",
      "\n"
     ]
    }
   ],
   "source": [
    "# Load orders from EVE\n",
    "region_id = get_region_id(root_id)\n",
    "\n",
    "print('Loading regions')\n",
    "#region_ids = esi_client.request(app.op['get_universe_regions']()).data\n",
    "region_ids = list(set(\n",
    "    get_region_id(system_id) for system_id in subgraph\n",
    "))\n",
    "\n",
    "print('Loading market orders')\n",
    "\n",
    "def requests_in_region(region_id):\n",
    "    region = esi_client.request(\n",
    "        app.op['get_universe_regions_region_id'](region_id = region_id)\n",
    "    ).data\n",
    "    \n",
    "    print('Loading orders in {}'.format(region.name))\n",
    "    n_pages = esi_client.request(\n",
    "        app.op['get_markets_region_id_orders'](region_id = region_id)\n",
    "    ).header['X-pages'][0]\n",
    "\n",
    "    p = mp.pool.ThreadPool(1)\n",
    "\n",
    "    requests = [\n",
    "        app.op['get_markets_region_id_orders'](region_id = region_id, page = page)\n",
    "        for page in range(1, n_pages + 1)\n",
    "    ]\n",
    "    \n",
    "    return requests\n",
    "\n",
    "orders = {\n",
    "    region_id : {\n",
    "        type_id : list(orders)\n",
    "        for (type_id, orders) in itertools.groupby(\n",
    "            (\n",
    "                result\n",
    "                for request in tqdm(requests_in_region(region_id), desc = 'Pages')\n",
    "                for result in try_request(request)\n",
    "            )\n",
    "            , lambda x : x.type_id\n",
    "        )\n",
    "    }\n",
    "    for region_id in tqdm(region_ids, desc = 'Regions')\n",
    "}"
   ]
  },
  {
   "cell_type": "code",
   "execution_count": 113,
   "metadata": {},
   "outputs": [],
   "source": [
    "## Structure of the state space\n",
    "class StateProp:\n",
    "    def __init__(self, default, convert = (lambda x: x, lambda x: x)):\n",
    "        self.convert_in = convert[0]\n",
    "        self.convert_out = convert[1]\n",
    "        self.default = default\n",
    "\n",
    "def to_fixed(x):\n",
    "    if x is None:\n",
    "        return None\n",
    "    return State(x)\n",
    "\n",
    "def to_mutable(x):\n",
    "    if x is None:\n",
    "        return none\n",
    "    return MutableState(x)\n",
    "\n",
    "# Dict props should be stored as (key, value) tuples\n",
    "dict_prop = (lambda x: tuple((i for i in x.items())), lambda x: {k:v for (k,v) in x})\n",
    "\n",
    "state_props = {\n",
    "    # Position of the ship\n",
    "    'system' : StateProp(0),\n",
    "    'station' : StateProp(None),\n",
    "    \n",
    "    # Configuration of the ship\n",
    "    'volume_limit' : StateProp(0),\n",
    "    'collateral_limit' : StateProp(0),\n",
    "    \n",
    "    # Resource balance\n",
    "    'time_left' : StateProp(0),\n",
    "    'wallet' : StateProp(0),\n",
    "    'cargo' : StateProp({}, dict_prop),\n",
    "    \n",
    "    # Market cursors\n",
    "    'market_group' : StateProp(None),\n",
    "    'market_item' : StateProp(None),\n",
    "    'last_modified_item' : StateProp(None),\n",
    "    'updated_orders' : StateProp({}, dict_prop)\n",
    "}\n",
    "    \n",
    "# Implementation of the state space\n",
    "class State:\n",
    "    def __init__(self, inp):\n",
    "        for name, prop in state_props.items():\n",
    "            inval = getattr(inp, name, prop.default)\n",
    "            inval = prop.convert_in(inval)\n",
    "            object.__setattr__(self, '_prop_' + name, inval)\n",
    "            \n",
    "        self._encode_cache = None\n",
    "    \n",
    "    def __getattr__(self, name):\n",
    "        if name in state_props:\n",
    "            return getattr(self, '_prop_' + name)\n",
    "        else:\n",
    "            raise AttributeError('Unknown attribute ' + name)\n",
    "    \n",
    "    def __setattr__(self, name, val):\n",
    "        if name in state_props:\n",
    "            raise AttributeError('Attribute {} is immutable'.format(name))\n",
    "        \n",
    "        object.__setattr__(self, name, val)\n",
    "    \n",
    "    def __hash__(self):\n",
    "        h = 0\n",
    "        \n",
    "        for name in state_props:\n",
    "            h = h ^ hash(getattr(self, name))\n",
    "        \n",
    "        return h\n",
    "    \n",
    "    def __eq__(self, other):\n",
    "        for name in state_props:\n",
    "            if getattr(self, name) != getattr(other, name):\n",
    "                return False\n",
    "        \n",
    "        return True\n",
    "    \n",
    "    def __repr__(self):\n",
    "        (vleft, cleft) = self.limits_left()\n",
    "        vmax = self.volume_limit\n",
    "        cmax = self.collateral_limit\n",
    "        v = vmax - vleft\n",
    "        c = cmax - cleft\n",
    "        \n",
    "        def cinfo(cid):\n",
    "            def locinfo(lid):\n",
    "                if(self.station == lid):\n",
    "                    return \"Here\"\n",
    "                \n",
    "                system = get_station(lid).system_id\n",
    "                if(system == self.system):\n",
    "                    return \"In system\"\n",
    "                \n",
    "                return \"{} jumps\".format(nx.shortest_path_length(subgraph, system, self.system))\n",
    "            \n",
    "            c = contracts[cid]\n",
    "                \n",
    "            return \"{cid} ({l1} -> {l2})\".format(\n",
    "                l1 = locinfo(c.start_location_id),\n",
    "                l2 = locinfo(c.end_location_id),\n",
    "                cid = cid\n",
    "            )\n",
    "        return \"\"\"\n",
    "State:\n",
    "    Time left: {t}\n",
    "    \n",
    "    System:  {system}\n",
    "    Station: {station}\n",
    "    \n",
    "    Collateral: {c} / {cmax} ({cleft} left)\n",
    "    Cargo:      {v} / {vmax} ({vleft} left)\n",
    "    \n",
    "    Value:     {val}\n",
    "        \"\"\".format(\n",
    "            t = self.time_left,\n",
    "            system = self.system,\n",
    "            station = self.station,\n",
    "            c = c, cmax = cmax, cleft = cleft,\n",
    "            v = v, vmax = vmax, vleft = vleft,\n",
    "            val = self.value\n",
    "        )\n",
    "    \n",
    "    def limits_left(self):\n",
    "        total_vol = 0\n",
    "        total_col = 0\n",
    "        \n",
    "        for item, (count, value) in self.cargo:\n",
    "            total_vol += types[item][\"volume\"] * count\n",
    "            total_col += value\n",
    "        \n",
    "        return (self.volume_limit - total_vol, self.collateral_limit - total_col)\n",
    "    \n",
    "    def validate(self):\n",
    "        (v, c) = self.limits_left()\n",
    "        assert v >= 0, 'Volume exceeded'\n",
    "        assert c >= 0, 'Collateral exceeded'\n",
    "        \n",
    "        assert self.time_left >= 0, 'Out of time'\n",
    "    \n",
    "    @property\n",
    "    def value(self):\n",
    "        return self.wallet\n",
    "        \n",
    "\n",
    "# Helper class for incremental state modification\n",
    "class MutableState:\n",
    "    def __init__(self, other = None):\n",
    "        if other is None:\n",
    "            for name, prop in state_props.items():\n",
    "                setattr(self, name, copy.copy(prop.default))\n",
    "        else:\n",
    "            for name, prop in state_props.items():\n",
    "                setattr(self, name, prop.convert_out(getattr(other, name)))"
   ]
  },
  {
   "cell_type": "code",
   "execution_count": 114,
   "metadata": {},
   "outputs": [],
   "source": [
    "# --- Marker broker simulation ---\n",
    "def market_transaction(state, type_id, amount, order_type):\n",
    "    assert order_type in ['buy', 'sell']\n",
    "    \n",
    "    # For the duration of this function, we need this element to exist\n",
    "    if type_id not in state.cargo:\n",
    "        state.cargo[type_id] = (0, 0)\n",
    "    \n",
    "    # Get all possible orders in appropriate order\n",
    "    candidate_orders = orders[get_region_id(state.system)][type_id]\n",
    "    candidate_orders = [o for o in candidate_orders if o.location_id == state.station]\n",
    "    candidate_orders.sort(key = lambda x: x.price, reverse = order_type == 'sell')\n",
    "    \n",
    "    # Check that we only sell as many items as we have\n",
    "    if order_type == 'sell':\n",
    "        amount = min(amount, state.cargo[type_id][0])    \n",
    "    \n",
    "    factor = 1 if order_type == 'buy' else -1\n",
    "    \n",
    "    for order in candidate_orders:\n",
    "        # Check if we even need anything more\n",
    "        if amount == 0:\n",
    "            break\n",
    "        \n",
    "        # Check if we can get something from this order\n",
    "        remaining = order.amount_remaining\n",
    "        \n",
    "        if order.order_id in state.updated_orders:\n",
    "            remaining = state.updated_orders[order.order_id]\n",
    "                \n",
    "        transfer = min(amount, remaining)\n",
    "        \n",
    "        # Don't buy more than we can afford or store on our ship\n",
    "        if order_type == 'buy':\n",
    "            transfer = min(\n",
    "                transfer,\n",
    "                int(state.wallet / order.price)\n",
    "            )\n",
    "    \n",
    "            vol_left, coll_left = state.limits_left()\n",
    "            can_store = int(min(\n",
    "                vol_left / types[type_id].volume,\n",
    "                coll_left / order.price\n",
    "            ))\n",
    "            \n",
    "            transfer = min(\n",
    "                transfer,\n",
    "                can_store\n",
    "            )\n",
    "        \n",
    "        if transfer == 0:\n",
    "            continue\n",
    "        \n",
    "        # Conduct transaction\n",
    "        delta = transfer if order_type == 'buy' else -transfer\n",
    "        state.wallet -= delta * order.price\n",
    "        \n",
    "        (cnum, cval) = state.cargo[type_id]\n",
    "        state.cargo[type_id] = (\n",
    "            cnum + delta,\n",
    "            cval + delta * order.price\n",
    "        )\n",
    "        \n",
    "        # Record that the order was partially filled\n",
    "        state.updated_orders[order.order_id] = remaining - transfer\n",
    "        \n",
    "        # Continue buying if neccessary\n",
    "        amount -= transfer\n",
    "    \n",
    "    # Remove empty cargo categories\n",
    "    if state.cargo[type_id][0] == 0:\n",
    "        del state.cargo[type_id]"
   ]
  },
  {
   "cell_type": "code",
   "execution_count": 115,
   "metadata": {},
   "outputs": [],
   "source": [
    "# Action calculus on states\n",
    "\n",
    "warp_time = 1.0\n",
    "accept_range = 5\n",
    "\n",
    "max_volume = 1e6\n",
    "\n",
    "# Wrapper that allows an action to just modify a mutable state representation\n",
    "# and performs validity checking of resulting state\n",
    "class ActionImpl:\n",
    "    def __init__(self, f):\n",
    "        self.wrapped = f\n",
    "    \n",
    "    def __call__(self, state):\n",
    "        s = MutableState(state)\n",
    "        s.last_modified_item = None\n",
    "        self.wrapped(s)\n",
    "        s = State(s)\n",
    "        \n",
    "        s.validate()\n",
    "        \n",
    "        return s\n",
    "        \n",
    "def action(f):\n",
    "    return ActionImpl(f)\n",
    "\n",
    "@functools.lru_cache(maxsize=None)\n",
    "def warp_to(station_id):\n",
    "    station = get_station(station_id)\n",
    "    \n",
    "    distances = nx.shortest_path_length(subgraph, station.system_id)\n",
    "    \n",
    "    @action\n",
    "    def do_warp_to(s):\n",
    "        assert s.station != station_id, 'Cannot warp from to same station'\n",
    "        \n",
    "        if s.system == station.system_id:\n",
    "            t = warp_time\n",
    "        else:\n",
    "            #t = warp_time * nx.shortest_path_length(subgraph, s.system, station.system_id)\n",
    "            t = warp_time * distances[s.system]\n",
    "        \n",
    "        s.station = station_id\n",
    "        s.system = station.system_id\n",
    "        \n",
    "        s.time_left -= t\n",
    "    \n",
    "    return do_warp_to\n",
    "\n",
    "@functools.lru_cache(maxsize=None)\n",
    "def warp_to_system(system_id):\n",
    "    distances = nx.shortest_path_length(subgraph, system_id)\n",
    "    \n",
    "    @action\n",
    "    def do_warp_to_system(s):\n",
    "        print(s)\n",
    "        t = warp_time * system_distance(system_id, s.system)\n",
    "        \n",
    "        s.system = system_id\n",
    "        s.station = None\n",
    "        \n",
    "        s.time_left -= t\n",
    "    \n",
    "    return do_warp_to_system\n",
    "    \n",
    "\n",
    "def buy(type_id, amount):\n",
    "    @action\n",
    "    def do_buy(s):\n",
    "        market_transaction(s, type_id, amount, 'buy')\n",
    "        \n",
    "    return do_buy\n",
    "\n",
    "def sell(type_id, amount):\n",
    "    @action\n",
    "    def do_sell(s):\n",
    "        market_transaction(s, type_id, amount, 'sell')\n",
    "    \n",
    "    return do_sell\n",
    "\n",
    "def actions(s):\n",
    "    (vol, col) = s.limits_left()\n",
    "    \n",
    "    accept_actions = [\n",
    "        accept_contract(c)\n",
    "        for c in contracts.values()\n",
    "        if c.volume <= vol and c.collateral <= col\n",
    "    ]\n",
    "    \n",
    "    #jump_actions = [\n",
    "    #    jump_to_system(sys)\n",
    "    #    for sys in subgraph.neighbors(s.system)\n",
    "    #]\n",
    "    \n",
    "    #dock_actions = [\n",
    "    #    warp_to_station(sta)\n",
    "    #    for sta in systems[s.system].get(\"stations\", [])\n",
    "    #]\n",
    "    \n",
    "    warp_targets = [\n",
    "        contracts[cid].start_location_id\n",
    "        for cid in s.accepted\n",
    "    ] + [\n",
    "        contracts[cid].end_location_id\n",
    "        for cid in s.loaded\n",
    "    ]\n",
    "    \n",
    "    warp_actions = [\n",
    "        warp_to(t)\n",
    "        for t in warp_targets\n",
    "    ]\n",
    "    \n",
    "    load_actions = [\n",
    "        load_contract(contracts[cid])\n",
    "        for cid in s.accepted\n",
    "        if s.station is not None and contracts[cid].start_location_id == s.station\n",
    "    ]\n",
    "    \n",
    "    finish_actions = [\n",
    "        finish_contract(contracts[cid])\n",
    "        for cid in s.loaded\n",
    "        if s.station is not None and contracts[cid].end_location_id == s.station\n",
    "    ]\n",
    "    \n",
    "    result = warp_actions + load_actions + finish_actions + accept_actions\n",
    "    \n",
    "    return result\n",
    "\n",
    "def apply_action(a, s):\n",
    "    try:\n",
    "        return a(s)\n",
    "    except AssertionError as e:\n",
    "        return None\n",
    "\n",
    "def apply_actions(s):\n",
    "    return [\n",
    "        s2\n",
    "        for s2 in [apply_action(a, s) for a in actions(s)]\n",
    "        if s2 is not None\n",
    "    ]    "
   ]
  },
  {
   "cell_type": "code",
   "execution_count": 116,
   "metadata": {},
   "outputs": [],
   "source": [
    "# Build a node into a state space traversal graph by expanding every node that maximizes a given heuristic\n",
    "def expand(root, heuristic, count, sort_every = 5):\n",
    "    result = nx.DiGraph()\n",
    "    result.add_node(root)\n",
    "    \n",
    "    unexpanded = [root]\n",
    "    \n",
    "    for counter in trange(0, count):\n",
    "        if not unexpanded:\n",
    "            break;\n",
    "        s = unexpanded.pop()\n",
    "        \n",
    "        new_states = apply_actions(s)\n",
    "        \n",
    "        for s2 in new_states:\n",
    "            if s2 not in result:\n",
    "                result.add_node(s2)\n",
    "                #unexpanded.append(s2)\n",
    "                unexpanded.insert(0, s2)\n",
    "            \n",
    "            result.add_edge(s, s2)\n",
    "        \n",
    "        if counter % sort_every == 0:\n",
    "            unexpanded.sort(key = heuristic)\n",
    "        \n",
    "        counter += 1\n",
    "\n",
    "    return result, frozenset(unexpanded)\n",
    "\n",
    "def get_values(root, g, unexpanded, heuristic):\n",
    "    values = {}\n",
    "    for node in nx.dfs_postorder_nodes(g, root):\n",
    "        # Unexpanded nodes are weighted with their heuristic\n",
    "        if node in unexpanded:\n",
    "            values[node] = heuristic(node)\n",
    "            continue\n",
    "        \n",
    "        # Expanded nodes are weighted with the maximum of successor nodes\n",
    "        # and the known value of the node\n",
    "        val = node.value()\n",
    "        for n2 in g.successors(node):\n",
    "            if n2 not in values:\n",
    "                continue\n",
    "                \n",
    "            val = max(val, values[n2])\n",
    "        \n",
    "        values[node] = val\n",
    "    \n",
    "    return values"
   ]
  },
  {
   "cell_type": "code",
   "execution_count": 117,
   "metadata": {},
   "outputs": [],
   "source": [
    "# Attention layers\n",
    "\n",
    "def full_attention(keys, values, queries):\n",
    "    \"\"\"\n",
    "        keys    - batch_shape + [n_sequence1, dim_k] tensor holding query keys\n",
    "        values  - batch_shape + [n_sequence1, dim_v] tensor holding query results\n",
    "        queries - batch_shape + [n_sequence2, dim_k] tensor holding queries\n",
    "\n",
    "        Returns batch_shape + [n_sequence2, dim_v] tensor holding result\n",
    "    \"\"\"\n",
    "    with tf.name_scope('scaled_dot_product_attention'):\n",
    "        # Compute the [..., n_sequence2, n_sequence1] matrix of weights\n",
    "        weights = tf.linalg.matmul(queries, keys, transpose_b = True)\n",
    "        \n",
    "        # Normalize against the key dimension\n",
    "        dk = tf.cast(tf.shape(keys)[-1], tf.float32)\n",
    "        weights = weights / tf.math.sqrt(dk)\n",
    "        \n",
    "        # Compute softmax over the sequence1 dimension\n",
    "        weights = tf.nn.softmax(weights, axis = -1)\n",
    "        \n",
    "        # Apply weights to values\n",
    "        result = tf.linalg.matmul(weights, values)\n",
    "        \n",
    "        return result\n",
    "\n",
    "\n",
    "def reduced_attention(keys, values, queries):\n",
    "    \"\"\"\n",
    "        keys    - batch_shape + [n_sequence1, dim_k] tensor holding query keys\n",
    "        values  - batch_shape + [n_sequence1, dim_v] tensor holding query results\n",
    "        queries - batch_shape + [n_sequence2, dim_k] tensor holding queries\n",
    "\n",
    "        Returns batch_shape + [n_sequence2, dim_v] tensor holding result\n",
    "    \"\"\"\n",
    "    with tf.name_scope('reduced_scaled_dot_product_attention'):\n",
    "        # Compute the [..., dim_k, dim_v] matrix of weights\n",
    "        weights = tf.linalg.matmul(keys, values, transpose_a = True)\n",
    "        \n",
    "        # Normalize against the key dimension\n",
    "        dk = tf.cast(tf.shape(keys)[-1], tf.float32)\n",
    "        weights = weights / tf.math.sqrt(dk)\n",
    "        \n",
    "        # Compute softmax over the dim_k dimension\n",
    "        weights = tf.nn.softmax(weights, axis = -2)\n",
    "        \n",
    "        # Apply weights to values\n",
    "        result = tf.linalg.matmul(queries, weights)\n",
    "        \n",
    "        return result\n",
    "\n",
    "class MultiHeadedAttention(tf.keras.layers.Layer):\n",
    "    def __init__(self, d_out, d_model, num_heads, f = reduced_attention):\n",
    "        super(MultiHeadedAttention, self).__init__()\n",
    "        self.d_model = d_model\n",
    "        self.num_heads = num_heads\n",
    "    \n",
    "        self.wk = tf.keras.layers.Dense(num_heads * d_model, name = 'Wk')\n",
    "        self.wv = tf.keras.layers.Dense(num_heads * d_model, name = 'Wv')\n",
    "        self.wq = tf.keras.layers.Dense(num_heads * d_model, name = 'Wq')\n",
    "        \n",
    "        self.wout = tf.keras.layers.Dense(d_out, name = 'Wout')\n",
    "        \n",
    "        self.f = f\n",
    "        \n",
    "    def _split_heads(self, x):\n",
    "        with tf.name_scope('split_heads'):\n",
    "            # Ensure static shape\n",
    "            #x.set_shape(tf.TensorShape([None, None, num_heads * d_model]))\n",
    "            #static_shape = x.get_shape();\n",
    "\n",
    "            # Dynamic reshape\n",
    "            batch_size = tf.shape(x)[0]\n",
    "            seq_len = tf.shape(x)[1]\n",
    "\n",
    "            x = tf.reshape(x, [batch_size, seq_len, self.num_heads, self.d_model])\n",
    "\n",
    "            # Static reshape\n",
    "            # x.set_shape(static_shape[0:2] + tf.TensorShape([num_heads, d_model]))\n",
    "\n",
    "            x = tf.transpose(x, [0, 2, 1, 3])\n",
    "        return x\n",
    "    \n",
    "    def _merge_heads(self, x):\n",
    "        with tf.name_scope('merge_heads'):\n",
    "            batch_size = tf.shape(x)[0]\n",
    "            seq_len    = tf.shape(x)[2]\n",
    "\n",
    "            x = tf.transpose(x, [0, 2, 1, 3])\n",
    "            x = tf.reshape(x, [batch_size, seq_len, self.num_heads * self.d_model])\n",
    "            return x\n",
    "        \n",
    "    def call(self, k, v = None, q = None):\n",
    "        if v == None:\n",
    "            v = k\n",
    "        \n",
    "        if q == None:\n",
    "            q = k\n",
    "\n",
    "        k = self.wk(k)\n",
    "        v = self.wv(v)\n",
    "        q = self.wq(q)\n",
    "        \n",
    "        k = self._split_heads(k)\n",
    "        v = self._split_heads(v)\n",
    "        q = self._split_heads(q)\n",
    "        \n",
    "        result = self.f(k, v, q)\n",
    "        result = self._merge_heads(result)\n",
    "        \n",
    "        return self.wout(result)\n",
    "\n",
    "# --- Table join computation ---\n",
    "\n",
    "# Joins orders with data for the associated systems and types\n",
    "def orders_join(orders, systems, types):\n",
    "    # Foreign keys\n",
    "    order_types = tf.cast(orders[...,0], tf.int32)\n",
    "    order_systems = tf.cast(orders[...,1], tf.int32)\n",
    "    \n",
    "    return tf.concat([\n",
    "        orders,\n",
    "        tf.gather(types, order_types),\n",
    "        tf.gather(systems, order_systems)\n",
    "    ], axis = -1)\n",
    "    \n",
    "# ------------------ Model class -----------------------------------------\n",
    "\n",
    "class Model(tf.keras.Model):\n",
    "    def __init__(self, n_layers, output_width = 128, n_heads = 16, head_dimension = 8):\n",
    "        super(Model, self).__init__()\n",
    "        self.ratt_layers = [\n",
    "            MultiHeadedAttention(output_width, n_heads, head_dimension)\n",
    "            for i in range(0, n_layers)\n",
    "        ]\n",
    "        \n",
    "        self.type_data = tf.Variable(np.zeros([len(types), 10], dtype = np.float32))\n",
    "        self.system_data = tf.Variable(np.zeros([len(subgraph), 10]), dtype = np.float32)\n",
    "        \n",
    "    # Args:\n",
    "    #  orders: Tuple of 2 [None, None] ragged tensors describing types and systems of orders\n",
    "    #          and one [None, None, n_order_data] ragged tensor giving static data for the market orders\n",
    "    def call(self, orders):\n",
    "        def apply_nobatch(layer, x):\n",
    "            x = tf.expand_dims(x, axis = 0)\n",
    "            x = layer(x)\n",
    "            x = tf.squeeze(x, axis = 0)\n",
    "            \n",
    "            return x\n",
    "        \n",
    "        v = orders_join(orders, self.system_data, self.type_data)\n",
    "        \n",
    "        # Apply layers to input\n",
    "        for layer in self.ratt_layers:\n",
    "            with tf.name_scope('apply_nobatch'):\n",
    "                v = tf.ragged.map_flat_values(\n",
    "                    lambda x: apply_nobatch(layer, x),\n",
    "                    v\n",
    "                )\n",
    "            \n",
    "        return v     "
   ]
  },
  {
   "cell_type": "code",
   "execution_count": 72,
   "metadata": {},
   "outputs": [
    {
     "name": "stdout",
     "output_type": "stream",
     "text": [
      "Flattening data\n"
     ]
    },
    {
     "data": {
      "application/vnd.jupyter.widget-view+json": {
       "model_id": "bb1011066426408d93e3b913f4bd1c68",
       "version_major": 2,
       "version_minor": 0
      },
      "text/plain": [
       "HBox(children=(FloatProgress(value=0.0, max=20.0), HTML(value='')))"
      ]
     },
     "metadata": {},
     "output_type": "display_data"
    },
    {
     "name": "stdout",
     "output_type": "stream",
     "text": [
      "\n"
     ]
    },
    {
     "data": {
      "application/vnd.jupyter.widget-view+json": {
       "model_id": "a5bba796cad64242a6e8fb89c7c24ee3",
       "version_major": 2,
       "version_minor": 0
      },
      "text/plain": [
       "HBox(children=(FloatProgress(value=0.0, max=20.0), HTML(value='')))"
      ]
     },
     "metadata": {},
     "output_type": "display_data"
    },
    {
     "name": "stdout",
     "output_type": "stream",
     "text": [
      "\n",
      "Encoding orders & transferring to GPU\n"
     ]
    },
    {
     "data": {
      "application/vnd.jupyter.widget-view+json": {
       "model_id": "d65e1c144bd24b63a9a29dc96f90a832",
       "version_major": 2,
       "version_minor": 0
      },
      "text/plain": [
       "HBox(children=(FloatProgress(value=0.0, max=126977.0), HTML(value='')))"
      ]
     },
     "metadata": {},
     "output_type": "display_data"
    },
    {
     "name": "stdout",
     "output_type": "stream",
     "text": [
      "\n"
     ]
    }
   ],
   "source": [
    "# Solar system encoding\n",
    "@functools.lru_cache(maxsize=None)\n",
    "def encode_system(system_id, state = None):\n",
    "    assert system_id in system_ids\n",
    "    \n",
    "    index = system_ids.index(system_id)\n",
    "    system = systems[system_id]\n",
    "    \n",
    "    return [index, system[\"security_status\"]] + [system_distance(l, system_id) for l in landmarks]\n",
    "\n",
    "@functools.lru_cache(maxsize=None)\n",
    "def encode_type(type_id, state = None):\n",
    "    assert type_id in type_ids\n",
    "    \n",
    "    index = type_ids.index(type_id)\n",
    "    t = types[type_id]\n",
    "    \n",
    "    return [\n",
    "        index,\n",
    "        t[\"volume\"]\n",
    "    ]\n",
    "\n",
    "def can_encode_order(order):\n",
    "    return order.type_id in type_ids and order.system_id in system_ids\n",
    "\n",
    "# Encodes a [region, type] dict of orders\n",
    "def encode_orders(orders):\n",
    "    def encodeable(region_id, type_id):\n",
    "        os = orders[region_id].get(type_id, [])\n",
    "        \n",
    "        return [o for o in os if can_encode_order(o)]\n",
    "    \n",
    "    print('Flattening data')\n",
    "    flat_orders = [\n",
    "        o\n",
    "        for region_id in tqdm(region_ids)\n",
    "        for type_id in types\n",
    "        for o in encodeable(region_id, type_id)\n",
    "        if o is not None\n",
    "    ]\n",
    "    \n",
    "    row_lengths = [\n",
    "        len(encodeable(region_id, type_id))\n",
    "        for region_id in tqdm(region_ids)\n",
    "        for type_id in types\n",
    "    ]\n",
    "        \n",
    "    print('Encoding orders & transferring to GPU')\n",
    "    flat_data = tf.constant([encode_order(o) for o in tqdm(flat_orders)], dtype = tf.float32)\n",
    "    \n",
    "    result = tf.RaggedTensor.from_uniform_row_length(\n",
    "        tf.RaggedTensor.from_uniform_row_length(\n",
    "            tf.RaggedTensor.from_row_lengths(\n",
    "                flat_data,\n",
    "                row_lengths\n",
    "            ),\n",
    "            len(type_ids)\n",
    "        ),\n",
    "        len(region_ids)\n",
    "    )\n",
    "    result = result[0]\n",
    "    \n",
    "    # Compute the delta base for later updates\n",
    "    id_map = {\n",
    "        order.order_id : idx\n",
    "        for idx, order in enumerate(flat_orders)\n",
    "    }\n",
    "    \n",
    "    delta_base = (id_map, flat_orders)\n",
    "    \n",
    "    return result, delta_base\n",
    "\n",
    "# Encoding of a single order\n",
    "def encode_order(order, state = None):\n",
    "    tdata = encode_type(order.type_id, state)\n",
    "    sdata = encode_system(order.system_id, state)\n",
    "    \n",
    "    if tdata is None or sdata is None:\n",
    "        return None\n",
    "    \n",
    "    remaining = order.volume_remain\n",
    "    \n",
    "    \n",
    "    if state is not None:\n",
    "        updates = {k:v for k,v in state.updated_orders}\n",
    "        \n",
    "        if order.order_id in updates:\n",
    "            remaining = updates[order.order_id]\n",
    "    \n",
    "    return [tdata[0], sdata[0]] + tdata[1:] + sdata[1:] + [\n",
    "        order.location_id,\n",
    "        remaining,\n",
    "        1 if order.is_buy_order else 0,\n",
    "        0 if order.is_buy_order else 1\n",
    "    ]\n",
    "\n",
    "\n",
    "def encode_delta(delta_base, state):\n",
    "    if not state.updated_orders:\n",
    "        return lambda x: x\n",
    "    \n",
    "    (id_map, flat_orders) = delta_base\n",
    "    \n",
    "    indices = [\n",
    "        id_map[oid] for oid, _ in state.updated_orders\n",
    "    ]\n",
    "    \n",
    "    updates = [\n",
    "        encode_order(flat_orders[idx], state = state) for idx in indices\n",
    "    ]\n",
    "    \n",
    "    indices = tf.constant([[i] for i in indices], dtype = tf.int32)\n",
    "    updates = tf.constant(updates, dtype = tf.float32)\n",
    "    \n",
    "    def apply(x):        \n",
    "        return tf.ragged.map_flat_values(\n",
    "            tf.tensor_scatter_nd_update,\n",
    "            x, indices, updates\n",
    "        )\n",
    "    \n",
    "    return apply\n",
    "        \n",
    "\n",
    "encoded, delta_base = encode_orders(orders)"
   ]
  },
  {
   "cell_type": "code",
   "execution_count": 118,
   "metadata": {},
   "outputs": [
    {
     "name": "stdout",
     "output_type": "stream",
     "text": [
      "\n",
      "State:\n",
      "    Time left: 100\n",
      "    \n",
      "    System:  30000142\n",
      "    Station: None\n",
      "    \n",
      "    Collateral: 0 / 0 (0 left)\n",
      "    Cargo:      0.1000000000003638 / 8900 (8899.9 left)\n",
      "    \n",
      "    Value:     0\n",
      "        \n"
     ]
    },
    {
     "data": {
      "application/vnd.jupyter.widget-view+json": {
       "model_id": "a4bdcde2a435439aaa001baed9c11597",
       "version_major": 2,
       "version_minor": 0
      },
      "text/plain": [
       "HBox(children=(FloatProgress(value=0.0, max=1000.0), HTML(value='')))"
      ]
     },
     "metadata": {},
     "output_type": "display_data"
    },
    {
     "name": "stdout",
     "output_type": "stream",
     "text": [
      "\n",
      "State:\n",
      "    Time left: 100\n",
      "    \n",
      "    System:  30000142\n",
      "    Station: None\n",
      "    \n",
      "    Collateral: 0 / 0 (0 left)\n",
      "    Cargo:      0.1000000000003638 / 8900 (8899.9 left)\n",
      "    \n",
      "    Value:     0\n",
      "        \n",
      "<__main__.MutableState object at 0x000000005F597B00>\n",
      "\n",
      "State:\n",
      "    Time left: 73.0\n",
      "    \n",
      "    System:  30002510\n",
      "    Station: None\n",
      "    \n",
      "    Collateral: 0 / 0 (0 left)\n",
      "    Cargo:      0.1000000000003638 / 8900 (8899.9 left)\n",
      "    \n",
      "    Value:     0\n",
      "        \n",
      "<__main__.MutableState object at 0x000000005F4C07B8>\n",
      "\n",
      "State:\n",
      "    Time left: 55.0\n",
      "    \n",
      "    System:  30004969\n",
      "    Station: None\n",
      "    \n",
      "    Collateral: 0 / 0 (0 left)\n",
      "    Cargo:      0.1000000000003638 / 8900 (8899.9 left)\n",
      "    \n",
      "    Value:     0\n",
      "        \n",
      "<__main__.MutableState object at 0x000000005F597DA0>\n",
      "\n",
      "State:\n",
      "    Time left: 43.0\n",
      "    \n",
      "    System:  30000142\n",
      "    Station: None\n",
      "    \n",
      "    Collateral: 0 / 0 (0 left)\n",
      "    Cargo:      0.1000000000003638 / 8900 (8899.9 left)\n",
      "    \n",
      "    Value:     0\n",
      "        \n",
      "<__main__.MutableState object at 0x000000005F4C07B8>\n",
      "\n",
      "State:\n",
      "    Time left: 16.0\n",
      "    \n",
      "    System:  30002510\n",
      "    Station: None\n",
      "    \n",
      "    Collateral: 0 / 0 (0 left)\n",
      "    Cargo:      0.1000000000003638 / 8900 (8899.9 left)\n",
      "    \n",
      "    Value:     0\n",
      "        \n",
      "<__main__.MutableState object at 0x000000005F4C07B8>\n",
      "\n"
     ]
    },
    {
     "ename": "AssertionError",
     "evalue": "Out of time",
     "output_type": "error",
     "traceback": [
      "\u001b[1;31m---------------------------------------------------------------------------\u001b[0m",
      "\u001b[1;31mAssertionError\u001b[0m                            Traceback (most recent call last)",
      "\u001b[1;32m<ipython-input-118-d166fdd3eb07>\u001b[0m in \u001b[0;36m<module>\u001b[1;34m\u001b[0m\n\u001b[0;32m    143\u001b[0m     \u001b[0mchosen_action\u001b[0m\u001b[1;33m,\u001b[0m \u001b[0mlog_p\u001b[0m \u001b[1;33m=\u001b[0m \u001b[0msample_from\u001b[0m\u001b[1;33m(\u001b[0m\u001b[0mstate\u001b[0m\u001b[1;33m,\u001b[0m \u001b[0maction_params\u001b[0m\u001b[1;33m,\u001b[0m \u001b[0msystem_logits\u001b[0m\u001b[1;33m,\u001b[0m \u001b[0mbuy_params\u001b[0m\u001b[1;33m,\u001b[0m \u001b[0msell_params\u001b[0m\u001b[1;33m)\u001b[0m\u001b[1;33m\u001b[0m\u001b[0m\n\u001b[0;32m    144\u001b[0m     \u001b[0mprint\u001b[0m\u001b[1;33m(\u001b[0m\u001b[0mstate\u001b[0m\u001b[1;33m)\u001b[0m\u001b[1;33m\u001b[0m\u001b[0m\n\u001b[1;32m--> 145\u001b[1;33m     \u001b[0mstate\u001b[0m \u001b[1;33m=\u001b[0m \u001b[0mchosen_action\u001b[0m\u001b[1;33m(\u001b[0m\u001b[0mstate\u001b[0m\u001b[1;33m)\u001b[0m\u001b[1;33m\u001b[0m\u001b[0m\n\u001b[0m",
      "\u001b[1;32m<ipython-input-115-ef8ef446fba5>\u001b[0m in \u001b[0;36m__call__\u001b[1;34m(self, state)\u001b[0m\n\u001b[0;32m     18\u001b[0m         \u001b[0ms\u001b[0m \u001b[1;33m=\u001b[0m \u001b[0mState\u001b[0m\u001b[1;33m(\u001b[0m\u001b[0ms\u001b[0m\u001b[1;33m)\u001b[0m\u001b[1;33m\u001b[0m\u001b[0m\n\u001b[0;32m     19\u001b[0m \u001b[1;33m\u001b[0m\u001b[0m\n\u001b[1;32m---> 20\u001b[1;33m         \u001b[0ms\u001b[0m\u001b[1;33m.\u001b[0m\u001b[0mvalidate\u001b[0m\u001b[1;33m(\u001b[0m\u001b[1;33m)\u001b[0m\u001b[1;33m\u001b[0m\u001b[0m\n\u001b[0m\u001b[0;32m     21\u001b[0m \u001b[1;33m\u001b[0m\u001b[0m\n\u001b[0;32m     22\u001b[0m         \u001b[1;32mreturn\u001b[0m \u001b[0ms\u001b[0m\u001b[1;33m\u001b[0m\u001b[0m\n",
      "\u001b[1;32m<ipython-input-113-ef4200cd9404>\u001b[0m in \u001b[0;36mvalidate\u001b[1;34m(self)\u001b[0m\n\u001b[0;32m    137\u001b[0m         \u001b[1;32massert\u001b[0m \u001b[0mc\u001b[0m \u001b[1;33m>=\u001b[0m \u001b[1;36m0\u001b[0m\u001b[1;33m,\u001b[0m \u001b[1;34m'Collateral exceeded'\u001b[0m\u001b[1;33m\u001b[0m\u001b[0m\n\u001b[0;32m    138\u001b[0m \u001b[1;33m\u001b[0m\u001b[0m\n\u001b[1;32m--> 139\u001b[1;33m         \u001b[1;32massert\u001b[0m \u001b[0mself\u001b[0m\u001b[1;33m.\u001b[0m\u001b[0mtime_left\u001b[0m \u001b[1;33m>=\u001b[0m \u001b[1;36m0\u001b[0m\u001b[1;33m,\u001b[0m \u001b[1;34m'Out of time'\u001b[0m\u001b[1;33m\u001b[0m\u001b[0m\n\u001b[0m\u001b[0;32m    140\u001b[0m \u001b[1;33m\u001b[0m\u001b[0m\n\u001b[0;32m    141\u001b[0m     \u001b[1;33m@\u001b[0m\u001b[0mproperty\u001b[0m\u001b[1;33m\u001b[0m\u001b[0m\n",
      "\u001b[1;31mAssertionError\u001b[0m: Out of time"
     ]
    }
   ],
   "source": [
    "#def pick_actions(\n",
    "#    states, # [n_batch] array of states\n",
    "#    action_params, # [n_batch, 3] tensor holding the logits for \"buy\", \"sell\", \"move\" respectively\n",
    "#    move_params, # [n_batch, len(system_ids)] tensor holding the logits for systems to jump to for\n",
    "#    buy_params,   # [n_batch, len(type_ids), 3] tensor holding in [...,0] the logits per type to buy, and in [...,1] and [...,2] mean and sdev. respectively of a Gaussian distribution determining the amount of items to be bought\n",
    "#    sell_params,  # [n_batch, len(type_ids), 3] tensor for potential sales, analogously to buy_params (potential optimization: types ordered by state.cargo and not type_ids)\n",
    "#):\n",
    "#    # Shape enforcement\n",
    "#    action_params.set_shape([len(states), 3])\n",
    "#    move_params.set_shape([len(states), len(system_ids)])\n",
    "#    buy_params.set_shape([len(states), len(type_ids), 3])\n",
    "#    sell_params.set_shape([len(states), len(type_ids), 3])\n",
    "#    \n",
    "#    # Sample the distributions (TODO: Sampling all distributions, including the unneccessary ones, might prove slow, but not sure)\n",
    "#    action_id = tfp.edward2.Categorical(logits = action_params)\n",
    "#    move_system   = tfp.edward2.Categorical(logits = move_params)\n",
    "#    \n",
    "#    buy_type  = tfp.edward2.Categorical(logits = buy_params[...,0])\n",
    "#    buy_amount = tfp.edward2.Normal(loc = buy_params[...,1], scale = buy_params[...,2])\n",
    "#    \n",
    "#    sell_type = tfp.edward2.Categorical(logits = sell_params[...,0])\n",
    "#    sell_amount = tfp.edward2.Normal(loc = sell_params[...,1], scale = sell_params[...,2])\n",
    "#    \n",
    "#    # Create the actions\n",
    "#    def pick_action(i):\n",
    "#        choice = action_id.numpy()[i]\n",
    "#        \n",
    "#        if choice == 0:\n",
    "#            # Jump action\n",
    "#            idx = move_system.numpy()[i]\n",
    "#            return warp_to_system(system_ids[idx])\n",
    "#        elif choice == 1:\n",
    "#            # Buy action\n",
    "#            idx = buy_type[i].numpy()\n",
    "#            amount = buy_amount[idx]\n",
    "#            \n",
    "#            return buy(type_ids[idx], amount.numpy())\n",
    "#        elif choice == 2:\n",
    "#            # Buy action\n",
    "#            idx = sell_type[i].numpy()\n",
    "#            amount = sell_amount[idx]\n",
    "#            \n",
    "#            return sell(type_ids[idx].numpy(), amount.numpy())\n",
    "#    \n",
    "#    actions = [pick_action(i) for i in range(0, len(states))]\n",
    "#    \n",
    "#    # Compute log probability of transition actions\n",
    "#    def log_p(x):\n",
    "#        return x.distribution.log_prob(x.value)\n",
    "#    \n",
    "#    log_p_id   = log_p(action_id)\n",
    "#    log_p_warp = log_p(move_system)\n",
    "#    log_p_buy  = log_p(buy_type) + log_p(buy_amount[:,buy_type.value])\n",
    "#    log_p_sell = log_p(sell_type) + log_p(sell_amount[:,sell_type.value])\n",
    "#    \n",
    "#    log_p_tot = log_p_id\n",
    "#    log_p_tot += tf.where(action_id == 0, log_p_warp, 0)\n",
    "#    log_p_tot += tf.where(action_id == 1, log_p_buy, 0)\n",
    "#    log_p_tot += tf.where(action_id == 2, log_p_sell, 0)\n",
    "#    \n",
    "#    return actions, log_p_tot\n",
    "\n",
    "def sample_from(state, action_params, move_params, buy_params, sell_params):\n",
    "    Joint = tfp.distributions.JointDistributionCoroutine\n",
    "    \n",
    "    def model():\n",
    "        action_id = yield Joint.Root(tfp.distributions.Categorical(logits = action_params))\n",
    "        \n",
    "        if action_id == 0:\n",
    "            target = yield tfp.distributions.Categorical(logits = move_params)\n",
    "            target = system_ids[target.numpy()]\n",
    "            \n",
    "            return warp_to_system(target)\n",
    "        \n",
    "        if action_id == 1:\n",
    "            params = buy_params\n",
    "        elif action_id == 2:\n",
    "            params = sell_params\n",
    "            \n",
    "        buy_idx = yield tfp.distributions.Categorical(logits = params[...,0])\n",
    "        buy_amount = yield tfp.distributions.Normal(loc = params[...,1], scale = params[...,2])\n",
    "        \n",
    "        if action_id == 1:\n",
    "            return buy(type_ids[idx].numpy(), amount.numpy())\n",
    "        elif action_dd == 2:\n",
    "            return sell([type_id for type_id in state.cargo][idx.numpy()], amount.numpy())\n",
    "        \n",
    "        assert False\n",
    "    \n",
    "    dist = Joint(model)\n",
    "    \n",
    "    sample = dist.sample()\n",
    "    log_p = dist.log_prob(sample)\n",
    "        \n",
    "    # Interpret sample\n",
    "    generator = model()\n",
    "    try:\n",
    "        next(generator)\n",
    "        for s in sample:\n",
    "            generator.send(s)\n",
    "    except StopIteration as s:\n",
    "        return s.value, log_p\n",
    "\n",
    "#def sample_chain(states, length, model, history):\n",
    "#    log_p_tot = tf.constant(np.zeros([len(starts)], dtype = tf.float32))\n",
    "#    \n",
    "#    for i in range(0, length):\n",
    "#        # Encode states\n",
    "#        state_data = encode_states(states)\n",
    "#        \n",
    "#        control, history = model(state_data, history)\n",
    "#        \n",
    "#        actions, log_p = pick_actions(starts, *control)\n",
    "#        \n",
    "#        states = [action(state) for action, state in zip(actions, states)]\n",
    "#        log_p_tot += log_p\n",
    "#    \n",
    "#    return states, log_p_tot\n",
    "\n",
    "test_state = MutableState()\n",
    "test_state.cargo = {\n",
    "    34: (10, 0) # 10 units of Tritanium\n",
    "}\n",
    "test_state.volume_limit = 8900\n",
    "test_state.time_left = 100\n",
    "\n",
    "test_state.system = root_id # in jita\n",
    "\n",
    "state = State(test_state)\n",
    "action_params = tf.constant([0, -1000, -1000], dtype = tf.float32)\n",
    "system_logits = tf.constant([\n",
    "        0 if sid in landmarks else -1000\n",
    "        for sid in system_ids\n",
    "    ],\n",
    "    dtype = tf.float32\n",
    ")\n",
    "buy_params = tf.zeros([len(type_ids), 3], dtype = tf.float32)\n",
    "sell_params = tf.zeros([len(type_ids), 3], dtype = tf.float32)\n",
    "\n",
    "print(state)\n",
    "\n",
    "for i in trange(0, 1000):\n",
    "    chosen_action, log_p = sample_from(state, action_params, system_logits, buy_params, sell_params)\n",
    "    print(state)\n",
    "    state = chosen_action(state)"
   ]
  },
  {
   "cell_type": "code",
   "execution_count": null,
   "metadata": {},
   "outputs": [],
   "source": []
  },
  {
   "cell_type": "code",
   "execution_count": 130,
   "metadata": {},
   "outputs": [
    {
     "data": {
      "application/vnd.jupyter.widget-view+json": {
       "model_id": "a44a6a599d4149dc9e21e25d33c30a23",
       "version_major": 2,
       "version_minor": 0
      },
      "text/plain": [
       "HBox(children=(FloatProgress(value=0.0, max=1000.0), HTML(value='')))"
      ]
     },
     "metadata": {},
     "output_type": "display_data"
    },
    {
     "name": "stdout",
     "output_type": "stream",
     "text": [
      "\n"
     ]
    }
   ],
   "source": [
    "test_state = MutableState()\n",
    "\n",
    "idgen = iter(delta_base[0])\n",
    "idgen = itertools.islice(idgen, 300)\n",
    "\n",
    "for i in idgen:\n",
    "    test_state.updated_orders[i] = 10\n",
    "    \n",
    "#delta = encode_delta(delta_base, State(test_state))\n",
    "\n",
    "#for i in trange(0, 1000):\n",
    "#    delta = encode_delta(delta_base, State(test_state))\n",
    "#    encoded_2 = delta(encoded)\n",
    "\n",
    "encoded_2 = [\n",
    "    encode_delta(delta_base, State(test_state)) for i in trange(0, 1000)\n",
    "]\n",
    "\n",
    "#diff = encoded_2 - encoded\n",
    "\n",
    "#diff.flat_values[0:3]"
   ]
  },
  {
   "cell_type": "code",
   "execution_count": 132,
   "metadata": {},
   "outputs": [
    {
     "data": {
      "application/vnd.jupyter.widget-view+json": {
       "model_id": "5be674f78eed4d68a27504820603f7cd",
       "version_major": 2,
       "version_minor": 0
      },
      "text/plain": [
       "HBox(children=(FloatProgress(value=0.0, max=1000.0), HTML(value='')))"
      ]
     },
     "metadata": {},
     "output_type": "display_data"
    },
    {
     "name": "stdout",
     "output_type": "stream",
     "text": [
      "\n"
     ]
    }
   ],
   "source": [
    "encoded_3 = [delta(encoded) for delta in tqdm(encoded_2)]"
   ]
  },
  {
   "cell_type": "code",
   "execution_count": 9,
   "metadata": {},
   "outputs": [
    {
     "name": "stderr",
     "output_type": "stream",
     "text": [
      "d:\\programme\\python 3.6.6\\lib\\site-packages\\ipykernel_launcher.py:1: UserWarning: tfp.edward2 module is deprecated and will be removed on 2019-12-01. Use https://github.com/google/edward2 library instead.\n",
      "  \"\"\"Entry point for launching an IPython kernel.\n"
     ]
    }
   ],
   "source": [
    "rval = tfp.edward2.Categorical(logits = [0, 0, 0])"
   ]
  },
  {
   "cell_type": "code",
   "execution_count": 57,
   "metadata": {},
   "outputs": [],
   "source": [
    "m = Model(3)\n",
    "\n",
    "@tf.function\n",
    "def f(x):\n",
    "    y = m(x)\n",
    "    return y\n",
    "\n",
    "import datetime\n",
    "stamp = datetime.datetime.now().strftime(\"%Y%m%d-%H%M%S\")\n",
    "logdir = 'logs/func'\n",
    "writer = tf.summary.create_file_writer(logdir)\n",
    "\n",
    "tf.summary.trace_on(graph=True, profiler=True)\n",
    "# Call only one tf.function when tracing.\n",
    "z = f(encoded_orders)\n",
    "\n",
    "with writer.as_default():\n",
    "    tf.summary.trace_export(\n",
    "        name=\"my_func_trace_2\",\n",
    "        step=0,\n",
    "        profiler_outdir=logdir)\n"
   ]
  },
  {
   "cell_type": "code",
   "execution_count": 13,
   "metadata": {},
   "outputs": [],
   "source": [
    "tf.summary.trace_off()"
   ]
  },
  {
   "cell_type": "code",
   "execution_count": 26,
   "metadata": {},
   "outputs": [
    {
     "name": "stdout",
     "output_type": "stream",
     "text": [
      "dict_keys(['duration', 'is_buy_order', 'issued', 'location_id', 'min_volume', 'order_id', 'price', 'range', 'system_id', 'type_id', 'volume_remain', 'volume_total'])\n"
     ]
    }
   ],
   "source": [
    "for o in orders.values():\n",
    "    print(o[0].keys())\n",
    "    break"
   ]
  },
  {
   "cell_type": "code",
   "execution_count": null,
   "metadata": {},
   "outputs": [],
   "source": [
    "r = tf.ragged.constant([[[0]], [[2], [3]]])"
   ]
  },
  {
   "cell_type": "code",
   "execution_count": null,
   "metadata": {},
   "outputs": [],
   "source": [
    "r.to_tensor()"
   ]
  },
  {
   "cell_type": "code",
   "execution_count": null,
   "metadata": {
    "scrolled": true
   },
   "outputs": [],
   "source": [
    "s = MutableState()\n",
    "\n",
    "s.system = root_id\n",
    "s.time_left = 40.0\n",
    "\n",
    "ship = 'tayra'\n",
    "\n",
    "if ship == 'charon':\n",
    "    s.volume_limit = 1350000\n",
    "    s.collateral_limit = 750000000\n",
    "elif ship == 'tayra':\n",
    "    s.volume_limit = 8395\n",
    "    s.collateral_limit = 100000000\n",
    "\n",
    "expanded = set([])\n",
    "\n",
    "def heur(x):\n",
    "    return x.value()\n",
    "\n",
    "g, unexp = expand(State(s), heur, 30000)\n",
    "\n",
    "heurmax = max(*[heur(n) for n in g])\n",
    "print(heurmax)"
   ]
  },
  {
   "cell_type": "code",
   "execution_count": null,
   "metadata": {
    "scrolled": true
   },
   "outputs": [],
   "source": [
    "import cProfile\n",
    "\n",
    "cProfile.run(\"expand(State(s), heur, 10000)\")"
   ]
  },
  {
   "cell_type": "code",
   "execution_count": null,
   "metadata": {
    "scrolled": true
   },
   "outputs": [],
   "source": [
    "cycles = nx.simple_cycles(g);\n",
    "\n",
    "for c in cycles:\n",
    "    print(c)"
   ]
  },
  {
   "cell_type": "code",
   "execution_count": null,
   "metadata": {
    "scrolled": true
   },
   "outputs": [],
   "source": [
    "plt.figure(figsize=(20, 20))\n",
    "\n",
    "nx.draw_networkx(\n",
    "    g,\n",
    "    labels = {n:systems[n.system][\"name\"] for n in g},\n",
    "    node_size = [300 * heur(n) / heurmax for n in g],\n",
    "    node_color = [heur(n) / heurmax for n in g],\n",
    "    cmap = 'jet'\n",
    ")\n",
    "\n",
    "c = matplotlib.colorbar.ColorbarBase(plt.gca(), cmap='jet')"
   ]
  },
  {
   "cell_type": "code",
   "execution_count": null,
   "metadata": {
    "scrolled": true
   },
   "outputs": [],
   "source": [
    "vals = get_values(State(s), g, unexp, heur)"
   ]
  },
  {
   "cell_type": "code",
   "execution_count": null,
   "metadata": {},
   "outputs": [],
   "source": [
    "len(g)"
   ]
  },
  {
   "cell_type": "code",
   "execution_count": null,
   "metadata": {},
   "outputs": [],
   "source": [
    "plt.figure(figsize=(20, 20))\n",
    "\n",
    "valmax = max(*vals.values())\n",
    "\n",
    "subg = g.subgraph([n for n in g if vals[n] == valmax])\n",
    "\n",
    "nx.draw_networkx(\n",
    "    subg,\n",
    "    labels = {n:systems[n.system][\"name\"] for n in subg},\n",
    "    node_size = [30 * n.time_left for n in subg],\n",
    "    node_color = [300 * heur(n) / heurmax for n in subg],\n",
    "    alpha = 1.0,\n",
    "    cmap = 'jet'\n",
    ")\n",
    "\n",
    "plt.show()\n",
    "\n",
    "for n in nx.dfs_preorder_nodes(g, State(s)):\n",
    "    if vals[n] < valmax:\n",
    "        continue\n",
    "    \n",
    "    print(n)"
   ]
  },
  {
   "cell_type": "code",
   "execution_count": null,
   "metadata": {},
   "outputs": [],
   "source": [
    "for n in nx.dfs_preorder_nodes(g, State(s)):\n",
    "    if not n.loaded:\n",
    "        continue\n",
    "    \n",
    "    print(n)"
   ]
  },
  {
   "cell_type": "code",
   "execution_count": null,
   "metadata": {},
   "outputs": [],
   "source": [
    "plt.hist([heur(n) for n in g]);"
   ]
  },
  {
   "cell_type": "code",
   "execution_count": null,
   "metadata": {},
   "outputs": [],
   "source": [
    "vals"
   ]
  },
  {
   "cell_type": "code",
   "execution_count": null,
   "metadata": {
    "scrolled": true
   },
   "outputs": [],
   "source": [
    "systems[root_id]"
   ]
  },
  {
   "cell_type": "code",
   "execution_count": 20,
   "metadata": {},
   "outputs": [
    {
     "data": {
      "text/plain": [
       "['__class__',\n",
       " '__contains__',\n",
       " '__delattr__',\n",
       " '__delitem__',\n",
       " '__dict__',\n",
       " '__dir__',\n",
       " '__doc__',\n",
       " '__eq__',\n",
       " '__format__',\n",
       " '__ge__',\n",
       " '__getattr__',\n",
       " '__getattribute__',\n",
       " '__getitem__',\n",
       " '__gt__',\n",
       " '__hash__',\n",
       " '__init__',\n",
       " '__init_subclass__',\n",
       " '__iter__',\n",
       " '__le__',\n",
       " '__len__',\n",
       " '__lt__',\n",
       " '__module__',\n",
       " '__ne__',\n",
       " '__new__',\n",
       " '__reduce__',\n",
       " '__reduce_ex__',\n",
       " '__repr__',\n",
       " '__setattr__',\n",
       " '__setitem__',\n",
       " '__sizeof__',\n",
       " '__str__',\n",
       " '__subclasshook__',\n",
       " '__weakref__',\n",
       " 'apply_with',\n",
       " 'cleanup',\n",
       " 'clear',\n",
       " 'copy',\n",
       " 'fromkeys',\n",
       " 'get',\n",
       " 'items',\n",
       " 'keys',\n",
       " 'pop',\n",
       " 'popitem',\n",
       " 'setdefault',\n",
       " 'update',\n",
       " 'values']"
      ]
     },
     "execution_count": 20,
     "metadata": {},
     "output_type": "execute_result"
    }
   ],
   "source": [
    "import pyswagger\n",
    "\n",
    "dir(pyswagger.primitives.Model)"
   ]
  },
  {
   "cell_type": "code",
   "execution_count": 26,
   "metadata": {},
   "outputs": [
    {
     "ename": "KeyError",
     "evalue": "'__getstate__'",
     "output_type": "error",
     "traceback": [
      "\u001b[1;31m---------------------------------------------------------------------------\u001b[0m",
      "\u001b[1;31mKeyError\u001b[0m                                  Traceback (most recent call last)",
      "\u001b[1;32m<ipython-input-26-b4693b217427>\u001b[0m in \u001b[0;36m<module>\u001b[1;34m\u001b[0m\n\u001b[0;32m      1\u001b[0m \u001b[1;32mwith\u001b[0m \u001b[0mopen\u001b[0m\u001b[1;33m(\u001b[0m\u001b[1;34m'orders.dat'\u001b[0m\u001b[1;33m,\u001b[0m \u001b[1;34m'wb'\u001b[0m\u001b[1;33m)\u001b[0m \u001b[1;32mas\u001b[0m \u001b[0mf\u001b[0m\u001b[1;33m:\u001b[0m\u001b[1;33m\u001b[0m\u001b[0m\n\u001b[1;32m----> 2\u001b[1;33m     \u001b[0mpickle\u001b[0m\u001b[1;33m.\u001b[0m\u001b[0mdump\u001b[0m\u001b[1;33m(\u001b[0m\u001b[0morders\u001b[0m\u001b[1;33m,\u001b[0m \u001b[0mf\u001b[0m\u001b[1;33m)\u001b[0m\u001b[1;33m\u001b[0m\u001b[0m\n\u001b[0m",
      "\u001b[1;31mKeyError\u001b[0m: '__getstate__'"
     ]
    }
   ],
   "source": [
    "with open('orders.dat', 'wb') as f:\n",
    "    pickle.dump(orders, f)"
   ]
  },
  {
   "cell_type": "code",
   "execution_count": 23,
   "metadata": {},
   "outputs": [
    {
     "data": {
      "text/plain": [
       "dict"
      ]
     },
     "execution_count": 23,
     "metadata": {},
     "output_type": "execute_result"
    }
   ],
   "source": [
    "type(orders)"
   ]
  },
  {
   "cell_type": "code",
   "execution_count": 29,
   "metadata": {},
   "outputs": [],
   "source": []
  },
  {
   "cell_type": "code",
   "execution_count": 30,
   "metadata": {},
   "outputs": [
    {
     "ename": "KeyError",
     "evalue": "'__next__'",
     "output_type": "error",
     "traceback": [
      "\u001b[1;31m---------------------------------------------------------------------------\u001b[0m",
      "\u001b[1;31mKeyError\u001b[0m                                  Traceback (most recent call last)",
      "\u001b[1;32md:\\programme\\python 3.6.6\\lib\\site-packages\\IPython\\core\\formatters.py\u001b[0m in \u001b[0;36m__call__\u001b[1;34m(self, obj)\u001b[0m\n\u001b[0;32m    700\u001b[0m                 \u001b[0mtype_pprinters\u001b[0m\u001b[1;33m=\u001b[0m\u001b[0mself\u001b[0m\u001b[1;33m.\u001b[0m\u001b[0mtype_printers\u001b[0m\u001b[1;33m,\u001b[0m\u001b[1;33m\u001b[0m\u001b[0m\n\u001b[0;32m    701\u001b[0m                 deferred_pprinters=self.deferred_printers)\n\u001b[1;32m--> 702\u001b[1;33m             \u001b[0mprinter\u001b[0m\u001b[1;33m.\u001b[0m\u001b[0mpretty\u001b[0m\u001b[1;33m(\u001b[0m\u001b[0mobj\u001b[0m\u001b[1;33m)\u001b[0m\u001b[1;33m\u001b[0m\u001b[0m\n\u001b[0m\u001b[0;32m    703\u001b[0m             \u001b[0mprinter\u001b[0m\u001b[1;33m.\u001b[0m\u001b[0mflush\u001b[0m\u001b[1;33m(\u001b[0m\u001b[1;33m)\u001b[0m\u001b[1;33m\u001b[0m\u001b[0m\n\u001b[0;32m    704\u001b[0m             \u001b[1;32mreturn\u001b[0m \u001b[0mstream\u001b[0m\u001b[1;33m.\u001b[0m\u001b[0mgetvalue\u001b[0m\u001b[1;33m(\u001b[0m\u001b[1;33m)\u001b[0m\u001b[1;33m\u001b[0m\u001b[0m\n",
      "\u001b[1;32md:\\programme\\python 3.6.6\\lib\\site-packages\\IPython\\lib\\pretty.py\u001b[0m in \u001b[0;36mpretty\u001b[1;34m(self, obj)\u001b[0m\n\u001b[0;32m    400\u001b[0m                         \u001b[1;32mif\u001b[0m \u001b[0mcls\u001b[0m \u001b[1;32mis\u001b[0m \u001b[1;32mnot\u001b[0m \u001b[0mobject\u001b[0m\u001b[0;31m \u001b[0m\u001b[0;31m\\\u001b[0m\u001b[1;33m\u001b[0m\u001b[0m\n\u001b[0;32m    401\u001b[0m                                 \u001b[1;32mand\u001b[0m \u001b[0mcallable\u001b[0m\u001b[1;33m(\u001b[0m\u001b[0mcls\u001b[0m\u001b[1;33m.\u001b[0m\u001b[0m__dict__\u001b[0m\u001b[1;33m.\u001b[0m\u001b[0mget\u001b[0m\u001b[1;33m(\u001b[0m\u001b[1;34m'__repr__'\u001b[0m\u001b[1;33m)\u001b[0m\u001b[1;33m)\u001b[0m\u001b[1;33m:\u001b[0m\u001b[1;33m\u001b[0m\u001b[0m\n\u001b[1;32m--> 402\u001b[1;33m                             \u001b[1;32mreturn\u001b[0m \u001b[0m_repr_pprint\u001b[0m\u001b[1;33m(\u001b[0m\u001b[0mobj\u001b[0m\u001b[1;33m,\u001b[0m \u001b[0mself\u001b[0m\u001b[1;33m,\u001b[0m \u001b[0mcycle\u001b[0m\u001b[1;33m)\u001b[0m\u001b[1;33m\u001b[0m\u001b[0m\n\u001b[0m\u001b[0;32m    403\u001b[0m \u001b[1;33m\u001b[0m\u001b[0m\n\u001b[0;32m    404\u001b[0m             \u001b[1;32mreturn\u001b[0m \u001b[0m_default_pprint\u001b[0m\u001b[1;33m(\u001b[0m\u001b[0mobj\u001b[0m\u001b[1;33m,\u001b[0m \u001b[0mself\u001b[0m\u001b[1;33m,\u001b[0m \u001b[0mcycle\u001b[0m\u001b[1;33m)\u001b[0m\u001b[1;33m\u001b[0m\u001b[0m\n",
      "\u001b[1;32md:\\programme\\python 3.6.6\\lib\\site-packages\\IPython\\lib\\pretty.py\u001b[0m in \u001b[0;36m_repr_pprint\u001b[1;34m(obj, p, cycle)\u001b[0m\n\u001b[0;32m    695\u001b[0m     \u001b[1;34m\"\"\"A pprint that just redirects to the normal repr function.\"\"\"\u001b[0m\u001b[1;33m\u001b[0m\u001b[0m\n\u001b[0;32m    696\u001b[0m     \u001b[1;31m# Find newlines and replace them with p.break_()\u001b[0m\u001b[1;33m\u001b[0m\u001b[1;33m\u001b[0m\u001b[0m\n\u001b[1;32m--> 697\u001b[1;33m     \u001b[0moutput\u001b[0m \u001b[1;33m=\u001b[0m \u001b[0mrepr\u001b[0m\u001b[1;33m(\u001b[0m\u001b[0mobj\u001b[0m\u001b[1;33m)\u001b[0m\u001b[1;33m\u001b[0m\u001b[0m\n\u001b[0m\u001b[0;32m    698\u001b[0m     \u001b[1;32mfor\u001b[0m \u001b[0midx\u001b[0m\u001b[1;33m,\u001b[0m\u001b[0moutput_line\u001b[0m \u001b[1;32min\u001b[0m \u001b[0menumerate\u001b[0m\u001b[1;33m(\u001b[0m\u001b[0moutput\u001b[0m\u001b[1;33m.\u001b[0m\u001b[0msplitlines\u001b[0m\u001b[1;33m(\u001b[0m\u001b[1;33m)\u001b[0m\u001b[1;33m)\u001b[0m\u001b[1;33m:\u001b[0m\u001b[1;33m\u001b[0m\u001b[0m\n\u001b[0;32m    699\u001b[0m         \u001b[1;32mif\u001b[0m \u001b[0midx\u001b[0m\u001b[1;33m:\u001b[0m\u001b[1;33m\u001b[0m\u001b[0m\n",
      "\u001b[1;32md:\\programme\\python 3.6.6\\lib\\site-packages\\pandas\\core\\frame.py\u001b[0m in \u001b[0;36m__repr__\u001b[1;34m(self)\u001b[0m\n\u001b[0;32m    685\u001b[0m             \u001b[0mline_width\u001b[0m\u001b[1;33m=\u001b[0m\u001b[0mwidth\u001b[0m\u001b[1;33m,\u001b[0m\u001b[1;33m\u001b[0m\u001b[0m\n\u001b[0;32m    686\u001b[0m             \u001b[0mmax_colwidth\u001b[0m\u001b[1;33m=\u001b[0m\u001b[0mmax_colwidth\u001b[0m\u001b[1;33m,\u001b[0m\u001b[1;33m\u001b[0m\u001b[0m\n\u001b[1;32m--> 687\u001b[1;33m             \u001b[0mshow_dimensions\u001b[0m\u001b[1;33m=\u001b[0m\u001b[0mshow_dimensions\u001b[0m\u001b[1;33m,\u001b[0m\u001b[1;33m\u001b[0m\u001b[0m\n\u001b[0m\u001b[0;32m    688\u001b[0m         )\n\u001b[0;32m    689\u001b[0m \u001b[1;33m\u001b[0m\u001b[0m\n",
      "\u001b[1;32md:\\programme\\python 3.6.6\\lib\\site-packages\\pandas\\core\\frame.py\u001b[0m in \u001b[0;36mto_string\u001b[1;34m(self, buf, columns, col_space, header, index, na_rep, formatters, float_format, sparsify, index_names, justify, max_rows, min_rows, max_cols, show_dimensions, decimal, line_width, max_colwidth, encoding)\u001b[0m\n\u001b[0;32m    818\u001b[0m                 \u001b[0mline_width\u001b[0m\u001b[1;33m=\u001b[0m\u001b[0mline_width\u001b[0m\u001b[1;33m,\u001b[0m\u001b[1;33m\u001b[0m\u001b[0m\n\u001b[0;32m    819\u001b[0m             )\n\u001b[1;32m--> 820\u001b[1;33m             \u001b[1;32mreturn\u001b[0m \u001b[0mformatter\u001b[0m\u001b[1;33m.\u001b[0m\u001b[0mto_string\u001b[0m\u001b[1;33m(\u001b[0m\u001b[0mbuf\u001b[0m\u001b[1;33m=\u001b[0m\u001b[0mbuf\u001b[0m\u001b[1;33m,\u001b[0m \u001b[0mencoding\u001b[0m\u001b[1;33m=\u001b[0m\u001b[0mencoding\u001b[0m\u001b[1;33m)\u001b[0m\u001b[1;33m\u001b[0m\u001b[0m\n\u001b[0m\u001b[0;32m    821\u001b[0m \u001b[1;33m\u001b[0m\u001b[0m\n\u001b[0;32m    822\u001b[0m     \u001b[1;31m# ----------------------------------------------------------------------\u001b[0m\u001b[1;33m\u001b[0m\u001b[1;33m\u001b[0m\u001b[0m\n",
      "\u001b[1;32md:\\programme\\python 3.6.6\\lib\\site-packages\\pandas\\io\\formats\\format.py\u001b[0m in \u001b[0;36mto_string\u001b[1;34m(self, buf, encoding)\u001b[0m\n\u001b[0;32m    914\u001b[0m         \u001b[0mencoding\u001b[0m\u001b[1;33m:\u001b[0m \u001b[0mOptional\u001b[0m\u001b[1;33m[\u001b[0m\u001b[0mstr\u001b[0m\u001b[1;33m]\u001b[0m \u001b[1;33m=\u001b[0m \u001b[1;32mNone\u001b[0m\u001b[1;33m,\u001b[0m\u001b[1;33m\u001b[0m\u001b[0m\n\u001b[0;32m    915\u001b[0m     ) -> Optional[str]:\n\u001b[1;32m--> 916\u001b[1;33m         \u001b[1;32mreturn\u001b[0m \u001b[0mself\u001b[0m\u001b[1;33m.\u001b[0m\u001b[0mget_result\u001b[0m\u001b[1;33m(\u001b[0m\u001b[0mbuf\u001b[0m\u001b[1;33m=\u001b[0m\u001b[0mbuf\u001b[0m\u001b[1;33m,\u001b[0m \u001b[0mencoding\u001b[0m\u001b[1;33m=\u001b[0m\u001b[0mencoding\u001b[0m\u001b[1;33m)\u001b[0m\u001b[1;33m\u001b[0m\u001b[0m\n\u001b[0m\u001b[0;32m    917\u001b[0m \u001b[1;33m\u001b[0m\u001b[0m\n\u001b[0;32m    918\u001b[0m     def to_latex(\n",
      "\u001b[1;32md:\\programme\\python 3.6.6\\lib\\site-packages\\pandas\\io\\formats\\format.py\u001b[0m in \u001b[0;36mget_result\u001b[1;34m(self, buf, encoding)\u001b[0m\n\u001b[0;32m    521\u001b[0m         \"\"\"\n\u001b[0;32m    522\u001b[0m         \u001b[1;32mwith\u001b[0m \u001b[0mself\u001b[0m\u001b[1;33m.\u001b[0m\u001b[0mget_buffer\u001b[0m\u001b[1;33m(\u001b[0m\u001b[0mbuf\u001b[0m\u001b[1;33m,\u001b[0m \u001b[0mencoding\u001b[0m\u001b[1;33m=\u001b[0m\u001b[0mencoding\u001b[0m\u001b[1;33m)\u001b[0m \u001b[1;32mas\u001b[0m \u001b[0mf\u001b[0m\u001b[1;33m:\u001b[0m\u001b[1;33m\u001b[0m\u001b[0m\n\u001b[1;32m--> 523\u001b[1;33m             \u001b[0mself\u001b[0m\u001b[1;33m.\u001b[0m\u001b[0mwrite_result\u001b[0m\u001b[1;33m(\u001b[0m\u001b[0mbuf\u001b[0m\u001b[1;33m=\u001b[0m\u001b[0mf\u001b[0m\u001b[1;33m)\u001b[0m\u001b[1;33m\u001b[0m\u001b[0m\n\u001b[0m\u001b[0;32m    524\u001b[0m             \u001b[1;32mif\u001b[0m \u001b[0mbuf\u001b[0m \u001b[1;32mis\u001b[0m \u001b[1;32mNone\u001b[0m\u001b[1;33m:\u001b[0m\u001b[1;33m\u001b[0m\u001b[0m\n\u001b[0;32m    525\u001b[0m                 \u001b[1;32mreturn\u001b[0m \u001b[0mf\u001b[0m\u001b[1;33m.\u001b[0m\u001b[0mgetvalue\u001b[0m\u001b[1;33m(\u001b[0m\u001b[1;33m)\u001b[0m\u001b[1;33m\u001b[0m\u001b[0m\n",
      "\u001b[1;32md:\\programme\\python 3.6.6\\lib\\site-packages\\pandas\\io\\formats\\format.py\u001b[0m in \u001b[0;36mwrite_result\u001b[1;34m(self, buf)\u001b[0m\n\u001b[0;32m    823\u001b[0m         \u001b[1;32melse\u001b[0m\u001b[1;33m:\u001b[0m\u001b[1;33m\u001b[0m\u001b[0m\n\u001b[0;32m    824\u001b[0m \u001b[1;33m\u001b[0m\u001b[0m\n\u001b[1;32m--> 825\u001b[1;33m             \u001b[0mstrcols\u001b[0m \u001b[1;33m=\u001b[0m \u001b[0mself\u001b[0m\u001b[1;33m.\u001b[0m\u001b[0m_to_str_columns\u001b[0m\u001b[1;33m(\u001b[0m\u001b[1;33m)\u001b[0m\u001b[1;33m\u001b[0m\u001b[0m\n\u001b[0m\u001b[0;32m    826\u001b[0m             \u001b[1;32mif\u001b[0m \u001b[0mself\u001b[0m\u001b[1;33m.\u001b[0m\u001b[0mline_width\u001b[0m \u001b[1;32mis\u001b[0m \u001b[1;32mNone\u001b[0m\u001b[1;33m:\u001b[0m  \u001b[1;31m# no need to wrap around just print\u001b[0m\u001b[1;33m\u001b[0m\u001b[0m\n\u001b[0;32m    827\u001b[0m                 \u001b[1;31m# the whole frame\u001b[0m\u001b[1;33m\u001b[0m\u001b[1;33m\u001b[0m\u001b[0m\n",
      "\u001b[1;32md:\\programme\\python 3.6.6\\lib\\site-packages\\pandas\\io\\formats\\format.py\u001b[0m in \u001b[0;36m_to_str_columns\u001b[1;34m(self)\u001b[0m\n\u001b[0;32m    759\u001b[0m                     \u001b[0mself\u001b[0m\u001b[1;33m.\u001b[0m\u001b[0mcol_space\u001b[0m \u001b[1;32mor\u001b[0m \u001b[1;36m0\u001b[0m\u001b[1;33m,\u001b[0m \u001b[1;33m*\u001b[0m\u001b[1;33m(\u001b[0m\u001b[0mself\u001b[0m\u001b[1;33m.\u001b[0m\u001b[0madj\u001b[0m\u001b[1;33m.\u001b[0m\u001b[0mlen\u001b[0m\u001b[1;33m(\u001b[0m\u001b[0mx\u001b[0m\u001b[1;33m)\u001b[0m \u001b[1;32mfor\u001b[0m \u001b[0mx\u001b[0m \u001b[1;32min\u001b[0m \u001b[0mcheader\u001b[0m\u001b[1;33m)\u001b[0m\u001b[1;33m\u001b[0m\u001b[0m\n\u001b[0;32m    760\u001b[0m                 )\n\u001b[1;32m--> 761\u001b[1;33m                 \u001b[0mfmt_values\u001b[0m \u001b[1;33m=\u001b[0m \u001b[0mself\u001b[0m\u001b[1;33m.\u001b[0m\u001b[0m_format_col\u001b[0m\u001b[1;33m(\u001b[0m\u001b[0mi\u001b[0m\u001b[1;33m)\u001b[0m\u001b[1;33m\u001b[0m\u001b[0m\n\u001b[0m\u001b[0;32m    762\u001b[0m                 fmt_values = _make_fixed_width(\n\u001b[0;32m    763\u001b[0m                     \u001b[0mfmt_values\u001b[0m\u001b[1;33m,\u001b[0m \u001b[0mself\u001b[0m\u001b[1;33m.\u001b[0m\u001b[0mjustify\u001b[0m\u001b[1;33m,\u001b[0m \u001b[0mminimum\u001b[0m\u001b[1;33m=\u001b[0m\u001b[0mheader_colwidth\u001b[0m\u001b[1;33m,\u001b[0m \u001b[0madj\u001b[0m\u001b[1;33m=\u001b[0m\u001b[0mself\u001b[0m\u001b[1;33m.\u001b[0m\u001b[0madj\u001b[0m\u001b[1;33m\u001b[0m\u001b[0m\n",
      "\u001b[1;32md:\\programme\\python 3.6.6\\lib\\site-packages\\pandas\\io\\formats\\format.py\u001b[0m in \u001b[0;36m_format_col\u001b[1;34m(self, i)\u001b[0m\n\u001b[0;32m    954\u001b[0m             \u001b[0mna_rep\u001b[0m\u001b[1;33m=\u001b[0m\u001b[0mself\u001b[0m\u001b[1;33m.\u001b[0m\u001b[0mna_rep\u001b[0m\u001b[1;33m,\u001b[0m\u001b[1;33m\u001b[0m\u001b[0m\n\u001b[0;32m    955\u001b[0m             \u001b[0mspace\u001b[0m\u001b[1;33m=\u001b[0m\u001b[0mself\u001b[0m\u001b[1;33m.\u001b[0m\u001b[0mcol_space\u001b[0m\u001b[1;33m,\u001b[0m\u001b[1;33m\u001b[0m\u001b[0m\n\u001b[1;32m--> 956\u001b[1;33m             \u001b[0mdecimal\u001b[0m\u001b[1;33m=\u001b[0m\u001b[0mself\u001b[0m\u001b[1;33m.\u001b[0m\u001b[0mdecimal\u001b[0m\u001b[1;33m,\u001b[0m\u001b[1;33m\u001b[0m\u001b[0m\n\u001b[0m\u001b[0;32m    957\u001b[0m         )\n\u001b[0;32m    958\u001b[0m \u001b[1;33m\u001b[0m\u001b[0m\n",
      "\u001b[1;32md:\\programme\\python 3.6.6\\lib\\site-packages\\pandas\\io\\formats\\format.py\u001b[0m in \u001b[0;36mformat_array\u001b[1;34m(values, formatter, float_format, na_rep, digits, space, justify, decimal, leading_space)\u001b[0m\n\u001b[0;32m   1172\u001b[0m     )\n\u001b[0;32m   1173\u001b[0m \u001b[1;33m\u001b[0m\u001b[0m\n\u001b[1;32m-> 1174\u001b[1;33m     \u001b[1;32mreturn\u001b[0m \u001b[0mfmt_obj\u001b[0m\u001b[1;33m.\u001b[0m\u001b[0mget_result\u001b[0m\u001b[1;33m(\u001b[0m\u001b[1;33m)\u001b[0m\u001b[1;33m\u001b[0m\u001b[0m\n\u001b[0m\u001b[0;32m   1175\u001b[0m \u001b[1;33m\u001b[0m\u001b[0m\n\u001b[0;32m   1176\u001b[0m \u001b[1;33m\u001b[0m\u001b[0m\n",
      "\u001b[1;32md:\\programme\\python 3.6.6\\lib\\site-packages\\pandas\\io\\formats\\format.py\u001b[0m in \u001b[0;36mget_result\u001b[1;34m(self)\u001b[0m\n\u001b[0;32m   1203\u001b[0m \u001b[1;33m\u001b[0m\u001b[0m\n\u001b[0;32m   1204\u001b[0m     \u001b[1;32mdef\u001b[0m \u001b[0mget_result\u001b[0m\u001b[1;33m(\u001b[0m\u001b[0mself\u001b[0m\u001b[1;33m)\u001b[0m \u001b[1;33m->\u001b[0m \u001b[0mList\u001b[0m\u001b[1;33m[\u001b[0m\u001b[0mstr\u001b[0m\u001b[1;33m]\u001b[0m\u001b[1;33m:\u001b[0m\u001b[1;33m\u001b[0m\u001b[0m\n\u001b[1;32m-> 1205\u001b[1;33m         \u001b[0mfmt_values\u001b[0m \u001b[1;33m=\u001b[0m \u001b[0mself\u001b[0m\u001b[1;33m.\u001b[0m\u001b[0m_format_strings\u001b[0m\u001b[1;33m(\u001b[0m\u001b[1;33m)\u001b[0m\u001b[1;33m\u001b[0m\u001b[0m\n\u001b[0m\u001b[0;32m   1206\u001b[0m         \u001b[1;32mreturn\u001b[0m \u001b[0m_make_fixed_width\u001b[0m\u001b[1;33m(\u001b[0m\u001b[0mfmt_values\u001b[0m\u001b[1;33m,\u001b[0m \u001b[0mself\u001b[0m\u001b[1;33m.\u001b[0m\u001b[0mjustify\u001b[0m\u001b[1;33m)\u001b[0m\u001b[1;33m\u001b[0m\u001b[0m\n\u001b[0;32m   1207\u001b[0m \u001b[1;33m\u001b[0m\u001b[0m\n",
      "\u001b[1;32md:\\programme\\python 3.6.6\\lib\\site-packages\\pandas\\io\\formats\\format.py\u001b[0m in \u001b[0;36m_format_strings\u001b[1;34m(self)\u001b[0m\n\u001b[0;32m   1268\u001b[0m                 \u001b[1;32melse\u001b[0m\u001b[1;33m:\u001b[0m\u001b[1;33m\u001b[0m\u001b[0m\n\u001b[0;32m   1269\u001b[0m                     \u001b[0mtpl\u001b[0m \u001b[1;33m=\u001b[0m \u001b[1;34m\" {v}\"\u001b[0m\u001b[1;33m\u001b[0m\u001b[0m\n\u001b[1;32m-> 1270\u001b[1;33m                 \u001b[0mfmt_values\u001b[0m\u001b[1;33m.\u001b[0m\u001b[0mappend\u001b[0m\u001b[1;33m(\u001b[0m\u001b[0mtpl\u001b[0m\u001b[1;33m.\u001b[0m\u001b[0mformat\u001b[0m\u001b[1;33m(\u001b[0m\u001b[0mv\u001b[0m\u001b[1;33m=\u001b[0m\u001b[0m_format\u001b[0m\u001b[1;33m(\u001b[0m\u001b[0mv\u001b[0m\u001b[1;33m)\u001b[0m\u001b[1;33m)\u001b[0m\u001b[1;33m)\u001b[0m\u001b[1;33m\u001b[0m\u001b[0m\n\u001b[0m\u001b[0;32m   1271\u001b[0m \u001b[1;33m\u001b[0m\u001b[0m\n\u001b[0;32m   1272\u001b[0m         \u001b[1;32mreturn\u001b[0m \u001b[0mfmt_values\u001b[0m\u001b[1;33m\u001b[0m\u001b[0m\n",
      "\u001b[1;32md:\\programme\\python 3.6.6\\lib\\site-packages\\pandas\\io\\formats\\format.py\u001b[0m in \u001b[0;36m_format\u001b[1;34m(x)\u001b[0m\n\u001b[0;32m   1242\u001b[0m             \u001b[1;32melse\u001b[0m\u001b[1;33m:\u001b[0m\u001b[1;33m\u001b[0m\u001b[0m\n\u001b[0;32m   1243\u001b[0m                 \u001b[1;31m# object dtype\u001b[0m\u001b[1;33m\u001b[0m\u001b[1;33m\u001b[0m\u001b[0m\n\u001b[1;32m-> 1244\u001b[1;33m                 \u001b[1;32mreturn\u001b[0m \u001b[1;34m\"{x}\"\u001b[0m\u001b[1;33m.\u001b[0m\u001b[0mformat\u001b[0m\u001b[1;33m(\u001b[0m\u001b[0mx\u001b[0m\u001b[1;33m=\u001b[0m\u001b[0mformatter\u001b[0m\u001b[1;33m(\u001b[0m\u001b[0mx\u001b[0m\u001b[1;33m)\u001b[0m\u001b[1;33m)\u001b[0m\u001b[1;33m\u001b[0m\u001b[0m\n\u001b[0m\u001b[0;32m   1245\u001b[0m \u001b[1;33m\u001b[0m\u001b[0m\n\u001b[0;32m   1246\u001b[0m         \u001b[0mvals\u001b[0m \u001b[1;33m=\u001b[0m \u001b[0mself\u001b[0m\u001b[1;33m.\u001b[0m\u001b[0mvalues\u001b[0m\u001b[1;33m\u001b[0m\u001b[0m\n",
      "\u001b[1;32md:\\programme\\python 3.6.6\\lib\\site-packages\\pandas\\io\\formats\\format.py\u001b[0m in \u001b[0;36m<lambda>\u001b[1;34m(x)\u001b[0m\n\u001b[0;32m   1220\u001b[0m             \u001b[0mself\u001b[0m\u001b[1;33m.\u001b[0m\u001b[0mformatter\u001b[0m\u001b[1;33m\u001b[0m\u001b[0m\n\u001b[0;32m   1221\u001b[0m             \u001b[1;32mif\u001b[0m \u001b[0mself\u001b[0m\u001b[1;33m.\u001b[0m\u001b[0mformatter\u001b[0m \u001b[1;32mis\u001b[0m \u001b[1;32mnot\u001b[0m \u001b[1;32mNone\u001b[0m\u001b[1;33m\u001b[0m\u001b[0m\n\u001b[1;32m-> 1222\u001b[1;33m             \u001b[1;32melse\u001b[0m \u001b[1;33m(\u001b[0m\u001b[1;32mlambda\u001b[0m \u001b[0mx\u001b[0m\u001b[1;33m:\u001b[0m \u001b[0mpprint_thing\u001b[0m\u001b[1;33m(\u001b[0m\u001b[0mx\u001b[0m\u001b[1;33m,\u001b[0m \u001b[0mescape_chars\u001b[0m\u001b[1;33m=\u001b[0m\u001b[1;33m(\u001b[0m\u001b[1;34m\"\\t\"\u001b[0m\u001b[1;33m,\u001b[0m \u001b[1;34m\"\\r\"\u001b[0m\u001b[1;33m,\u001b[0m \u001b[1;34m\"\\n\"\u001b[0m\u001b[1;33m)\u001b[0m\u001b[1;33m)\u001b[0m\u001b[1;33m)\u001b[0m\u001b[1;33m\u001b[0m\u001b[0m\n\u001b[0m\u001b[0;32m   1223\u001b[0m         )\n\u001b[0;32m   1224\u001b[0m \u001b[1;33m\u001b[0m\u001b[0m\n",
      "\u001b[1;32md:\\programme\\python 3.6.6\\lib\\site-packages\\pandas\\io\\formats\\printing.py\u001b[0m in \u001b[0;36mpprint_thing\u001b[1;34m(thing, _nest_lvl, escape_chars, default_escapes, quote_strings, max_seq_items)\u001b[0m\n\u001b[0;32m    223\u001b[0m             \u001b[0mescape_chars\u001b[0m\u001b[1;33m=\u001b[0m\u001b[0mescape_chars\u001b[0m\u001b[1;33m,\u001b[0m\u001b[1;33m\u001b[0m\u001b[0m\n\u001b[0;32m    224\u001b[0m             \u001b[0mquote_strings\u001b[0m\u001b[1;33m=\u001b[0m\u001b[0mquote_strings\u001b[0m\u001b[1;33m,\u001b[0m\u001b[1;33m\u001b[0m\u001b[0m\n\u001b[1;32m--> 225\u001b[1;33m             \u001b[0mmax_seq_items\u001b[0m\u001b[1;33m=\u001b[0m\u001b[0mmax_seq_items\u001b[0m\u001b[1;33m,\u001b[0m\u001b[1;33m\u001b[0m\u001b[0m\n\u001b[0m\u001b[0;32m    226\u001b[0m         )\n\u001b[0;32m    227\u001b[0m     \u001b[1;32melif\u001b[0m \u001b[0misinstance\u001b[0m\u001b[1;33m(\u001b[0m\u001b[0mthing\u001b[0m\u001b[1;33m,\u001b[0m \u001b[0mstr\u001b[0m\u001b[1;33m)\u001b[0m \u001b[1;32mand\u001b[0m \u001b[0mquote_strings\u001b[0m\u001b[1;33m:\u001b[0m\u001b[1;33m\u001b[0m\u001b[0m\n",
      "\u001b[1;32md:\\programme\\python 3.6.6\\lib\\site-packages\\pandas\\io\\formats\\printing.py\u001b[0m in \u001b[0;36m_pprint_seq\u001b[1;34m(seq, _nest_lvl, max_seq_items, **kwds)\u001b[0m\n\u001b[0;32m    117\u001b[0m     r = [\n\u001b[0;32m    118\u001b[0m         \u001b[0mpprint_thing\u001b[0m\u001b[1;33m(\u001b[0m\u001b[0mnext\u001b[0m\u001b[1;33m(\u001b[0m\u001b[0ms\u001b[0m\u001b[1;33m)\u001b[0m\u001b[1;33m,\u001b[0m \u001b[0m_nest_lvl\u001b[0m \u001b[1;33m+\u001b[0m \u001b[1;36m1\u001b[0m\u001b[1;33m,\u001b[0m \u001b[0mmax_seq_items\u001b[0m\u001b[1;33m=\u001b[0m\u001b[0mmax_seq_items\u001b[0m\u001b[1;33m,\u001b[0m \u001b[1;33m**\u001b[0m\u001b[0mkwds\u001b[0m\u001b[1;33m)\u001b[0m\u001b[1;33m\u001b[0m\u001b[0m\n\u001b[1;32m--> 119\u001b[1;33m         \u001b[1;32mfor\u001b[0m \u001b[0mi\u001b[0m \u001b[1;32min\u001b[0m \u001b[0mrange\u001b[0m\u001b[1;33m(\u001b[0m\u001b[0mmin\u001b[0m\u001b[1;33m(\u001b[0m\u001b[0mnitems\u001b[0m\u001b[1;33m,\u001b[0m \u001b[0mlen\u001b[0m\u001b[1;33m(\u001b[0m\u001b[0mseq\u001b[0m\u001b[1;33m)\u001b[0m\u001b[1;33m)\u001b[0m\u001b[1;33m)\u001b[0m\u001b[1;33m\u001b[0m\u001b[0m\n\u001b[0m\u001b[0;32m    120\u001b[0m     ]\n\u001b[0;32m    121\u001b[0m     \u001b[0mbody\u001b[0m \u001b[1;33m=\u001b[0m \u001b[1;34m\", \"\u001b[0m\u001b[1;33m.\u001b[0m\u001b[0mjoin\u001b[0m\u001b[1;33m(\u001b[0m\u001b[0mr\u001b[0m\u001b[1;33m)\u001b[0m\u001b[1;33m\u001b[0m\u001b[0m\n",
      "\u001b[1;32md:\\programme\\python 3.6.6\\lib\\site-packages\\pandas\\io\\formats\\printing.py\u001b[0m in \u001b[0;36m<listcomp>\u001b[1;34m(.0)\u001b[0m\n\u001b[0;32m    117\u001b[0m     r = [\n\u001b[0;32m    118\u001b[0m         \u001b[0mpprint_thing\u001b[0m\u001b[1;33m(\u001b[0m\u001b[0mnext\u001b[0m\u001b[1;33m(\u001b[0m\u001b[0ms\u001b[0m\u001b[1;33m)\u001b[0m\u001b[1;33m,\u001b[0m \u001b[0m_nest_lvl\u001b[0m \u001b[1;33m+\u001b[0m \u001b[1;36m1\u001b[0m\u001b[1;33m,\u001b[0m \u001b[0mmax_seq_items\u001b[0m\u001b[1;33m=\u001b[0m\u001b[0mmax_seq_items\u001b[0m\u001b[1;33m,\u001b[0m \u001b[1;33m**\u001b[0m\u001b[0mkwds\u001b[0m\u001b[1;33m)\u001b[0m\u001b[1;33m\u001b[0m\u001b[0m\n\u001b[1;32m--> 119\u001b[1;33m         \u001b[1;32mfor\u001b[0m \u001b[0mi\u001b[0m \u001b[1;32min\u001b[0m \u001b[0mrange\u001b[0m\u001b[1;33m(\u001b[0m\u001b[0mmin\u001b[0m\u001b[1;33m(\u001b[0m\u001b[0mnitems\u001b[0m\u001b[1;33m,\u001b[0m \u001b[0mlen\u001b[0m\u001b[1;33m(\u001b[0m\u001b[0mseq\u001b[0m\u001b[1;33m)\u001b[0m\u001b[1;33m)\u001b[0m\u001b[1;33m)\u001b[0m\u001b[1;33m\u001b[0m\u001b[0m\n\u001b[0m\u001b[0;32m    120\u001b[0m     ]\n\u001b[0;32m    121\u001b[0m     \u001b[0mbody\u001b[0m \u001b[1;33m=\u001b[0m \u001b[1;34m\", \"\u001b[0m\u001b[1;33m.\u001b[0m\u001b[0mjoin\u001b[0m\u001b[1;33m(\u001b[0m\u001b[0mr\u001b[0m\u001b[1;33m)\u001b[0m\u001b[1;33m\u001b[0m\u001b[0m\n",
      "\u001b[1;32md:\\programme\\python 3.6.6\\lib\\site-packages\\pandas\\io\\formats\\printing.py\u001b[0m in \u001b[0;36mpprint_thing\u001b[1;34m(thing, _nest_lvl, escape_chars, default_escapes, quote_strings, max_seq_items)\u001b[0m\n\u001b[0;32m    209\u001b[0m         \u001b[1;32mreturn\u001b[0m \u001b[0mresult\u001b[0m\u001b[1;33m\u001b[0m\u001b[0m\n\u001b[0;32m    210\u001b[0m \u001b[1;33m\u001b[0m\u001b[0m\n\u001b[1;32m--> 211\u001b[1;33m     \u001b[1;32mif\u001b[0m \u001b[0mhasattr\u001b[0m\u001b[1;33m(\u001b[0m\u001b[0mthing\u001b[0m\u001b[1;33m,\u001b[0m \u001b[1;34m\"__next__\"\u001b[0m\u001b[1;33m)\u001b[0m\u001b[1;33m:\u001b[0m\u001b[1;33m\u001b[0m\u001b[0m\n\u001b[0m\u001b[0;32m    212\u001b[0m         \u001b[1;32mreturn\u001b[0m \u001b[0mstr\u001b[0m\u001b[1;33m(\u001b[0m\u001b[0mthing\u001b[0m\u001b[1;33m)\u001b[0m\u001b[1;33m\u001b[0m\u001b[0m\n\u001b[0;32m    213\u001b[0m     elif isinstance(thing, dict) and _nest_lvl < get_option(\n",
      "\u001b[1;31mKeyError\u001b[0m: '__next__'"
     ]
    },
    {
     "ename": "KeyError",
     "evalue": "'__next__'",
     "output_type": "error",
     "traceback": [
      "\u001b[1;31m---------------------------------------------------------------------------\u001b[0m",
      "\u001b[1;31mKeyError\u001b[0m                                  Traceback (most recent call last)",
      "\u001b[1;32md:\\programme\\python 3.6.6\\lib\\site-packages\\IPython\\core\\formatters.py\u001b[0m in \u001b[0;36m__call__\u001b[1;34m(self, obj)\u001b[0m\n\u001b[0;32m    343\u001b[0m             \u001b[0mmethod\u001b[0m \u001b[1;33m=\u001b[0m \u001b[0mget_real_method\u001b[0m\u001b[1;33m(\u001b[0m\u001b[0mobj\u001b[0m\u001b[1;33m,\u001b[0m \u001b[0mself\u001b[0m\u001b[1;33m.\u001b[0m\u001b[0mprint_method\u001b[0m\u001b[1;33m)\u001b[0m\u001b[1;33m\u001b[0m\u001b[0m\n\u001b[0;32m    344\u001b[0m             \u001b[1;32mif\u001b[0m \u001b[0mmethod\u001b[0m \u001b[1;32mis\u001b[0m \u001b[1;32mnot\u001b[0m \u001b[1;32mNone\u001b[0m\u001b[1;33m:\u001b[0m\u001b[1;33m\u001b[0m\u001b[0m\n\u001b[1;32m--> 345\u001b[1;33m                 \u001b[1;32mreturn\u001b[0m \u001b[0mmethod\u001b[0m\u001b[1;33m(\u001b[0m\u001b[1;33m)\u001b[0m\u001b[1;33m\u001b[0m\u001b[0m\n\u001b[0m\u001b[0;32m    346\u001b[0m             \u001b[1;32mreturn\u001b[0m \u001b[1;32mNone\u001b[0m\u001b[1;33m\u001b[0m\u001b[0m\n\u001b[0;32m    347\u001b[0m         \u001b[1;32melse\u001b[0m\u001b[1;33m:\u001b[0m\u001b[1;33m\u001b[0m\u001b[0m\n",
      "\u001b[1;32md:\\programme\\python 3.6.6\\lib\\site-packages\\pandas\\core\\frame.py\u001b[0m in \u001b[0;36m_repr_html_\u001b[1;34m(self)\u001b[0m\n\u001b[0;32m    732\u001b[0m                 \u001b[0mrender_links\u001b[0m\u001b[1;33m=\u001b[0m\u001b[1;32mFalse\u001b[0m\u001b[1;33m,\u001b[0m\u001b[1;33m\u001b[0m\u001b[0m\n\u001b[0;32m    733\u001b[0m             )\n\u001b[1;32m--> 734\u001b[1;33m             \u001b[1;32mreturn\u001b[0m \u001b[0mformatter\u001b[0m\u001b[1;33m.\u001b[0m\u001b[0mto_html\u001b[0m\u001b[1;33m(\u001b[0m\u001b[0mnotebook\u001b[0m\u001b[1;33m=\u001b[0m\u001b[1;32mTrue\u001b[0m\u001b[1;33m)\u001b[0m\u001b[1;33m\u001b[0m\u001b[0m\n\u001b[0m\u001b[0;32m    735\u001b[0m         \u001b[1;32melse\u001b[0m\u001b[1;33m:\u001b[0m\u001b[1;33m\u001b[0m\u001b[0m\n\u001b[0;32m    736\u001b[0m             \u001b[1;32mreturn\u001b[0m \u001b[1;32mNone\u001b[0m\u001b[1;33m\u001b[0m\u001b[0m\n",
      "\u001b[1;32md:\\programme\\python 3.6.6\\lib\\site-packages\\pandas\\io\\formats\\format.py\u001b[0m in \u001b[0;36mto_html\u001b[1;34m(self, buf, encoding, classes, notebook, border)\u001b[0m\n\u001b[0;32m    983\u001b[0m         \u001b[0mKlass\u001b[0m \u001b[1;33m=\u001b[0m \u001b[0mNotebookFormatter\u001b[0m \u001b[1;32mif\u001b[0m \u001b[0mnotebook\u001b[0m \u001b[1;32melse\u001b[0m \u001b[0mHTMLFormatter\u001b[0m\u001b[1;33m\u001b[0m\u001b[0m\n\u001b[0;32m    984\u001b[0m         return Klass(self, classes=classes, border=border).get_result(\n\u001b[1;32m--> 985\u001b[1;33m             \u001b[0mbuf\u001b[0m\u001b[1;33m=\u001b[0m\u001b[0mbuf\u001b[0m\u001b[1;33m,\u001b[0m \u001b[0mencoding\u001b[0m\u001b[1;33m=\u001b[0m\u001b[0mencoding\u001b[0m\u001b[1;33m\u001b[0m\u001b[0m\n\u001b[0m\u001b[0;32m    986\u001b[0m         )\n\u001b[0;32m    987\u001b[0m \u001b[1;33m\u001b[0m\u001b[0m\n",
      "\u001b[1;32md:\\programme\\python 3.6.6\\lib\\site-packages\\pandas\\io\\formats\\format.py\u001b[0m in \u001b[0;36mget_result\u001b[1;34m(self, buf, encoding)\u001b[0m\n\u001b[0;32m    521\u001b[0m         \"\"\"\n\u001b[0;32m    522\u001b[0m         \u001b[1;32mwith\u001b[0m \u001b[0mself\u001b[0m\u001b[1;33m.\u001b[0m\u001b[0mget_buffer\u001b[0m\u001b[1;33m(\u001b[0m\u001b[0mbuf\u001b[0m\u001b[1;33m,\u001b[0m \u001b[0mencoding\u001b[0m\u001b[1;33m=\u001b[0m\u001b[0mencoding\u001b[0m\u001b[1;33m)\u001b[0m \u001b[1;32mas\u001b[0m \u001b[0mf\u001b[0m\u001b[1;33m:\u001b[0m\u001b[1;33m\u001b[0m\u001b[0m\n\u001b[1;32m--> 523\u001b[1;33m             \u001b[0mself\u001b[0m\u001b[1;33m.\u001b[0m\u001b[0mwrite_result\u001b[0m\u001b[1;33m(\u001b[0m\u001b[0mbuf\u001b[0m\u001b[1;33m=\u001b[0m\u001b[0mf\u001b[0m\u001b[1;33m)\u001b[0m\u001b[1;33m\u001b[0m\u001b[0m\n\u001b[0m\u001b[0;32m    524\u001b[0m             \u001b[1;32mif\u001b[0m \u001b[0mbuf\u001b[0m \u001b[1;32mis\u001b[0m \u001b[1;32mNone\u001b[0m\u001b[1;33m:\u001b[0m\u001b[1;33m\u001b[0m\u001b[0m\n\u001b[0;32m    525\u001b[0m                 \u001b[1;32mreturn\u001b[0m \u001b[0mf\u001b[0m\u001b[1;33m.\u001b[0m\u001b[0mgetvalue\u001b[0m\u001b[1;33m(\u001b[0m\u001b[1;33m)\u001b[0m\u001b[1;33m\u001b[0m\u001b[0m\n",
      "\u001b[1;32md:\\programme\\python 3.6.6\\lib\\site-packages\\pandas\\io\\formats\\html.py\u001b[0m in \u001b[0;36mwrite_result\u001b[1;34m(self, buf)\u001b[0m\n\u001b[0;32m    205\u001b[0m \u001b[1;33m\u001b[0m\u001b[0m\n\u001b[0;32m    206\u001b[0m     \u001b[1;32mdef\u001b[0m \u001b[0mwrite_result\u001b[0m\u001b[1;33m(\u001b[0m\u001b[0mself\u001b[0m\u001b[1;33m,\u001b[0m \u001b[0mbuf\u001b[0m\u001b[1;33m:\u001b[0m \u001b[0mIO\u001b[0m\u001b[1;33m[\u001b[0m\u001b[0mstr\u001b[0m\u001b[1;33m]\u001b[0m\u001b[1;33m)\u001b[0m \u001b[1;33m->\u001b[0m \u001b[1;32mNone\u001b[0m\u001b[1;33m:\u001b[0m\u001b[1;33m\u001b[0m\u001b[0m\n\u001b[1;32m--> 207\u001b[1;33m         \u001b[0mbuffer_put_lines\u001b[0m\u001b[1;33m(\u001b[0m\u001b[0mbuf\u001b[0m\u001b[1;33m,\u001b[0m \u001b[0mself\u001b[0m\u001b[1;33m.\u001b[0m\u001b[0mrender\u001b[0m\u001b[1;33m(\u001b[0m\u001b[1;33m)\u001b[0m\u001b[1;33m)\u001b[0m\u001b[1;33m\u001b[0m\u001b[0m\n\u001b[0m\u001b[0;32m    208\u001b[0m \u001b[1;33m\u001b[0m\u001b[0m\n\u001b[0;32m    209\u001b[0m     \u001b[1;32mdef\u001b[0m \u001b[0m_write_table\u001b[0m\u001b[1;33m(\u001b[0m\u001b[0mself\u001b[0m\u001b[1;33m,\u001b[0m \u001b[0mindent\u001b[0m\u001b[1;33m:\u001b[0m \u001b[0mint\u001b[0m \u001b[1;33m=\u001b[0m \u001b[1;36m0\u001b[0m\u001b[1;33m)\u001b[0m \u001b[1;33m->\u001b[0m \u001b[1;32mNone\u001b[0m\u001b[1;33m:\u001b[0m\u001b[1;33m\u001b[0m\u001b[0m\n",
      "\u001b[1;32md:\\programme\\python 3.6.6\\lib\\site-packages\\pandas\\io\\formats\\html.py\u001b[0m in \u001b[0;36mrender\u001b[1;34m(self)\u001b[0m\n\u001b[0;32m    610\u001b[0m         \u001b[0mself\u001b[0m\u001b[1;33m.\u001b[0m\u001b[0mwrite\u001b[0m\u001b[1;33m(\u001b[0m\u001b[1;34m\"<div>\"\u001b[0m\u001b[1;33m)\u001b[0m\u001b[1;33m\u001b[0m\u001b[0m\n\u001b[0;32m    611\u001b[0m         \u001b[0mself\u001b[0m\u001b[1;33m.\u001b[0m\u001b[0mwrite_style\u001b[0m\u001b[1;33m(\u001b[0m\u001b[1;33m)\u001b[0m\u001b[1;33m\u001b[0m\u001b[0m\n\u001b[1;32m--> 612\u001b[1;33m         \u001b[0msuper\u001b[0m\u001b[1;33m(\u001b[0m\u001b[1;33m)\u001b[0m\u001b[1;33m.\u001b[0m\u001b[0mrender\u001b[0m\u001b[1;33m(\u001b[0m\u001b[1;33m)\u001b[0m\u001b[1;33m\u001b[0m\u001b[0m\n\u001b[0m\u001b[0;32m    613\u001b[0m         \u001b[0mself\u001b[0m\u001b[1;33m.\u001b[0m\u001b[0mwrite\u001b[0m\u001b[1;33m(\u001b[0m\u001b[1;34m\"</div>\"\u001b[0m\u001b[1;33m)\u001b[0m\u001b[1;33m\u001b[0m\u001b[0m\n\u001b[0;32m    614\u001b[0m         \u001b[1;32mreturn\u001b[0m \u001b[0mself\u001b[0m\u001b[1;33m.\u001b[0m\u001b[0melements\u001b[0m\u001b[1;33m\u001b[0m\u001b[0m\n",
      "\u001b[1;32md:\\programme\\python 3.6.6\\lib\\site-packages\\pandas\\io\\formats\\html.py\u001b[0m in \u001b[0;36mrender\u001b[1;34m(self)\u001b[0m\n\u001b[0;32m    192\u001b[0m \u001b[1;33m\u001b[0m\u001b[0m\n\u001b[0;32m    193\u001b[0m     \u001b[1;32mdef\u001b[0m \u001b[0mrender\u001b[0m\u001b[1;33m(\u001b[0m\u001b[0mself\u001b[0m\u001b[1;33m)\u001b[0m \u001b[1;33m->\u001b[0m \u001b[0mList\u001b[0m\u001b[1;33m[\u001b[0m\u001b[0mstr\u001b[0m\u001b[1;33m]\u001b[0m\u001b[1;33m:\u001b[0m\u001b[1;33m\u001b[0m\u001b[0m\n\u001b[1;32m--> 194\u001b[1;33m         \u001b[0mself\u001b[0m\u001b[1;33m.\u001b[0m\u001b[0m_write_table\u001b[0m\u001b[1;33m(\u001b[0m\u001b[1;33m)\u001b[0m\u001b[1;33m\u001b[0m\u001b[0m\n\u001b[0m\u001b[0;32m    195\u001b[0m \u001b[1;33m\u001b[0m\u001b[0m\n\u001b[0;32m    196\u001b[0m         \u001b[1;32mif\u001b[0m \u001b[0mself\u001b[0m\u001b[1;33m.\u001b[0m\u001b[0mshould_show_dimensions\u001b[0m\u001b[1;33m:\u001b[0m\u001b[1;33m\u001b[0m\u001b[0m\n",
      "\u001b[1;32md:\\programme\\python 3.6.6\\lib\\site-packages\\pandas\\io\\formats\\html.py\u001b[0m in \u001b[0;36m_write_table\u001b[1;34m(self, indent)\u001b[0m\n\u001b[0;32m    237\u001b[0m             \u001b[0mself\u001b[0m\u001b[1;33m.\u001b[0m\u001b[0m_write_header\u001b[0m\u001b[1;33m(\u001b[0m\u001b[0mindent\u001b[0m \u001b[1;33m+\u001b[0m \u001b[0mself\u001b[0m\u001b[1;33m.\u001b[0m\u001b[0mindent_delta\u001b[0m\u001b[1;33m)\u001b[0m\u001b[1;33m\u001b[0m\u001b[0m\n\u001b[0;32m    238\u001b[0m \u001b[1;33m\u001b[0m\u001b[0m\n\u001b[1;32m--> 239\u001b[1;33m         \u001b[0mself\u001b[0m\u001b[1;33m.\u001b[0m\u001b[0m_write_body\u001b[0m\u001b[1;33m(\u001b[0m\u001b[0mindent\u001b[0m \u001b[1;33m+\u001b[0m \u001b[0mself\u001b[0m\u001b[1;33m.\u001b[0m\u001b[0mindent_delta\u001b[0m\u001b[1;33m)\u001b[0m\u001b[1;33m\u001b[0m\u001b[0m\n\u001b[0m\u001b[0;32m    240\u001b[0m \u001b[1;33m\u001b[0m\u001b[0m\n\u001b[0;32m    241\u001b[0m         \u001b[0mself\u001b[0m\u001b[1;33m.\u001b[0m\u001b[0mwrite\u001b[0m\u001b[1;33m(\u001b[0m\u001b[1;34m\"</table>\"\u001b[0m\u001b[1;33m,\u001b[0m \u001b[0mindent\u001b[0m\u001b[1;33m)\u001b[0m\u001b[1;33m\u001b[0m\u001b[0m\n",
      "\u001b[1;32md:\\programme\\python 3.6.6\\lib\\site-packages\\pandas\\io\\formats\\html.py\u001b[0m in \u001b[0;36m_write_body\u001b[1;34m(self, indent)\u001b[0m\n\u001b[0;32m    383\u001b[0m     \u001b[1;32mdef\u001b[0m \u001b[0m_write_body\u001b[0m\u001b[1;33m(\u001b[0m\u001b[0mself\u001b[0m\u001b[1;33m,\u001b[0m \u001b[0mindent\u001b[0m\u001b[1;33m:\u001b[0m \u001b[0mint\u001b[0m\u001b[1;33m)\u001b[0m \u001b[1;33m->\u001b[0m \u001b[1;32mNone\u001b[0m\u001b[1;33m:\u001b[0m\u001b[1;33m\u001b[0m\u001b[0m\n\u001b[0;32m    384\u001b[0m         \u001b[0mself\u001b[0m\u001b[1;33m.\u001b[0m\u001b[0mwrite\u001b[0m\u001b[1;33m(\u001b[0m\u001b[1;34m\"<tbody>\"\u001b[0m\u001b[1;33m,\u001b[0m \u001b[0mindent\u001b[0m\u001b[1;33m)\u001b[0m\u001b[1;33m\u001b[0m\u001b[0m\n\u001b[1;32m--> 385\u001b[1;33m         \u001b[0mfmt_values\u001b[0m \u001b[1;33m=\u001b[0m \u001b[0mself\u001b[0m\u001b[1;33m.\u001b[0m\u001b[0m_get_formatted_values\u001b[0m\u001b[1;33m(\u001b[0m\u001b[1;33m)\u001b[0m\u001b[1;33m\u001b[0m\u001b[0m\n\u001b[0m\u001b[0;32m    386\u001b[0m \u001b[1;33m\u001b[0m\u001b[0m\n\u001b[0;32m    387\u001b[0m         \u001b[1;31m# write values\u001b[0m\u001b[1;33m\u001b[0m\u001b[1;33m\u001b[0m\u001b[0m\n",
      "\u001b[1;32md:\\programme\\python 3.6.6\\lib\\site-packages\\pandas\\io\\formats\\html.py\u001b[0m in \u001b[0;36m_get_formatted_values\u001b[1;34m(self)\u001b[0m\n\u001b[0;32m    574\u001b[0m \u001b[1;33m\u001b[0m\u001b[0m\n\u001b[0;32m    575\u001b[0m     \u001b[1;32mdef\u001b[0m \u001b[0m_get_formatted_values\u001b[0m\u001b[1;33m(\u001b[0m\u001b[0mself\u001b[0m\u001b[1;33m)\u001b[0m \u001b[1;33m->\u001b[0m \u001b[0mDict\u001b[0m\u001b[1;33m[\u001b[0m\u001b[0mint\u001b[0m\u001b[1;33m,\u001b[0m \u001b[0mList\u001b[0m\u001b[1;33m[\u001b[0m\u001b[0mstr\u001b[0m\u001b[1;33m]\u001b[0m\u001b[1;33m]\u001b[0m\u001b[1;33m:\u001b[0m\u001b[1;33m\u001b[0m\u001b[0m\n\u001b[1;32m--> 576\u001b[1;33m         \u001b[1;32mreturn\u001b[0m \u001b[1;33m{\u001b[0m\u001b[0mi\u001b[0m\u001b[1;33m:\u001b[0m \u001b[0mself\u001b[0m\u001b[1;33m.\u001b[0m\u001b[0mfmt\u001b[0m\u001b[1;33m.\u001b[0m\u001b[0m_format_col\u001b[0m\u001b[1;33m(\u001b[0m\u001b[0mi\u001b[0m\u001b[1;33m)\u001b[0m \u001b[1;32mfor\u001b[0m \u001b[0mi\u001b[0m \u001b[1;32min\u001b[0m \u001b[0mrange\u001b[0m\u001b[1;33m(\u001b[0m\u001b[0mself\u001b[0m\u001b[1;33m.\u001b[0m\u001b[0mncols\u001b[0m\u001b[1;33m)\u001b[0m\u001b[1;33m}\u001b[0m\u001b[1;33m\u001b[0m\u001b[0m\n\u001b[0m\u001b[0;32m    577\u001b[0m \u001b[1;33m\u001b[0m\u001b[0m\n\u001b[0;32m    578\u001b[0m     \u001b[1;32mdef\u001b[0m \u001b[0m_get_columns_formatted_values\u001b[0m\u001b[1;33m(\u001b[0m\u001b[0mself\u001b[0m\u001b[1;33m)\u001b[0m \u001b[1;33m->\u001b[0m \u001b[0mList\u001b[0m\u001b[1;33m[\u001b[0m\u001b[0mstr\u001b[0m\u001b[1;33m]\u001b[0m\u001b[1;33m:\u001b[0m\u001b[1;33m\u001b[0m\u001b[0m\n",
      "\u001b[1;32md:\\programme\\python 3.6.6\\lib\\site-packages\\pandas\\io\\formats\\html.py\u001b[0m in \u001b[0;36m<dictcomp>\u001b[1;34m(.0)\u001b[0m\n\u001b[0;32m    574\u001b[0m \u001b[1;33m\u001b[0m\u001b[0m\n\u001b[0;32m    575\u001b[0m     \u001b[1;32mdef\u001b[0m \u001b[0m_get_formatted_values\u001b[0m\u001b[1;33m(\u001b[0m\u001b[0mself\u001b[0m\u001b[1;33m)\u001b[0m \u001b[1;33m->\u001b[0m \u001b[0mDict\u001b[0m\u001b[1;33m[\u001b[0m\u001b[0mint\u001b[0m\u001b[1;33m,\u001b[0m \u001b[0mList\u001b[0m\u001b[1;33m[\u001b[0m\u001b[0mstr\u001b[0m\u001b[1;33m]\u001b[0m\u001b[1;33m]\u001b[0m\u001b[1;33m:\u001b[0m\u001b[1;33m\u001b[0m\u001b[0m\n\u001b[1;32m--> 576\u001b[1;33m         \u001b[1;32mreturn\u001b[0m \u001b[1;33m{\u001b[0m\u001b[0mi\u001b[0m\u001b[1;33m:\u001b[0m \u001b[0mself\u001b[0m\u001b[1;33m.\u001b[0m\u001b[0mfmt\u001b[0m\u001b[1;33m.\u001b[0m\u001b[0m_format_col\u001b[0m\u001b[1;33m(\u001b[0m\u001b[0mi\u001b[0m\u001b[1;33m)\u001b[0m \u001b[1;32mfor\u001b[0m \u001b[0mi\u001b[0m \u001b[1;32min\u001b[0m \u001b[0mrange\u001b[0m\u001b[1;33m(\u001b[0m\u001b[0mself\u001b[0m\u001b[1;33m.\u001b[0m\u001b[0mncols\u001b[0m\u001b[1;33m)\u001b[0m\u001b[1;33m}\u001b[0m\u001b[1;33m\u001b[0m\u001b[0m\n\u001b[0m\u001b[0;32m    577\u001b[0m \u001b[1;33m\u001b[0m\u001b[0m\n\u001b[0;32m    578\u001b[0m     \u001b[1;32mdef\u001b[0m \u001b[0m_get_columns_formatted_values\u001b[0m\u001b[1;33m(\u001b[0m\u001b[0mself\u001b[0m\u001b[1;33m)\u001b[0m \u001b[1;33m->\u001b[0m \u001b[0mList\u001b[0m\u001b[1;33m[\u001b[0m\u001b[0mstr\u001b[0m\u001b[1;33m]\u001b[0m\u001b[1;33m:\u001b[0m\u001b[1;33m\u001b[0m\u001b[0m\n",
      "\u001b[1;32md:\\programme\\python 3.6.6\\lib\\site-packages\\pandas\\io\\formats\\format.py\u001b[0m in \u001b[0;36m_format_col\u001b[1;34m(self, i)\u001b[0m\n\u001b[0;32m    954\u001b[0m             \u001b[0mna_rep\u001b[0m\u001b[1;33m=\u001b[0m\u001b[0mself\u001b[0m\u001b[1;33m.\u001b[0m\u001b[0mna_rep\u001b[0m\u001b[1;33m,\u001b[0m\u001b[1;33m\u001b[0m\u001b[0m\n\u001b[0;32m    955\u001b[0m             \u001b[0mspace\u001b[0m\u001b[1;33m=\u001b[0m\u001b[0mself\u001b[0m\u001b[1;33m.\u001b[0m\u001b[0mcol_space\u001b[0m\u001b[1;33m,\u001b[0m\u001b[1;33m\u001b[0m\u001b[0m\n\u001b[1;32m--> 956\u001b[1;33m             \u001b[0mdecimal\u001b[0m\u001b[1;33m=\u001b[0m\u001b[0mself\u001b[0m\u001b[1;33m.\u001b[0m\u001b[0mdecimal\u001b[0m\u001b[1;33m,\u001b[0m\u001b[1;33m\u001b[0m\u001b[0m\n\u001b[0m\u001b[0;32m    957\u001b[0m         )\n\u001b[0;32m    958\u001b[0m \u001b[1;33m\u001b[0m\u001b[0m\n",
      "\u001b[1;32md:\\programme\\python 3.6.6\\lib\\site-packages\\pandas\\io\\formats\\format.py\u001b[0m in \u001b[0;36mformat_array\u001b[1;34m(values, formatter, float_format, na_rep, digits, space, justify, decimal, leading_space)\u001b[0m\n\u001b[0;32m   1172\u001b[0m     )\n\u001b[0;32m   1173\u001b[0m \u001b[1;33m\u001b[0m\u001b[0m\n\u001b[1;32m-> 1174\u001b[1;33m     \u001b[1;32mreturn\u001b[0m \u001b[0mfmt_obj\u001b[0m\u001b[1;33m.\u001b[0m\u001b[0mget_result\u001b[0m\u001b[1;33m(\u001b[0m\u001b[1;33m)\u001b[0m\u001b[1;33m\u001b[0m\u001b[0m\n\u001b[0m\u001b[0;32m   1175\u001b[0m \u001b[1;33m\u001b[0m\u001b[0m\n\u001b[0;32m   1176\u001b[0m \u001b[1;33m\u001b[0m\u001b[0m\n",
      "\u001b[1;32md:\\programme\\python 3.6.6\\lib\\site-packages\\pandas\\io\\formats\\format.py\u001b[0m in \u001b[0;36mget_result\u001b[1;34m(self)\u001b[0m\n\u001b[0;32m   1203\u001b[0m \u001b[1;33m\u001b[0m\u001b[0m\n\u001b[0;32m   1204\u001b[0m     \u001b[1;32mdef\u001b[0m \u001b[0mget_result\u001b[0m\u001b[1;33m(\u001b[0m\u001b[0mself\u001b[0m\u001b[1;33m)\u001b[0m \u001b[1;33m->\u001b[0m \u001b[0mList\u001b[0m\u001b[1;33m[\u001b[0m\u001b[0mstr\u001b[0m\u001b[1;33m]\u001b[0m\u001b[1;33m:\u001b[0m\u001b[1;33m\u001b[0m\u001b[0m\n\u001b[1;32m-> 1205\u001b[1;33m         \u001b[0mfmt_values\u001b[0m \u001b[1;33m=\u001b[0m \u001b[0mself\u001b[0m\u001b[1;33m.\u001b[0m\u001b[0m_format_strings\u001b[0m\u001b[1;33m(\u001b[0m\u001b[1;33m)\u001b[0m\u001b[1;33m\u001b[0m\u001b[0m\n\u001b[0m\u001b[0;32m   1206\u001b[0m         \u001b[1;32mreturn\u001b[0m \u001b[0m_make_fixed_width\u001b[0m\u001b[1;33m(\u001b[0m\u001b[0mfmt_values\u001b[0m\u001b[1;33m,\u001b[0m \u001b[0mself\u001b[0m\u001b[1;33m.\u001b[0m\u001b[0mjustify\u001b[0m\u001b[1;33m)\u001b[0m\u001b[1;33m\u001b[0m\u001b[0m\n\u001b[0;32m   1207\u001b[0m \u001b[1;33m\u001b[0m\u001b[0m\n",
      "\u001b[1;32md:\\programme\\python 3.6.6\\lib\\site-packages\\pandas\\io\\formats\\format.py\u001b[0m in \u001b[0;36m_format_strings\u001b[1;34m(self)\u001b[0m\n\u001b[0;32m   1268\u001b[0m                 \u001b[1;32melse\u001b[0m\u001b[1;33m:\u001b[0m\u001b[1;33m\u001b[0m\u001b[0m\n\u001b[0;32m   1269\u001b[0m                     \u001b[0mtpl\u001b[0m \u001b[1;33m=\u001b[0m \u001b[1;34m\" {v}\"\u001b[0m\u001b[1;33m\u001b[0m\u001b[0m\n\u001b[1;32m-> 1270\u001b[1;33m                 \u001b[0mfmt_values\u001b[0m\u001b[1;33m.\u001b[0m\u001b[0mappend\u001b[0m\u001b[1;33m(\u001b[0m\u001b[0mtpl\u001b[0m\u001b[1;33m.\u001b[0m\u001b[0mformat\u001b[0m\u001b[1;33m(\u001b[0m\u001b[0mv\u001b[0m\u001b[1;33m=\u001b[0m\u001b[0m_format\u001b[0m\u001b[1;33m(\u001b[0m\u001b[0mv\u001b[0m\u001b[1;33m)\u001b[0m\u001b[1;33m)\u001b[0m\u001b[1;33m)\u001b[0m\u001b[1;33m\u001b[0m\u001b[0m\n\u001b[0m\u001b[0;32m   1271\u001b[0m \u001b[1;33m\u001b[0m\u001b[0m\n\u001b[0;32m   1272\u001b[0m         \u001b[1;32mreturn\u001b[0m \u001b[0mfmt_values\u001b[0m\u001b[1;33m\u001b[0m\u001b[0m\n",
      "\u001b[1;32md:\\programme\\python 3.6.6\\lib\\site-packages\\pandas\\io\\formats\\format.py\u001b[0m in \u001b[0;36m_format\u001b[1;34m(x)\u001b[0m\n\u001b[0;32m   1242\u001b[0m             \u001b[1;32melse\u001b[0m\u001b[1;33m:\u001b[0m\u001b[1;33m\u001b[0m\u001b[0m\n\u001b[0;32m   1243\u001b[0m                 \u001b[1;31m# object dtype\u001b[0m\u001b[1;33m\u001b[0m\u001b[1;33m\u001b[0m\u001b[0m\n\u001b[1;32m-> 1244\u001b[1;33m                 \u001b[1;32mreturn\u001b[0m \u001b[1;34m\"{x}\"\u001b[0m\u001b[1;33m.\u001b[0m\u001b[0mformat\u001b[0m\u001b[1;33m(\u001b[0m\u001b[0mx\u001b[0m\u001b[1;33m=\u001b[0m\u001b[0mformatter\u001b[0m\u001b[1;33m(\u001b[0m\u001b[0mx\u001b[0m\u001b[1;33m)\u001b[0m\u001b[1;33m)\u001b[0m\u001b[1;33m\u001b[0m\u001b[0m\n\u001b[0m\u001b[0;32m   1245\u001b[0m \u001b[1;33m\u001b[0m\u001b[0m\n\u001b[0;32m   1246\u001b[0m         \u001b[0mvals\u001b[0m \u001b[1;33m=\u001b[0m \u001b[0mself\u001b[0m\u001b[1;33m.\u001b[0m\u001b[0mvalues\u001b[0m\u001b[1;33m\u001b[0m\u001b[0m\n",
      "\u001b[1;32md:\\programme\\python 3.6.6\\lib\\site-packages\\pandas\\io\\formats\\format.py\u001b[0m in \u001b[0;36m<lambda>\u001b[1;34m(x)\u001b[0m\n\u001b[0;32m   1220\u001b[0m             \u001b[0mself\u001b[0m\u001b[1;33m.\u001b[0m\u001b[0mformatter\u001b[0m\u001b[1;33m\u001b[0m\u001b[0m\n\u001b[0;32m   1221\u001b[0m             \u001b[1;32mif\u001b[0m \u001b[0mself\u001b[0m\u001b[1;33m.\u001b[0m\u001b[0mformatter\u001b[0m \u001b[1;32mis\u001b[0m \u001b[1;32mnot\u001b[0m \u001b[1;32mNone\u001b[0m\u001b[1;33m\u001b[0m\u001b[0m\n\u001b[1;32m-> 1222\u001b[1;33m             \u001b[1;32melse\u001b[0m \u001b[1;33m(\u001b[0m\u001b[1;32mlambda\u001b[0m \u001b[0mx\u001b[0m\u001b[1;33m:\u001b[0m \u001b[0mpprint_thing\u001b[0m\u001b[1;33m(\u001b[0m\u001b[0mx\u001b[0m\u001b[1;33m,\u001b[0m \u001b[0mescape_chars\u001b[0m\u001b[1;33m=\u001b[0m\u001b[1;33m(\u001b[0m\u001b[1;34m\"\\t\"\u001b[0m\u001b[1;33m,\u001b[0m \u001b[1;34m\"\\r\"\u001b[0m\u001b[1;33m,\u001b[0m \u001b[1;34m\"\\n\"\u001b[0m\u001b[1;33m)\u001b[0m\u001b[1;33m)\u001b[0m\u001b[1;33m)\u001b[0m\u001b[1;33m\u001b[0m\u001b[0m\n\u001b[0m\u001b[0;32m   1223\u001b[0m         )\n\u001b[0;32m   1224\u001b[0m \u001b[1;33m\u001b[0m\u001b[0m\n",
      "\u001b[1;32md:\\programme\\python 3.6.6\\lib\\site-packages\\pandas\\io\\formats\\printing.py\u001b[0m in \u001b[0;36mpprint_thing\u001b[1;34m(thing, _nest_lvl, escape_chars, default_escapes, quote_strings, max_seq_items)\u001b[0m\n\u001b[0;32m    223\u001b[0m             \u001b[0mescape_chars\u001b[0m\u001b[1;33m=\u001b[0m\u001b[0mescape_chars\u001b[0m\u001b[1;33m,\u001b[0m\u001b[1;33m\u001b[0m\u001b[0m\n\u001b[0;32m    224\u001b[0m             \u001b[0mquote_strings\u001b[0m\u001b[1;33m=\u001b[0m\u001b[0mquote_strings\u001b[0m\u001b[1;33m,\u001b[0m\u001b[1;33m\u001b[0m\u001b[0m\n\u001b[1;32m--> 225\u001b[1;33m             \u001b[0mmax_seq_items\u001b[0m\u001b[1;33m=\u001b[0m\u001b[0mmax_seq_items\u001b[0m\u001b[1;33m,\u001b[0m\u001b[1;33m\u001b[0m\u001b[0m\n\u001b[0m\u001b[0;32m    226\u001b[0m         )\n\u001b[0;32m    227\u001b[0m     \u001b[1;32melif\u001b[0m \u001b[0misinstance\u001b[0m\u001b[1;33m(\u001b[0m\u001b[0mthing\u001b[0m\u001b[1;33m,\u001b[0m \u001b[0mstr\u001b[0m\u001b[1;33m)\u001b[0m \u001b[1;32mand\u001b[0m \u001b[0mquote_strings\u001b[0m\u001b[1;33m:\u001b[0m\u001b[1;33m\u001b[0m\u001b[0m\n",
      "\u001b[1;32md:\\programme\\python 3.6.6\\lib\\site-packages\\pandas\\io\\formats\\printing.py\u001b[0m in \u001b[0;36m_pprint_seq\u001b[1;34m(seq, _nest_lvl, max_seq_items, **kwds)\u001b[0m\n\u001b[0;32m    117\u001b[0m     r = [\n\u001b[0;32m    118\u001b[0m         \u001b[0mpprint_thing\u001b[0m\u001b[1;33m(\u001b[0m\u001b[0mnext\u001b[0m\u001b[1;33m(\u001b[0m\u001b[0ms\u001b[0m\u001b[1;33m)\u001b[0m\u001b[1;33m,\u001b[0m \u001b[0m_nest_lvl\u001b[0m \u001b[1;33m+\u001b[0m \u001b[1;36m1\u001b[0m\u001b[1;33m,\u001b[0m \u001b[0mmax_seq_items\u001b[0m\u001b[1;33m=\u001b[0m\u001b[0mmax_seq_items\u001b[0m\u001b[1;33m,\u001b[0m \u001b[1;33m**\u001b[0m\u001b[0mkwds\u001b[0m\u001b[1;33m)\u001b[0m\u001b[1;33m\u001b[0m\u001b[0m\n\u001b[1;32m--> 119\u001b[1;33m         \u001b[1;32mfor\u001b[0m \u001b[0mi\u001b[0m \u001b[1;32min\u001b[0m \u001b[0mrange\u001b[0m\u001b[1;33m(\u001b[0m\u001b[0mmin\u001b[0m\u001b[1;33m(\u001b[0m\u001b[0mnitems\u001b[0m\u001b[1;33m,\u001b[0m \u001b[0mlen\u001b[0m\u001b[1;33m(\u001b[0m\u001b[0mseq\u001b[0m\u001b[1;33m)\u001b[0m\u001b[1;33m)\u001b[0m\u001b[1;33m)\u001b[0m\u001b[1;33m\u001b[0m\u001b[0m\n\u001b[0m\u001b[0;32m    120\u001b[0m     ]\n\u001b[0;32m    121\u001b[0m     \u001b[0mbody\u001b[0m \u001b[1;33m=\u001b[0m \u001b[1;34m\", \"\u001b[0m\u001b[1;33m.\u001b[0m\u001b[0mjoin\u001b[0m\u001b[1;33m(\u001b[0m\u001b[0mr\u001b[0m\u001b[1;33m)\u001b[0m\u001b[1;33m\u001b[0m\u001b[0m\n",
      "\u001b[1;32md:\\programme\\python 3.6.6\\lib\\site-packages\\pandas\\io\\formats\\printing.py\u001b[0m in \u001b[0;36m<listcomp>\u001b[1;34m(.0)\u001b[0m\n\u001b[0;32m    117\u001b[0m     r = [\n\u001b[0;32m    118\u001b[0m         \u001b[0mpprint_thing\u001b[0m\u001b[1;33m(\u001b[0m\u001b[0mnext\u001b[0m\u001b[1;33m(\u001b[0m\u001b[0ms\u001b[0m\u001b[1;33m)\u001b[0m\u001b[1;33m,\u001b[0m \u001b[0m_nest_lvl\u001b[0m \u001b[1;33m+\u001b[0m \u001b[1;36m1\u001b[0m\u001b[1;33m,\u001b[0m \u001b[0mmax_seq_items\u001b[0m\u001b[1;33m=\u001b[0m\u001b[0mmax_seq_items\u001b[0m\u001b[1;33m,\u001b[0m \u001b[1;33m**\u001b[0m\u001b[0mkwds\u001b[0m\u001b[1;33m)\u001b[0m\u001b[1;33m\u001b[0m\u001b[0m\n\u001b[1;32m--> 119\u001b[1;33m         \u001b[1;32mfor\u001b[0m \u001b[0mi\u001b[0m \u001b[1;32min\u001b[0m \u001b[0mrange\u001b[0m\u001b[1;33m(\u001b[0m\u001b[0mmin\u001b[0m\u001b[1;33m(\u001b[0m\u001b[0mnitems\u001b[0m\u001b[1;33m,\u001b[0m \u001b[0mlen\u001b[0m\u001b[1;33m(\u001b[0m\u001b[0mseq\u001b[0m\u001b[1;33m)\u001b[0m\u001b[1;33m)\u001b[0m\u001b[1;33m)\u001b[0m\u001b[1;33m\u001b[0m\u001b[0m\n\u001b[0m\u001b[0;32m    120\u001b[0m     ]\n\u001b[0;32m    121\u001b[0m     \u001b[0mbody\u001b[0m \u001b[1;33m=\u001b[0m \u001b[1;34m\", \"\u001b[0m\u001b[1;33m.\u001b[0m\u001b[0mjoin\u001b[0m\u001b[1;33m(\u001b[0m\u001b[0mr\u001b[0m\u001b[1;33m)\u001b[0m\u001b[1;33m\u001b[0m\u001b[0m\n",
      "\u001b[1;32md:\\programme\\python 3.6.6\\lib\\site-packages\\pandas\\io\\formats\\printing.py\u001b[0m in \u001b[0;36mpprint_thing\u001b[1;34m(thing, _nest_lvl, escape_chars, default_escapes, quote_strings, max_seq_items)\u001b[0m\n\u001b[0;32m    209\u001b[0m         \u001b[1;32mreturn\u001b[0m \u001b[0mresult\u001b[0m\u001b[1;33m\u001b[0m\u001b[0m\n\u001b[0;32m    210\u001b[0m \u001b[1;33m\u001b[0m\u001b[0m\n\u001b[1;32m--> 211\u001b[1;33m     \u001b[1;32mif\u001b[0m \u001b[0mhasattr\u001b[0m\u001b[1;33m(\u001b[0m\u001b[0mthing\u001b[0m\u001b[1;33m,\u001b[0m \u001b[1;34m\"__next__\"\u001b[0m\u001b[1;33m)\u001b[0m\u001b[1;33m:\u001b[0m\u001b[1;33m\u001b[0m\u001b[0m\n\u001b[0m\u001b[0;32m    212\u001b[0m         \u001b[1;32mreturn\u001b[0m \u001b[0mstr\u001b[0m\u001b[1;33m(\u001b[0m\u001b[0mthing\u001b[0m\u001b[1;33m)\u001b[0m\u001b[1;33m\u001b[0m\u001b[0m\n\u001b[0;32m    213\u001b[0m     elif isinstance(thing, dict) and _nest_lvl < get_option(\n",
      "\u001b[1;31mKeyError\u001b[0m: '__next__'"
     ]
    }
   ],
   "source": [
    "df"
   ]
  },
  {
   "cell_type": "code",
   "execution_count": null,
   "metadata": {},
   "outputs": [],
   "source": []
  }
 ],
 "metadata": {
  "kernelspec": {
   "display_name": "Python 3",
   "language": "python",
   "name": "python3"
  },
  "language_info": {
   "codemirror_mode": {
    "name": "ipython",
    "version": 3
   },
   "file_extension": ".py",
   "mimetype": "text/x-python",
   "name": "python",
   "nbconvert_exporter": "python",
   "pygments_lexer": "ipython3",
   "version": "3.6.6"
  }
 },
 "nbformat": 4,
 "nbformat_minor": 4
}
