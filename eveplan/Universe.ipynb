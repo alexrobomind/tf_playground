{
 "cells": [
  {
   "cell_type": "code",
   "execution_count": 1,
   "metadata": {},
   "outputs": [],
   "source": [
    "import numpy as np\n",
    "import pandas as pd\n",
    "import networkx as nx\n",
    "import matplotlib.pyplot as plt\n",
    "import multiprocessing as mp\n",
    "\n",
    "import pickle\n",
    "import joblib\n",
    "\n",
    "import esipy as esi\n",
    "\n",
    "from tqdm.notebook import tqdm, trange\n",
    "\n",
    "import requests"
   ]
  },
  {
   "cell_type": "code",
   "execution_count": 2,
   "metadata": {},
   "outputs": [
    {
     "name": "stderr",
     "output_type": "stream",
     "text": [
      "Defining a 'User-Agent' header is a good practice, and allows CCP to contact you if required. To do this, simply add the following when creating the client: headers={'User-Agent':'something'}.\n",
      "d:\\programme\\python 3.6.6\\lib\\site-packages\\esipy\\client.py:82: UserWarning: Defining a 'User-Agent' header is a good practice, and allows CCP to contact you if required. To do this, simply add the following when creating the client: headers={'User-Agent':'something'}.\n",
      "  warnings.warn(warning_message)\n"
     ]
    }
   ],
   "source": [
    "# Set up network access\n",
    "esi_client = esi.EsiClient(\n",
    "    transport_adapter = requests.adapters.HTTPAdapter(\n",
    "        pool_connections=100,\n",
    "        pool_maxsize=100,\n",
    "        max_retries=10,\n",
    "        pool_block=False\n",
    "    )\n",
    ")\n",
    "esi_app    = esi.EsiApp()\n",
    "\n",
    "app = esi_app.get_latest_swagger"
   ]
  },
  {
   "cell_type": "code",
   "execution_count": null,
   "metadata": {},
   "outputs": [],
   "source": [
    "# Load systems\n",
    "esi_op = app.op['get_universe_systems']()\n",
    "response = esi_client.request(esi_op);\n",
    "system_ids = response.data;"
   ]
  },
  {
   "cell_type": "code",
   "execution_count": null,
   "metadata": {
    "scrolled": true
   },
   "outputs": [],
   "source": [
    "# Load data for all systems\n",
    "ops = [app.op['get_universe_systems_system_id'](system_id = system_id) for system_id in system_ids];\n",
    "responses = esi_client.multi_request(tqdm(ops));\n",
    "systems = {k : resp[1].data for k,resp in zip(system_ids, responses)};"
   ]
  },
  {
   "cell_type": "code",
   "execution_count": null,
   "metadata": {},
   "outputs": [],
   "source": [
    "import json\n",
    "\n",
    "# Save graph\n",
    "with open('universe/systems.txt', 'w') as f:\n",
    "    json.dump(systems, f, indent = 4)"
   ]
  },
  {
   "cell_type": "code",
   "execution_count": null,
   "metadata": {
    "scrolled": true
   },
   "outputs": [],
   "source": [
    "# Loading stargates\n",
    "stargate_ids = [];\n",
    "\n",
    "for system in systems.values():\n",
    "    if 'stargates' not in system:\n",
    "        continue;\n",
    "        \n",
    "    stargate_ids.extend(system.stargates);\n",
    "\n",
    "ops = [app.op['get_universe_stargates_stargate_id'](stargate_id = stargate_id) for stargate_id in stargate_ids];\n",
    "responses = esi_client.multi_request(tqdm(ops));\n",
    "stargates = {k : resp[1].data for k,resp in zip(stargate_ids, responses)};"
   ]
  },
  {
   "cell_type": "code",
   "execution_count": null,
   "metadata": {},
   "outputs": [],
   "source": [
    "import json\n",
    "\n",
    "# Save graph\n",
    "with open('universe/stargates.txt', 'w') as f:\n",
    "    json.dump(stargates, f, indent = 4)"
   ]
  },
  {
   "cell_type": "code",
   "execution_count": null,
   "metadata": {},
   "outputs": [],
   "source": [
    "def intd(f):\n",
    "    return {int(k) : v for k,v in json.load(f).items()};\n",
    "\n",
    "with open('universe/systems.txt') as f:\n",
    "    systems = intd(f);\n",
    "\n",
    "with open('universe/stargates.txt') as f:\n",
    "    stargates = intd(f);\n",
    "\n",
    "systems_graph = nx.Graph();\n",
    "\n",
    "for system in systems:\n",
    "    systems_graph.add_node(system);\n",
    "\n",
    "for stargate in stargates.values():\n",
    "    systems_graph.add_edge(stargate[\"system_id\"], stargate[\"destination\"][\"system_id\"])\n",
    "\n",
    "nx.write_adjlist(systems_graph, 'universe/sysgraph.adjlist')"
   ]
  },
  {
   "cell_type": "code",
   "execution_count": 3,
   "metadata": {},
   "outputs": [
    {
     "data": {
      "application/vnd.jupyter.widget-view+json": {
       "model_id": "846a53b4d3414bf88832c1f713c46780",
       "version_major": 2,
       "version_minor": 0
      },
      "text/plain": [
       "HBox(children=(FloatProgress(value=0.0, max=38.0), HTML(value='')))"
      ]
     },
     "metadata": {},
     "output_type": "display_data"
    },
    {
     "name": "stdout",
     "output_type": "stream",
     "text": [
      "\n"
     ]
    }
   ],
   "source": [
    "# Load items\n",
    "pages = esi_client.request(\n",
    "    app.op['get_universe_types']()\n",
    ").header['X-pages'][0]\n",
    "\n",
    "type_ids = [\n",
    "    i\n",
    "    for page in trange(1, pages + 1)\n",
    "    for i in esi_client.request(\n",
    "        app.op['get_universe_types'](page = page)\n",
    "    ).data\n",
    "]"
   ]
  },
  {
   "cell_type": "code",
   "execution_count": 7,
   "metadata": {},
   "outputs": [
    {
     "data": {
      "application/vnd.jupyter.widget-view+json": {
       "model_id": "69ee4ac0625346779c9774163471ccc2",
       "version_major": 2,
       "version_minor": 0
      },
      "text/plain": [
       "HBox(children=(FloatProgress(value=0.0, max=37003.0), HTML(value='')))"
      ]
     },
     "metadata": {},
     "output_type": "display_data"
    },
    {
     "name": "stdout",
     "output_type": "stream",
     "text": [
      "\n"
     ]
    }
   ],
   "source": [
    "p = mp.pool.ThreadPool(10)\n",
    "\n",
    "def load_type(type_id):\n",
    "    return esi_client.request(\n",
    "        app.op['get_universe_types_type_id'](type_id = type_id)\n",
    "    ).data\n",
    "\n",
    "types = {\n",
    "    tid : t\n",
    "    for tid, t in zip(tqdm(type_ids), p.imap(load_type, type_ids))\n",
    "}"
   ]
  },
  {
   "cell_type": "code",
   "execution_count": 5,
   "metadata": {},
   "outputs": [],
   "source": [
    "import json\n",
    "\n",
    "# Save graph\n",
    "with open('universe/types.txt', 'w') as f:\n",
    "    json.dump(types, f, indent = 4)"
   ]
  },
  {
   "cell_type": "code",
   "execution_count": 8,
   "metadata": {},
   "outputs": [],
   "source": [
    "market_types = {\n",
    "    k : v\n",
    "    for k,v in types.items()\n",
    "    if 'market_group_id' in v\n",
    "}"
   ]
  },
  {
   "cell_type": "code",
   "execution_count": 10,
   "metadata": {},
   "outputs": [],
   "source": [
    "import json\n",
    "\n",
    "# Save graph\n",
    "with open('universe/market_types.txt', 'w') as f:\n",
    "    json.dump(market_types, f, indent = 4)"
   ]
  },
  {
   "cell_type": "code",
   "execution_count": 9,
   "metadata": {},
   "outputs": [
    {
     "data": {
      "text/plain": [
       "14466"
      ]
     },
     "execution_count": 9,
     "metadata": {},
     "output_type": "execute_result"
    }
   ],
   "source": [
    "len(market_types)"
   ]
  },
  {
   "cell_type": "code",
   "execution_count": 12,
   "metadata": {},
   "outputs": [],
   "source": [
    "market_group_ids = esi_client.request(\n",
    "    app.op['get_markets_groups']()\n",
    ").data"
   ]
  },
  {
   "cell_type": "code",
   "execution_count": 13,
   "metadata": {},
   "outputs": [
    {
     "data": {
      "text/plain": [
       "1876"
      ]
     },
     "execution_count": 13,
     "metadata": {},
     "output_type": "execute_result"
    }
   ],
   "source": [
    "len(market_group_ids)"
   ]
  },
  {
   "cell_type": "code",
   "execution_count": null,
   "metadata": {},
   "outputs": [],
   "source": []
  }
 ],
 "metadata": {
  "kernelspec": {
   "display_name": "Python 3",
   "language": "python",
   "name": "python3"
  },
  "language_info": {
   "codemirror_mode": {
    "name": "ipython",
    "version": 3
   },
   "file_extension": ".py",
   "mimetype": "text/x-python",
   "name": "python",
   "nbconvert_exporter": "python",
   "pygments_lexer": "ipython3",
   "version": "3.6.6"
  }
 },
 "nbformat": 4,
 "nbformat_minor": 2
}
