{
 "cells": [
  {
   "cell_type": "code",
   "execution_count": 3,
   "metadata": {},
   "outputs": [],
   "source": [
    "import evebox as box\n",
    "import pandas as pd\n",
    "import tensorflow as tf\n",
    "import cProfile\n",
    "from tqdm.notebook import tqdm, trange"
   ]
  },
  {
   "cell_type": "raw",
   "metadata": {},
   "source": [
    "import importlib\n",
    "import types\n",
    "\n",
    "def rreload(module):\n",
    "    \"\"\"Recursively reload modules.\"\"\"\n",
    "    importlib.reload(module)\n",
    "    for attribute_name in dir(module):\n",
    "        attribute = getattr(module, attribute_name)\n",
    "        if type(attribute) is types.ModuleType:\n",
    "            rreload(attribute)\n",
    "\n",
    "rreload(box)"
   ]
  },
  {
   "cell_type": "code",
   "execution_count": 4,
   "metadata": {},
   "outputs": [],
   "source": [
    "uni = box.Universe.from_esi(cache = 'universe.txt', tqdm = tqdm).range('Jita', min_sec = 0.5).with_market_types()"
   ]
  },
  {
   "cell_type": "code",
   "execution_count": 48,
   "metadata": {},
   "outputs": [],
   "source": [
    "#orders = box.load_orders(uni, tqdm = tqdm)\n",
    "orders = pd.read_csv('market/current.csv')"
   ]
  },
  {
   "cell_type": "code",
   "execution_count": 4,
   "metadata": {},
   "outputs": [],
   "source": [
    "#orders.to_csv('market/current.csv')"
   ]
  },
  {
   "cell_type": "code",
   "execution_count": 49,
   "metadata": {},
   "outputs": [],
   "source": [
    "# Filter all buy orders which are 50x above the median\n",
    "median   = orders.groupby('type_id')[['price']].median().rename(columns = {'price' : 'median_price'})\n",
    "\n",
    "orders = orders[\n",
    "    (50 * orders.merge(median, on = 'type_id')['median_price'] >= orders['price']) |\n",
    "    ~orders['is_buy_order']\n",
    "]"
   ]
  },
  {
   "cell_type": "code",
   "execution_count": 50,
   "metadata": {},
   "outputs": [],
   "source": [
    "# Filter all orders that can not be handled profitably\n",
    "max_buy  = orders[ orders['is_buy_order']].groupby('type_id')[['price']].max().rename(columns = {'price' : 'max_buy'})\n",
    "min_sell = orders[~orders['is_buy_order']].groupby('type_id')[['price']].min().rename(columns = {'price' : 'min_sell'})\n",
    "\n",
    "orders = orders.merge(max_buy, on = 'type_id').merge(min_sell, on = 'type_id')\n",
    "\n",
    "orders = orders[\n",
    "    (\n",
    "        # Sell orders must be below max_buy\n",
    "        orders['is_buy_order'] |\n",
    "        (orders['price'] <= orders['max_buy'])\n",
    "    ) & \n",
    "    (\n",
    "        # Buy orders must be above min_sell\n",
    "        ~orders['is_buy_order'] |\n",
    "        (orders['price'] >= orders['min_sell'])\n",
    "    )\n",
    "]"
   ]
  },
  {
   "cell_type": "code",
   "execution_count": 56,
   "metadata": {},
   "outputs": [
    {
     "name": "stdout",
     "output_type": "stream",
     "text": [
      "1268\n"
     ]
    },
    {
     "data": {
      "application/vnd.jupyter.widget-view+json": {
       "model_id": "cbb6b75bd3044272bd6d522ae04712bc",
       "version_major": 2,
       "version_minor": 0
      },
      "text/plain": [
       "HBox(children=(FloatProgress(value=0.0, max=1268.0), HTML(value='')))"
      ]
     },
     "metadata": {},
     "output_type": "display_data"
    },
    {
     "name": "stdout",
     "output_type": "stream",
     "text": [
      "\n",
      "1268\n"
     ]
    }
   ],
   "source": [
    "# Reduce universe types to all types appearing in the order list\n",
    "\n",
    "# Pre-filter types\n",
    "def check_type(t):\n",
    "    if t[\"volume\"] > 155000:\n",
    "        return False\n",
    "    \n",
    "    return t['type_id'] in orders['type_id']\n",
    "\n",
    "# Reduce universe\n",
    "types = [t for t, v in tqdm(uni.types.items()) if check_type(v)]\n",
    "print('Reducing from {} to {} types'.format(len(uni.types), len(types)))\n",
    "uni = uni.with_types(types)\n",
    "\n",
    "# Reduce orders\n",
    "orders = orders[orders['type_id'].isin(uni.types)]"
   ]
  },
  {
   "cell_type": "code",
   "execution_count": 59,
   "metadata": {},
   "outputs": [
    {
     "data": {
      "application/vnd.jupyter.widget-view+json": {
       "model_id": "bc9daecd48a34c9788ea28aa91abd7ff",
       "version_major": 2,
       "version_minor": 0
      },
      "text/plain": [
       "HBox(children=(FloatProgress(value=0.0, description='Encoding systems', max=972.0, style=ProgressStyle(descrip…"
      ]
     },
     "metadata": {},
     "output_type": "display_data"
    },
    {
     "name": "stdout",
     "output_type": "stream",
     "text": [
      "\n"
     ]
    },
    {
     "data": {
      "application/vnd.jupyter.widget-view+json": {
       "model_id": "5d4191c5028c4b04858813a3125ac196",
       "version_major": 2,
       "version_minor": 0
      },
      "text/plain": [
       "HBox(children=(FloatProgress(value=0.0, description='Encoding types', max=1268.0, style=ProgressStyle(descript…"
      ]
     },
     "metadata": {},
     "output_type": "display_data"
    },
    {
     "name": "stdout",
     "output_type": "stream",
     "text": [
      "\n"
     ]
    }
   ],
   "source": [
    "class Model(tf.keras.Model):\n",
    "    def __init__(self, universe):\n",
    "        super().__init__()\n",
    "        \n",
    "        self.bandwidth = 128\n",
    "        self.d_notes  = 4\n",
    "        self.memory = 64\n",
    "        \n",
    "        self.embedding = box.tf.Embedding(universe, d_notes = self.d_notes, tqdm = tqdm)\n",
    "        \n",
    "        self.input_transforms = {\n",
    "            k : tf.keras.layers.Dense(self.bandwidth)\n",
    "            for k in ['state', 'orders', 'cargo', 'systems']\n",
    "        }\n",
    "        \n",
    "        def otf(n):\n",
    "            return tf.keras.layers.Dense(n)\n",
    "        \n",
    "        self.output_transforms = {\n",
    "            'actions' : otf(3),\n",
    "            'move_targets' : otf(1),\n",
    "            'buy_params' : otf(3),\n",
    "            'sell_params' : otf(3),\n",
    "            'value' : otf(1)\n",
    "        }\n",
    "        \n",
    "        self.stack_start = box.tf.StackedTogether(\n",
    "            tf.keras.Sequential([\n",
    "                box.tf.MultiHeadedAttention(self.bandwidth, 16, 8) for i in range(2)\n",
    "            ])\n",
    "        )\n",
    "        \n",
    "        self.stack_step = box.tf.StackedTogether(\n",
    "            tf.keras.Sequential([\n",
    "                box.tf.MultiHeadedAttention(self.bandwidth, 16, 8) for i in range(2)\n",
    "            ])\n",
    "        )\n",
    "        \n",
    "        self.rnn_cell = tf.keras.layers.GRUCell(self.bandwidth)\n",
    "            \n",
    "    \n",
    "    def _preprocess_input(self, input):\n",
    "        # Pre-process input (adds \"note\" variables to types & systems, joins orders with their types & systems)\n",
    "        input = self.embedding(input)\n",
    "        \n",
    "        # Expand state to have the same shape as the other stuff\n",
    "        input['state'] = tf.expand_dims(input['state'], axis = -2)\n",
    "        \n",
    "        # Expand all items into a [...,bandwidth] shape\n",
    "        input = {\n",
    "            k : self.input_transforms[k](v)\n",
    "            for k, v in input.items()\n",
    "        }\n",
    "        \n",
    "        return input\n",
    "        \n",
    "    def get_initial_state(self, input):\n",
    "        input = self._preprocess_input(input)\n",
    "        \n",
    "        input = self.stack_start(input)\n",
    "        \n",
    "        return [tf.reshape(input['state'], [-1, self.bandwidth])]\n",
    "    \n",
    "    def call(self, input):\n",
    "        input, rnn_state = input\n",
    "        \n",
    "        batch_shape = tf.shape(input['state'])[:-1]\n",
    "        \n",
    "        input = self._preprocess_input(input)\n",
    "        \n",
    "        # Add RNN state to the mix\n",
    "        input['rnn_state'] = tf.reshape(rnn_state, tf.concat([batch_shape, [1, self.bandwidth]], axis = 0))\n",
    "        \n",
    "        # We don't want orders in here, too costly (but probably not present anyway)\n",
    "        if 'orders' in input:\n",
    "            del input['orders']\n",
    "        \n",
    "        # Apply attention stack\n",
    "        input = self.stack_step(input)\n",
    "        \n",
    "        # Extract rnn state & apply to cell\n",
    "        rnn_in = tf.reshape(input['rnn_state'], [-1, self.bandwidth])\n",
    "        _, rnn_state = self.rnn_cell(rnn_in, rnn_state)\n",
    "        del input['rnn_state']\n",
    "        \n",
    "        output = {\n",
    "            'actions' : tf.squeeze(\n",
    "                self.output_transforms['actions'](input['state']),\n",
    "                axis = -2\n",
    "            ),\n",
    "            \n",
    "            'move_targets' : tf.squeeze(\n",
    "                self.output_transforms['move_targets'](input['systems']),\n",
    "                axis = -1\n",
    "            ),\n",
    "            \n",
    "            'buy_params'  : self.output_transforms['buy_params'] (input['cargo']),\n",
    "            'sell_params' : self.output_transforms['sell_params'](input['cargo']),\n",
    "            \n",
    "            'value' : tf.squeeze(\n",
    "                self.output_transforms['value'](input['state']),\n",
    "                axis = [-2, -1]\n",
    "            )\n",
    "        }\n",
    "        \n",
    "        return output, rnn_state\n",
    "        \n",
    "        \n",
    "        \n",
    "\n",
    "model = Model(uni)"
   ]
  },
  {
   "cell_type": "code",
   "execution_count": 57,
   "metadata": {},
   "outputs": [],
   "source": [
    "gym = box.tf.TradingGym(uni, orders)"
   ]
  },
  {
   "cell_type": "code",
   "execution_count": 58,
   "metadata": {},
   "outputs": [],
   "source": [
    "jita = [s[\"system_id\"] for s in uni.systems.values() if s[\"name\"] == \"Jita\"][0]\n",
    "\n",
    "state = box.MutableState()\n",
    "state.time_left = 100.0\n",
    "state.system    = jita\n",
    "\n",
    "state = box.State(state)"
   ]
  },
  {
   "cell_type": "code",
   "execution_count": null,
   "metadata": {},
   "outputs": [],
   "source": [
    "unroller = gym.unroll_model(model, tqdm);\n",
    "\n",
    "opt = tf.keras.optimizers.SGD(1e-5)\n",
    "\n",
    "unroller(state, 1)\n",
    "\n",
    "def get_loss():\n",
    "    result = unroller(state, 100)\n",
    "    \n",
    "    policy_loss, value_loss, entropy_loss = gym.losses(result)\n",
    "    \n",
    "    total_loss = policy_loss + value_loss + 1e-3 * entropy_loss\n",
    "    tf.print(policy_loss)\n",
    "    tf.print(value_loss)\n",
    "    tf.print(entropy_loss)\n",
    "    tf.print(total_loss)\n",
    "    return total_loss\n",
    "\n",
    "def mean_loss():\n",
    "    losses = tf.stack(\n",
    "        [get_loss() for i in tqdm(range(1), desc = 'Batch', leave = False)],\n",
    "        axis = -1\n",
    "    )\n",
    "    \n",
    "    mean_loss = tf.math.reduce_mean(losses)\n",
    "    \n",
    "    return mean_loss\n",
    "\n",
    "for i in trange(100, desc = 'Iterations'):\n",
    "    print(opt.minimize(mean_loss, model.trainable_variables))"
   ]
  },
  {
   "cell_type": "code",
   "execution_count": 13,
   "metadata": {},
   "outputs": [
    {
     "data": {
      "text/plain": [
       "(Buy 61411932.0 of 42241,\n",
       " Buy 10420804.0 of 11567,\n",
       " Buy 41306360.0 of 11567,\n",
       " Buy 56765748.0 of 11567,\n",
       " Buy 25071562.0 of 42241,\n",
       " Buy 71965600.0 of 42241,\n",
       " Buy 69669368.0 of 42241,\n",
       " Buy 70687472.0 of 11567,\n",
       " Buy 44765412.0 of 42241,\n",
       " Buy 31007356.0 of 42241)"
      ]
     },
     "execution_count": 13,
     "metadata": {},
     "output_type": "execute_result"
    }
   ],
   "source": [
    "states, actions, logps, values = zip(*result)\n",
    "\n",
    "actions"
   ]
  }
 ],
 "metadata": {
  "kernelspec": {
   "display_name": "Python 3",
   "language": "python",
   "name": "python3"
  },
  "language_info": {
   "codemirror_mode": {
    "name": "ipython",
    "version": 3
   },
   "file_extension": ".py",
   "mimetype": "text/x-python",
   "name": "python",
   "nbconvert_exporter": "python",
   "pygments_lexer": "ipython3",
   "version": "3.6.6"
  }
 },
 "nbformat": 4,
 "nbformat_minor": 4
}
