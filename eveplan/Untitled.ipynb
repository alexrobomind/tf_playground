{
 "cells": [
  {
   "cell_type": "code",
   "execution_count": 1,
   "metadata": {},
   "outputs": [],
   "source": [
    "import evebox as box\n",
    "import pandas as pd\n",
    "import tensorflow as tf\n",
    "import cProfile\n",
    "from tqdm.notebook import tqdm, trange"
   ]
  },
  {
   "cell_type": "raw",
   "metadata": {},
   "source": [
    "import importlib\n",
    "import types\n",
    "\n",
    "def rreload(module):\n",
    "    \"\"\"Recursively reload modules.\"\"\"\n",
    "    importlib.reload(module)\n",
    "    for attribute_name in dir(module):\n",
    "        attribute = getattr(module, attribute_name)\n",
    "        if type(attribute) is types.ModuleType:\n",
    "            rreload(attribute)\n",
    "\n",
    "rreload(box)"
   ]
  },
  {
   "cell_type": "code",
   "execution_count": 2,
   "metadata": {},
   "outputs": [],
   "source": [
    "uni = box.Universe.from_esi(cache = 'universe.txt', tqdm = tqdm).range('Jita', min_sec = 0.5).with_market_types()"
   ]
  },
  {
   "cell_type": "code",
   "execution_count": 3,
   "metadata": {},
   "outputs": [],
   "source": [
    "#orders = box.load_orders(uni, tqdm = tqdm)\n",
    "orders = pd.read_csv('market/current.csv')"
   ]
  },
  {
   "cell_type": "code",
   "execution_count": 15,
   "metadata": {},
   "outputs": [],
   "source": [
    "#orders.to_csv('market/current.csv')"
   ]
  },
  {
   "cell_type": "code",
   "execution_count": 4,
   "metadata": {},
   "outputs": [
    {
     "data": {
      "text/html": [
       "<div>\n",
       "<style scoped>\n",
       "    .dataframe tbody tr th:only-of-type {\n",
       "        vertical-align: middle;\n",
       "    }\n",
       "\n",
       "    .dataframe tbody tr th {\n",
       "        vertical-align: top;\n",
       "    }\n",
       "\n",
       "    .dataframe thead th {\n",
       "        text-align: right;\n",
       "    }\n",
       "</style>\n",
       "<table border=\"1\" class=\"dataframe\">\n",
       "  <thead>\n",
       "    <tr style=\"text-align: right;\">\n",
       "      <th></th>\n",
       "      <th>order_id</th>\n",
       "      <th>duration</th>\n",
       "      <th>is_buy_order</th>\n",
       "      <th>issued</th>\n",
       "      <th>location_id</th>\n",
       "      <th>min_volume</th>\n",
       "      <th>price</th>\n",
       "      <th>range</th>\n",
       "      <th>system_id</th>\n",
       "      <th>type_id</th>\n",
       "      <th>volume_remain</th>\n",
       "      <th>volume_total</th>\n",
       "    </tr>\n",
       "  </thead>\n",
       "  <tbody>\n",
       "    <tr>\n",
       "      <th>0</th>\n",
       "      <td>911190994</td>\n",
       "      <td>365</td>\n",
       "      <td>False</td>\n",
       "      <td>2020-03-09T13:11:57+00:00</td>\n",
       "      <td>60000004</td>\n",
       "      <td>1</td>\n",
       "      <td>15.05</td>\n",
       "      <td>region</td>\n",
       "      <td>30002780</td>\n",
       "      <td>41</td>\n",
       "      <td>23572</td>\n",
       "      <td>23572</td>\n",
       "    </tr>\n",
       "    <tr>\n",
       "      <th>1</th>\n",
       "      <td>911190995</td>\n",
       "      <td>365</td>\n",
       "      <td>False</td>\n",
       "      <td>2020-03-09T13:11:57+00:00</td>\n",
       "      <td>60000007</td>\n",
       "      <td>1</td>\n",
       "      <td>14.03</td>\n",
       "      <td>region</td>\n",
       "      <td>30002779</td>\n",
       "      <td>41</td>\n",
       "      <td>23572</td>\n",
       "      <td>23572</td>\n",
       "    </tr>\n",
       "    <tr>\n",
       "      <th>2</th>\n",
       "      <td>911190996</td>\n",
       "      <td>365</td>\n",
       "      <td>False</td>\n",
       "      <td>2020-03-09T13:11:57+00:00</td>\n",
       "      <td>60000010</td>\n",
       "      <td>1</td>\n",
       "      <td>15.05</td>\n",
       "      <td>region</td>\n",
       "      <td>30002776</td>\n",
       "      <td>41</td>\n",
       "      <td>23572</td>\n",
       "      <td>23572</td>\n",
       "    </tr>\n",
       "    <tr>\n",
       "      <th>3</th>\n",
       "      <td>911190997</td>\n",
       "      <td>365</td>\n",
       "      <td>False</td>\n",
       "      <td>2020-03-09T13:11:57+00:00</td>\n",
       "      <td>60000013</td>\n",
       "      <td>1</td>\n",
       "      <td>14.03</td>\n",
       "      <td>region</td>\n",
       "      <td>30002779</td>\n",
       "      <td>41</td>\n",
       "      <td>23572</td>\n",
       "      <td>23572</td>\n",
       "    </tr>\n",
       "    <tr>\n",
       "      <th>4</th>\n",
       "      <td>911190998</td>\n",
       "      <td>365</td>\n",
       "      <td>False</td>\n",
       "      <td>2020-03-09T13:11:57+00:00</td>\n",
       "      <td>60000016</td>\n",
       "      <td>1</td>\n",
       "      <td>14.95</td>\n",
       "      <td>region</td>\n",
       "      <td>30002778</td>\n",
       "      <td>41</td>\n",
       "      <td>23572</td>\n",
       "      <td>23572</td>\n",
       "    </tr>\n",
       "    <tr>\n",
       "      <th>...</th>\n",
       "      <td>...</td>\n",
       "      <td>...</td>\n",
       "      <td>...</td>\n",
       "      <td>...</td>\n",
       "      <td>...</td>\n",
       "      <td>...</td>\n",
       "      <td>...</td>\n",
       "      <td>...</td>\n",
       "      <td>...</td>\n",
       "      <td>...</td>\n",
       "      <td>...</td>\n",
       "      <td>...</td>\n",
       "    </tr>\n",
       "    <tr>\n",
       "      <th>892078</th>\n",
       "      <td>5629348134</td>\n",
       "      <td>1</td>\n",
       "      <td>True</td>\n",
       "      <td>2020-03-09T13:26:22+00:00</td>\n",
       "      <td>60012103</td>\n",
       "      <td>1</td>\n",
       "      <td>11360.00</td>\n",
       "      <td>5</td>\n",
       "      <td>30005316</td>\n",
       "      <td>35660</td>\n",
       "      <td>1</td>\n",
       "      <td>1</td>\n",
       "    </tr>\n",
       "    <tr>\n",
       "      <th>892079</th>\n",
       "      <td>5629348393</td>\n",
       "      <td>1</td>\n",
       "      <td>False</td>\n",
       "      <td>2020-03-09T13:26:42+00:00</td>\n",
       "      <td>60015020</td>\n",
       "      <td>1</td>\n",
       "      <td>1227777.81</td>\n",
       "      <td>region</td>\n",
       "      <td>30045042</td>\n",
       "      <td>482</td>\n",
       "      <td>1</td>\n",
       "      <td>1</td>\n",
       "    </tr>\n",
       "    <tr>\n",
       "      <th>892080</th>\n",
       "      <td>5629348404</td>\n",
       "      <td>1</td>\n",
       "      <td>True</td>\n",
       "      <td>2020-03-09T13:26:44+00:00</td>\n",
       "      <td>60012103</td>\n",
       "      <td>1</td>\n",
       "      <td>11360.00</td>\n",
       "      <td>5</td>\n",
       "      <td>30005316</td>\n",
       "      <td>35660</td>\n",
       "      <td>1</td>\n",
       "      <td>1</td>\n",
       "    </tr>\n",
       "    <tr>\n",
       "      <th>892081</th>\n",
       "      <td>5629348535</td>\n",
       "      <td>1</td>\n",
       "      <td>False</td>\n",
       "      <td>2020-03-09T13:26:56+00:00</td>\n",
       "      <td>60015020</td>\n",
       "      <td>1</td>\n",
       "      <td>1227777.81</td>\n",
       "      <td>region</td>\n",
       "      <td>30045042</td>\n",
       "      <td>482</td>\n",
       "      <td>1</td>\n",
       "      <td>1</td>\n",
       "    </tr>\n",
       "    <tr>\n",
       "      <th>892082</th>\n",
       "      <td>5629348676</td>\n",
       "      <td>14</td>\n",
       "      <td>False</td>\n",
       "      <td>2020-03-09T13:27:08+00:00</td>\n",
       "      <td>60015020</td>\n",
       "      <td>1</td>\n",
       "      <td>45000.00</td>\n",
       "      <td>region</td>\n",
       "      <td>30045042</td>\n",
       "      <td>17938</td>\n",
       "      <td>1</td>\n",
       "      <td>1</td>\n",
       "    </tr>\n",
       "  </tbody>\n",
       "</table>\n",
       "<p>892083 rows × 12 columns</p>\n",
       "</div>"
      ],
      "text/plain": [
       "          order_id  duration  is_buy_order                     issued  \\\n",
       "0        911190994       365         False  2020-03-09T13:11:57+00:00   \n",
       "1        911190995       365         False  2020-03-09T13:11:57+00:00   \n",
       "2        911190996       365         False  2020-03-09T13:11:57+00:00   \n",
       "3        911190997       365         False  2020-03-09T13:11:57+00:00   \n",
       "4        911190998       365         False  2020-03-09T13:11:57+00:00   \n",
       "...            ...       ...           ...                        ...   \n",
       "892078  5629348134         1          True  2020-03-09T13:26:22+00:00   \n",
       "892079  5629348393         1         False  2020-03-09T13:26:42+00:00   \n",
       "892080  5629348404         1          True  2020-03-09T13:26:44+00:00   \n",
       "892081  5629348535         1         False  2020-03-09T13:26:56+00:00   \n",
       "892082  5629348676        14         False  2020-03-09T13:27:08+00:00   \n",
       "\n",
       "        location_id  min_volume       price   range  system_id  type_id  \\\n",
       "0          60000004           1       15.05  region   30002780       41   \n",
       "1          60000007           1       14.03  region   30002779       41   \n",
       "2          60000010           1       15.05  region   30002776       41   \n",
       "3          60000013           1       14.03  region   30002779       41   \n",
       "4          60000016           1       14.95  region   30002778       41   \n",
       "...             ...         ...         ...     ...        ...      ...   \n",
       "892078     60012103           1    11360.00       5   30005316    35660   \n",
       "892079     60015020           1  1227777.81  region   30045042      482   \n",
       "892080     60012103           1    11360.00       5   30005316    35660   \n",
       "892081     60015020           1  1227777.81  region   30045042      482   \n",
       "892082     60015020           1    45000.00  region   30045042    17938   \n",
       "\n",
       "        volume_remain  volume_total  \n",
       "0               23572         23572  \n",
       "1               23572         23572  \n",
       "2               23572         23572  \n",
       "3               23572         23572  \n",
       "4               23572         23572  \n",
       "...               ...           ...  \n",
       "892078              1             1  \n",
       "892079              1             1  \n",
       "892080              1             1  \n",
       "892081              1             1  \n",
       "892082              1             1  \n",
       "\n",
       "[892083 rows x 12 columns]"
      ]
     },
     "execution_count": 4,
     "metadata": {},
     "output_type": "execute_result"
    }
   ],
   "source": [
    "orders"
   ]
  },
  {
   "cell_type": "code",
   "execution_count": 4,
   "metadata": {},
   "outputs": [],
   "source": [
    "gym = box.tf.TradingGym(uni, orders)"
   ]
  },
  {
   "cell_type": "code",
   "execution_count": 5,
   "metadata": {},
   "outputs": [],
   "source": [
    "jita = [s[\"system_id\"] for s in uni.systems.values() if s[\"name\"] == \"Jita\"][0]\n",
    "\n",
    "state = box.MutableState()\n",
    "state.time_left = 20.0\n",
    "state.system    = jita\n",
    "\n",
    "state = box.State(state)"
   ]
  },
  {
   "cell_type": "code",
   "execution_count": 6,
   "metadata": {},
   "outputs": [
    {
     "data": {
      "application/vnd.jupyter.widget-view+json": {
       "model_id": "0e51a369db854a4da5a590c937c60c0c",
       "version_major": 2,
       "version_minor": 0
      },
      "text/plain": [
       "HBox(children=(FloatProgress(value=0.0, description='Encoding systems', max=972.0, style=ProgressStyle(descrip…"
      ]
     },
     "metadata": {},
     "output_type": "display_data"
    },
    {
     "name": "stdout",
     "output_type": "stream",
     "text": [
      "\n"
     ]
    },
    {
     "data": {
      "application/vnd.jupyter.widget-view+json": {
       "model_id": "8cac714ef78048c980c9a710f1f87c5d",
       "version_major": 2,
       "version_minor": 0
      },
      "text/plain": [
       "HBox(children=(FloatProgress(value=0.0, description='Encoding types', max=14472.0, style=ProgressStyle(descrip…"
      ]
     },
     "metadata": {},
     "output_type": "display_data"
    },
    {
     "name": "stdout",
     "output_type": "stream",
     "text": [
      "\n"
     ]
    }
   ],
   "source": [
    "class Model(tf.keras.Model):\n",
    "    def __init__(self, universe):\n",
    "        super().__init__()\n",
    "        \n",
    "        self.bandwidth = 128\n",
    "        self.d_notes  = 4\n",
    "        \n",
    "        self.embedding = box.tf.Embedding(universe, d_notes = self.d_notes, tqdm = tqdm)\n",
    "        \n",
    "        self.input_transforms = {\n",
    "            k : tf.keras.layers.Dense(self.bandwidth)\n",
    "            for k in ['state', 'orders', 'cargo', 'systems']\n",
    "        }\n",
    "        \n",
    "        def otf(n):\n",
    "            return tf.keras.layers.Dense(n)\n",
    "        \n",
    "        self.output_transforms = {\n",
    "            'actions' : otf(3),\n",
    "            'move_targets' : otf(1),\n",
    "            'buy_params' : otf(3),\n",
    "            'sell_params' : otf(3),\n",
    "            'value' : otf(1)\n",
    "        }\n",
    "        \n",
    "        self.stack_1 = box.tf.StackedTogether(\n",
    "            tf.keras.Sequential([\n",
    "                box.tf.MultiHeadedAttention(self.bandwidth, 16, 8) for i in range(2)\n",
    "            ])\n",
    "        )\n",
    "        \n",
    "        self.stack_2 = box.tf.StackedTogether(\n",
    "            tf.keras.Sequential([])\n",
    "        )\n",
    "    \n",
    "    def get_initial_state(self, input):\n",
    "        batch_shape = tf.shape(input['state'])[:-1]\n",
    "        state_shape = tf.concat([batch_shape, [self.bandwidth]], axis = 0)\n",
    "        \n",
    "        return tf.zeros(state_shape, dtype = tf.float32)\n",
    "    \n",
    "    def call(self, input):\n",
    "        input, rnn_state = input\n",
    "        \n",
    "        # Pre-process input (adds \"note\" variables to types & systems, joins orders with their types & systems)\n",
    "        input = self.embedding(input)\n",
    "        \n",
    "        # Expand state to have the same shape as the other stuff\n",
    "        input['state'] = tf.expand_dims(input['state'], axis = -2)\n",
    "        \n",
    "        # Expand all items into a [...,128] shape\n",
    "        input = {\n",
    "            k : self.input_transforms[k](v)\n",
    "            for k, v in input.items()\n",
    "        }\n",
    "        \n",
    "        # Add RNN state to the mix\n",
    "        input['rnn_state'] = tf.expand_dims(rnn_state, axis = -2)\n",
    "        \n",
    "        # Run 2 model stacks, one with and one without orders\n",
    "        input = self.stack_1(input)\n",
    "        del input['orders']\n",
    "        input = self.stack_2(input)\n",
    "        \n",
    "        rnn_state = tf.squeeze(input['rnn_state'], axis = -2)\n",
    "        del input['rnn_state']\n",
    "        \n",
    "        output = {\n",
    "            'actions' : tf.squeeze(\n",
    "                self.output_transforms['actions'](input['state']),\n",
    "                axis = -2\n",
    "            ),\n",
    "            \n",
    "            'move_targets' : tf.squeeze(\n",
    "                self.output_transforms['move_targets'](input['systems']),\n",
    "                axis = -1\n",
    "            ),\n",
    "            \n",
    "            'buy_params'  : self.output_transforms['buy_params'] (input['cargo']),\n",
    "            'sell_params' : self.output_transforms['sell_params'](input['cargo']),\n",
    "            \n",
    "            'value' : tf.squeeze(\n",
    "                self.output_transforms['value'](input['state']),\n",
    "                axis = [-2, -1]\n",
    "            )\n",
    "        }\n",
    "        \n",
    "        return output, rnn_state\n",
    "        \n",
    "        \n",
    "        \n",
    "\n",
    "model = Model(uni)"
   ]
  },
  {
   "cell_type": "code",
   "execution_count": 11,
   "metadata": {},
   "outputs": [
    {
     "data": {
      "application/vnd.jupyter.widget-view+json": {
       "model_id": "b7b072ec42b7496cad29352a50a083ea",
       "version_major": 2,
       "version_minor": 0
      },
      "text/plain": [
       "HBox(children=(FloatProgress(value=0.0, max=1.0), HTML(value='')))"
      ]
     },
     "metadata": {},
     "output_type": "display_data"
    },
    {
     "name": "stdout",
     "output_type": "stream",
     "text": [
      "\n"
     ]
    },
    {
     "data": {
      "application/vnd.jupyter.widget-view+json": {
       "model_id": "431eb8b2626a4af2849ddb1cb7811ec6",
       "version_major": 2,
       "version_minor": 0
      },
      "text/plain": [
       "HBox(children=(FloatProgress(value=0.0, description='Iterations', max=5.0, style=ProgressStyle(description_wid…"
      ]
     },
     "metadata": {},
     "output_type": "display_data"
    },
    {
     "data": {
      "application/vnd.jupyter.widget-view+json": {
       "model_id": "",
       "version_major": 2,
       "version_minor": 0
      },
      "text/plain": [
       "HBox(children=(FloatProgress(value=0.0, description='Batch', max=2.0, style=ProgressStyle(description_width='i…"
      ]
     },
     "metadata": {},
     "output_type": "display_data"
    },
    {
     "data": {
      "application/vnd.jupyter.widget-view+json": {
       "model_id": "119124c5261548b2a345bae610611366",
       "version_major": 2,
       "version_minor": 0
      },
      "text/plain": [
       "HBox(children=(FloatProgress(value=0.0, max=3.0), HTML(value='')))"
      ]
     },
     "metadata": {},
     "output_type": "display_data"
    },
    {
     "name": "stderr",
     "output_type": "stream",
     "text": [
      "W0309 17:55:38.639365 12808 backprop.py:1003] The dtype of the target tensor must be floating (e.g. tf.float32) when calling GradientTape.gradient, got tf.int32\n",
      "W0309 17:55:38.639365 12808 backprop.py:1003] The dtype of the target tensor must be floating (e.g. tf.float32) when calling GradientTape.gradient, got tf.int32\n",
      "W0309 17:55:38.639365 12808 backprop.py:1003] The dtype of the target tensor must be floating (e.g. tf.float32) when calling GradientTape.gradient, got tf.int32\n",
      "W0309 17:55:38.639365 12808 backprop.py:1017] The dtype of the source tensor must be floating (e.g. tf.float32) when calling GradientTape.gradient, got tf.int32\n",
      "W0309 17:55:38.639365 12808 backprop.py:1017] The dtype of the source tensor must be floating (e.g. tf.float32) when calling GradientTape.gradient, got tf.int32\n"
     ]
    },
    {
     "name": "stdout",
     "output_type": "stream",
     "text": [
      "\n",
      "36.5188446\n",
      "1.53273106\n",
      "-19.8656445\n"
     ]
    },
    {
     "data": {
      "application/vnd.jupyter.widget-view+json": {
       "model_id": "d1ef2397c89e4bb3a8ef450af4ee4911",
       "version_major": 2,
       "version_minor": 0
      },
      "text/plain": [
       "HBox(children=(FloatProgress(value=0.0, max=3.0), HTML(value='')))"
      ]
     },
     "metadata": {},
     "output_type": "display_data"
    },
    {
     "name": "stdout",
     "output_type": "stream",
     "text": [
      "\n",
      "38.5164032\n",
      "1.56368899\n",
      "-20.3829098\n",
      "<tf.Variable 'UnreadVariable' shape=() dtype=int64, numpy=1>\n"
     ]
    },
    {
     "data": {
      "application/vnd.jupyter.widget-view+json": {
       "model_id": "",
       "version_major": 2,
       "version_minor": 0
      },
      "text/plain": [
       "HBox(children=(FloatProgress(value=0.0, description='Batch', max=2.0, style=ProgressStyle(description_width='i…"
      ]
     },
     "metadata": {},
     "output_type": "display_data"
    },
    {
     "data": {
      "application/vnd.jupyter.widget-view+json": {
       "model_id": "abbeefd36b22483a9966711ac457376f",
       "version_major": 2,
       "version_minor": 0
      },
      "text/plain": [
       "HBox(children=(FloatProgress(value=0.0, max=3.0), HTML(value='')))"
      ]
     },
     "metadata": {},
     "output_type": "display_data"
    },
    {
     "name": "stdout",
     "output_type": "stream",
     "text": [
      "\n",
      "31.8632622\n",
      "1.52882838\n",
      "-18.3800716\n"
     ]
    },
    {
     "data": {
      "application/vnd.jupyter.widget-view+json": {
       "model_id": "2e188fc6eb364312a6dbc5cefaf19a27",
       "version_major": 2,
       "version_minor": 0
      },
      "text/plain": [
       "HBox(children=(FloatProgress(value=0.0, max=3.0), HTML(value='')))"
      ]
     },
     "metadata": {},
     "output_type": "display_data"
    },
    {
     "name": "stdout",
     "output_type": "stream",
     "text": [
      "\n",
      "44.7133064\n",
      "1.49855936\n",
      "-23.7200699\n"
     ]
    },
    {
     "ename": "KeyboardInterrupt",
     "evalue": "",
     "output_type": "error",
     "traceback": [
      "\u001b[1;31m---------------------------------------------------------------------------\u001b[0m",
      "\u001b[1;31mKeyboardInterrupt\u001b[0m                         Traceback (most recent call last)",
      "\u001b[1;32m<ipython-input-11-90a656d5d287>\u001b[0m in \u001b[0;36m<module>\u001b[1;34m()\u001b[0m\n\u001b[0;32m     25\u001b[0m \u001b[1;33m\u001b[0m\u001b[0m\n\u001b[0;32m     26\u001b[0m \u001b[1;32mfor\u001b[0m \u001b[0mi\u001b[0m \u001b[1;32min\u001b[0m \u001b[0mtrange\u001b[0m\u001b[1;33m(\u001b[0m\u001b[1;36m5\u001b[0m\u001b[1;33m,\u001b[0m \u001b[0mdesc\u001b[0m \u001b[1;33m=\u001b[0m \u001b[1;34m'Iterations'\u001b[0m\u001b[1;33m)\u001b[0m\u001b[1;33m:\u001b[0m\u001b[1;33m\u001b[0m\u001b[0m\n\u001b[1;32m---> 27\u001b[1;33m     \u001b[0mprint\u001b[0m\u001b[1;33m(\u001b[0m\u001b[0mopt\u001b[0m\u001b[1;33m.\u001b[0m\u001b[0mminimize\u001b[0m\u001b[1;33m(\u001b[0m\u001b[0mmean_loss\u001b[0m\u001b[1;33m,\u001b[0m \u001b[0mmodel\u001b[0m\u001b[1;33m.\u001b[0m\u001b[0mtrainable_variables\u001b[0m\u001b[1;33m)\u001b[0m\u001b[1;33m)\u001b[0m\u001b[1;33m\u001b[0m\u001b[0m\n\u001b[0m",
      "\u001b[1;32mc:\\program files\\python36\\lib\\site-packages\\tensorflow_core\\python\\keras\\optimizer_v2\\optimizer_v2.py\u001b[0m in \u001b[0;36mminimize\u001b[1;34m(self, loss, var_list, grad_loss, name)\u001b[0m\n\u001b[0;32m    314\u001b[0m     \"\"\"\n\u001b[0;32m    315\u001b[0m     grads_and_vars = self._compute_gradients(\n\u001b[1;32m--> 316\u001b[1;33m         loss, var_list=var_list, grad_loss=grad_loss)\n\u001b[0m\u001b[0;32m    317\u001b[0m \u001b[1;33m\u001b[0m\u001b[0m\n\u001b[0;32m    318\u001b[0m     \u001b[1;32mreturn\u001b[0m \u001b[0mself\u001b[0m\u001b[1;33m.\u001b[0m\u001b[0mapply_gradients\u001b[0m\u001b[1;33m(\u001b[0m\u001b[0mgrads_and_vars\u001b[0m\u001b[1;33m,\u001b[0m \u001b[0mname\u001b[0m\u001b[1;33m=\u001b[0m\u001b[0mname\u001b[0m\u001b[1;33m)\u001b[0m\u001b[1;33m\u001b[0m\u001b[0m\n",
      "\u001b[1;32mc:\\program files\\python36\\lib\\site-packages\\tensorflow_core\\python\\keras\\optimizer_v2\\optimizer_v2.py\u001b[0m in \u001b[0;36m_compute_gradients\u001b[1;34m(self, loss, var_list, grad_loss)\u001b[0m\n\u001b[0;32m    353\u001b[0m     \u001b[0mvar_list\u001b[0m \u001b[1;33m=\u001b[0m \u001b[0mnest\u001b[0m\u001b[1;33m.\u001b[0m\u001b[0mflatten\u001b[0m\u001b[1;33m(\u001b[0m\u001b[0mvar_list\u001b[0m\u001b[1;33m)\u001b[0m\u001b[1;33m\u001b[0m\u001b[0m\n\u001b[0;32m    354\u001b[0m     \u001b[1;32mwith\u001b[0m \u001b[0mbackend\u001b[0m\u001b[1;33m.\u001b[0m\u001b[0mname_scope\u001b[0m\u001b[1;33m(\u001b[0m\u001b[0mself\u001b[0m\u001b[1;33m.\u001b[0m\u001b[0m_name\u001b[0m \u001b[1;33m+\u001b[0m \u001b[1;34m\"/gradients\"\u001b[0m\u001b[1;33m)\u001b[0m\u001b[1;33m:\u001b[0m\u001b[1;33m\u001b[0m\u001b[0m\n\u001b[1;32m--> 355\u001b[1;33m       \u001b[0mgrads\u001b[0m \u001b[1;33m=\u001b[0m \u001b[0mtape\u001b[0m\u001b[1;33m.\u001b[0m\u001b[0mgradient\u001b[0m\u001b[1;33m(\u001b[0m\u001b[0mloss_value\u001b[0m\u001b[1;33m,\u001b[0m \u001b[0mvar_list\u001b[0m\u001b[1;33m,\u001b[0m \u001b[0mgrad_loss\u001b[0m\u001b[1;33m)\u001b[0m\u001b[1;33m\u001b[0m\u001b[0m\n\u001b[0m\u001b[0;32m    356\u001b[0m \u001b[1;33m\u001b[0m\u001b[0m\n\u001b[0;32m    357\u001b[0m       \u001b[1;32mif\u001b[0m \u001b[0mhasattr\u001b[0m\u001b[1;33m(\u001b[0m\u001b[0mself\u001b[0m\u001b[1;33m,\u001b[0m \u001b[1;34m\"clipnorm\"\u001b[0m\u001b[1;33m)\u001b[0m\u001b[1;33m:\u001b[0m\u001b[1;33m\u001b[0m\u001b[0m\n",
      "\u001b[1;32mc:\\program files\\python36\\lib\\site-packages\\tensorflow_core\\python\\eager\\backprop.py\u001b[0m in \u001b[0;36mgradient\u001b[1;34m(self, target, sources, output_gradients, unconnected_gradients)\u001b[0m\n\u001b[0;32m   1027\u001b[0m         \u001b[0moutput_gradients\u001b[0m\u001b[1;33m=\u001b[0m\u001b[0moutput_gradients\u001b[0m\u001b[1;33m,\u001b[0m\u001b[1;33m\u001b[0m\u001b[0m\n\u001b[0;32m   1028\u001b[0m         \u001b[0msources_raw\u001b[0m\u001b[1;33m=\u001b[0m\u001b[0mflat_sources_raw\u001b[0m\u001b[1;33m,\u001b[0m\u001b[1;33m\u001b[0m\u001b[0m\n\u001b[1;32m-> 1029\u001b[1;33m         unconnected_gradients=unconnected_gradients)\n\u001b[0m\u001b[0;32m   1030\u001b[0m \u001b[1;33m\u001b[0m\u001b[0m\n\u001b[0;32m   1031\u001b[0m     \u001b[1;32mif\u001b[0m \u001b[1;32mnot\u001b[0m \u001b[0mself\u001b[0m\u001b[1;33m.\u001b[0m\u001b[0m_persistent\u001b[0m\u001b[1;33m:\u001b[0m\u001b[1;33m\u001b[0m\u001b[0m\n",
      "\u001b[1;32mc:\\program files\\python36\\lib\\site-packages\\tensorflow_core\\python\\eager\\imperative_grad.py\u001b[0m in \u001b[0;36mimperative_grad\u001b[1;34m(tape, target, sources, output_gradients, sources_raw, unconnected_gradients)\u001b[0m\n\u001b[0;32m     75\u001b[0m       \u001b[0moutput_gradients\u001b[0m\u001b[1;33m,\u001b[0m\u001b[1;33m\u001b[0m\u001b[0m\n\u001b[0;32m     76\u001b[0m       \u001b[0msources_raw\u001b[0m\u001b[1;33m,\u001b[0m\u001b[1;33m\u001b[0m\u001b[0m\n\u001b[1;32m---> 77\u001b[1;33m       compat.as_str(unconnected_gradients.value))\n\u001b[0m",
      "\u001b[1;32mc:\\program files\\python36\\lib\\site-packages\\tensorflow_core\\python\\eager\\function.py\u001b[0m in \u001b[0;36m_backward_function_wrapper\u001b[1;34m(*args)\u001b[0m\n\u001b[0;32m   1254\u001b[0m           \u001b[1;32mbreak\u001b[0m\u001b[1;33m\u001b[0m\u001b[0m\n\u001b[0;32m   1255\u001b[0m       return backward._call_flat(  # pylint: disable=protected-access\n\u001b[1;32m-> 1256\u001b[1;33m           processed_args, remapped_captures)\n\u001b[0m\u001b[0;32m   1257\u001b[0m \u001b[1;33m\u001b[0m\u001b[0m\n\u001b[0;32m   1258\u001b[0m     \u001b[1;32mreturn\u001b[0m \u001b[0m_backward_function_wrapper\u001b[0m\u001b[1;33m,\u001b[0m \u001b[0mrecorded_outputs\u001b[0m\u001b[1;33m\u001b[0m\u001b[0m\n",
      "\u001b[1;32mc:\\program files\\python36\\lib\\site-packages\\tensorflow_core\\python\\eager\\function.py\u001b[0m in \u001b[0;36m_call_flat\u001b[1;34m(self, args, captured_inputs, cancellation_manager)\u001b[0m\n\u001b[0;32m   1690\u001b[0m       \u001b[1;31m# No tape is watching; skip to running the function.\u001b[0m\u001b[1;33m\u001b[0m\u001b[1;33m\u001b[0m\u001b[0m\n\u001b[0;32m   1691\u001b[0m       return self._build_call_outputs(self._inference_function.call(\n\u001b[1;32m-> 1692\u001b[1;33m           ctx, args, cancellation_manager=cancellation_manager))\n\u001b[0m\u001b[0;32m   1693\u001b[0m     forward_backward = self._select_forward_and_backward_functions(\n\u001b[0;32m   1694\u001b[0m         \u001b[0margs\u001b[0m\u001b[1;33m,\u001b[0m\u001b[1;33m\u001b[0m\u001b[0m\n",
      "\u001b[1;32mc:\\program files\\python36\\lib\\site-packages\\tensorflow_core\\python\\eager\\function.py\u001b[0m in \u001b[0;36mcall\u001b[1;34m(self, ctx, args, cancellation_manager)\u001b[0m\n\u001b[0;32m    543\u001b[0m               \u001b[0minputs\u001b[0m\u001b[1;33m=\u001b[0m\u001b[0margs\u001b[0m\u001b[1;33m,\u001b[0m\u001b[1;33m\u001b[0m\u001b[0m\n\u001b[0;32m    544\u001b[0m               \u001b[0mattrs\u001b[0m\u001b[1;33m=\u001b[0m\u001b[1;33m(\u001b[0m\u001b[1;34m\"executor_type\"\u001b[0m\u001b[1;33m,\u001b[0m \u001b[0mexecutor_type\u001b[0m\u001b[1;33m,\u001b[0m \u001b[1;34m\"config_proto\"\u001b[0m\u001b[1;33m,\u001b[0m \u001b[0mconfig\u001b[0m\u001b[1;33m)\u001b[0m\u001b[1;33m,\u001b[0m\u001b[1;33m\u001b[0m\u001b[0m\n\u001b[1;32m--> 545\u001b[1;33m               ctx=ctx)\n\u001b[0m\u001b[0;32m    546\u001b[0m         \u001b[1;32melse\u001b[0m\u001b[1;33m:\u001b[0m\u001b[1;33m\u001b[0m\u001b[0m\n\u001b[0;32m    547\u001b[0m           outputs = execute.execute_with_cancellation(\n",
      "\u001b[1;32mc:\\program files\\python36\\lib\\site-packages\\tensorflow_core\\python\\eager\\execute.py\u001b[0m in \u001b[0;36mquick_execute\u001b[1;34m(op_name, num_outputs, inputs, attrs, ctx, name)\u001b[0m\n\u001b[0;32m     59\u001b[0m     tensors = pywrap_tensorflow.TFE_Py_Execute(ctx._handle, device_name,\n\u001b[0;32m     60\u001b[0m                                                \u001b[0mop_name\u001b[0m\u001b[1;33m,\u001b[0m \u001b[0minputs\u001b[0m\u001b[1;33m,\u001b[0m \u001b[0mattrs\u001b[0m\u001b[1;33m,\u001b[0m\u001b[1;33m\u001b[0m\u001b[0m\n\u001b[1;32m---> 61\u001b[1;33m                                                num_outputs)\n\u001b[0m\u001b[0;32m     62\u001b[0m   \u001b[1;32mexcept\u001b[0m \u001b[0mcore\u001b[0m\u001b[1;33m.\u001b[0m\u001b[0m_NotOkStatusException\u001b[0m \u001b[1;32mas\u001b[0m \u001b[0me\u001b[0m\u001b[1;33m:\u001b[0m\u001b[1;33m\u001b[0m\u001b[0m\n\u001b[0;32m     63\u001b[0m     \u001b[1;32mif\u001b[0m \u001b[0mname\u001b[0m \u001b[1;32mis\u001b[0m \u001b[1;32mnot\u001b[0m \u001b[1;32mNone\u001b[0m\u001b[1;33m:\u001b[0m\u001b[1;33m\u001b[0m\u001b[0m\n",
      "\u001b[1;31mKeyboardInterrupt\u001b[0m: "
     ]
    }
   ],
   "source": [
    "unroller = gym.unroll_model(model, tqdm);\n",
    "\n",
    "opt = tf.keras.optimizers.SGD(1e-4)\n",
    "\n",
    "unroller(state, 1)\n",
    "\n",
    "def get_loss():\n",
    "    result = unroller(state, 3)\n",
    "    \n",
    "    policy_loss, value_loss, entropy_loss = gym.losses(result)\n",
    "    tf.print(policy_loss)\n",
    "    tf.print(value_loss)\n",
    "    tf.print(entropy_loss)\n",
    "    return entropy_loss\n",
    "\n",
    "def mean_loss():\n",
    "    losses = tf.stack(\n",
    "        [get_loss() for i in tqdm(range(2), desc = 'Batch', leave = False)],\n",
    "        axis = -1\n",
    "    )\n",
    "    \n",
    "    mean_loss = tf.math.reduce_mean(losses)\n",
    "    \n",
    "    return mean_loss\n",
    "\n",
    "for i in trange(5, desc = 'Iterations'):\n",
    "    print(opt.minimize(mean_loss, model.trainable_variables))"
   ]
  },
  {
   "cell_type": "code",
   "execution_count": 13,
   "metadata": {},
   "outputs": [
    {
     "data": {
      "text/plain": [
       "(Buy 61411932.0 of 42241,\n",
       " Buy 10420804.0 of 11567,\n",
       " Buy 41306360.0 of 11567,\n",
       " Buy 56765748.0 of 11567,\n",
       " Buy 25071562.0 of 42241,\n",
       " Buy 71965600.0 of 42241,\n",
       " Buy 69669368.0 of 42241,\n",
       " Buy 70687472.0 of 11567,\n",
       " Buy 44765412.0 of 42241,\n",
       " Buy 31007356.0 of 42241)"
      ]
     },
     "execution_count": 13,
     "metadata": {},
     "output_type": "execute_result"
    }
   ],
   "source": [
    "states, actions, logps, values = zip(*result)\n",
    "\n",
    "actions"
   ]
  },
  {
   "cell_type": "code",
   "execution_count": 16,
   "metadata": {},
   "outputs": [
    {
     "data": {
      "text/plain": [
       "{'capacity': 11250.0,\n",
       " 'description': 'Casting his sight on his realm, the Lord witnessed\\r\\nThe cascade of evil, the torrents of war.\\r\\nBurning with wrath, He stepped \\r\\ndown from the Heavens\\r\\nTo judge the unworthy,\\r\\nTo redeem the pure.\\r\\n\\r\\n<i>-The Scriptures, Revelation Verses 2:12</i>\\r\\n\\r\\n',\n",
       " 'dogma_attributes': [{'attribute_id': 3, 'value': 0.0},\n",
       "  {'attribute_id': 4, 'value': 2400000000.0},\n",
       "  {'attribute_id': 9, 'value': 390000.0},\n",
       "  {'attribute_id': 11, 'value': 1250000.0},\n",
       "  {'attribute_id': 12, 'value': 8.0},\n",
       "  {'attribute_id': 13, 'value': 5.0},\n",
       "  {'attribute_id': 14, 'value': 8.0},\n",
       "  {'attribute_id': 15, 'value': 0.0},\n",
       "  {'attribute_id': 18, 'value': 0.0},\n",
       "  {'attribute_id': 19, 'value': 1.0},\n",
       "  {'attribute_id': 21, 'value': 0.0},\n",
       "  {'attribute_id': 37, 'value': 60.0},\n",
       "  {'attribute_id': 38, 'value': 11250.0},\n",
       "  {'attribute_id': 552, 'value': 22760.0},\n",
       "  {'attribute_id': 48, 'value': 815.0},\n",
       "  {'attribute_id': 49, 'value': 0.0},\n",
       "  {'attribute_id': 564, 'value': 70.0},\n",
       "  {'attribute_id': 55, 'value': 7500000.0},\n",
       "  {'attribute_id': 63, 'value': 1.0},\n",
       "  {'attribute_id': 2112, 'value': 0.2},\n",
       "  {'attribute_id': 2113, 'value': 0.2},\n",
       "  {'attribute_id': 2114, 'value': 1.0},\n",
       "  {'attribute_id': 1547, 'value': 4.0},\n",
       "  {'attribute_id': 2116, 'value': 1.0},\n",
       "  {'attribute_id': 70, 'value': 0.034},\n",
       "  {'attribute_id': 524, 'value': 0.75},\n",
       "  {'attribute_id': 76, 'value': 250000.0},\n",
       "  {'attribute_id': 525, 'value': 1.0},\n",
       "  {'attribute_id': 2574, 'value': 200.0},\n",
       "  {'attribute_id': 2135, 'value': 0.2},\n",
       "  {'attribute_id': 600, 'value': 1.37},\n",
       "  {'attribute_id': 101, 'value': 0.0},\n",
       "  {'attribute_id': 102, 'value': 6.0},\n",
       "  {'attribute_id': 104, 'value': 0.0},\n",
       "  {'attribute_id': 1132, 'value': 400.0},\n",
       "  {'attribute_id': 109, 'value': 0.67},\n",
       "  {'attribute_id': 110, 'value': 0.67},\n",
       "  {'attribute_id': 111, 'value': 0.67},\n",
       "  {'attribute_id': 1137, 'value': 3.0},\n",
       "  {'attribute_id': 1555, 'value': 14000.0},\n",
       "  {'attribute_id': 633, 'value': 0.0},\n",
       "  {'attribute_id': 129, 'value': 150.0},\n",
       "  {'attribute_id': 1154, 'value': 3.0},\n",
       "  {'attribute_id': 136, 'value': 1.0},\n",
       "  {'attribute_id': 153, 'value': 1.38e-08},\n",
       "  {'attribute_id': 1178, 'value': 100.0},\n",
       "  {'attribute_id': 1179, 'value': 0.01},\n",
       "  {'attribute_id': 161, 'value': 155000000.0},\n",
       "  {'attribute_id': 162, 'value': 6800.0},\n",
       "  {'attribute_id': 113, 'value': 0.67},\n",
       "  {'attribute_id': 1196, 'value': 0.01},\n",
       "  {'attribute_id': 1198, 'value': 0.01},\n",
       "  {'attribute_id': 1199, 'value': 100.0},\n",
       "  {'attribute_id': 1200, 'value': 100.0},\n",
       "  {'attribute_id': 182, 'value': 20533.0},\n",
       "  {'attribute_id': 183, 'value': 3347.0},\n",
       "  {'attribute_id': 192, 'value': 8.0},\n",
       "  {'attribute_id': 2754, 'value': 1e-05},\n",
       "  {'attribute_id': 2244, 'value': 1.0},\n",
       "  {'attribute_id': 1224, 'value': 0.25},\n",
       "  {'attribute_id': 715, 'value': 5000.0},\n",
       "  {'attribute_id': 716, 'value': 2.0},\n",
       "  {'attribute_id': 208, 'value': 225.0},\n",
       "  {'attribute_id': 209, 'value': 0.0},\n",
       "  {'attribute_id': 210, 'value': 0.0},\n",
       "  {'attribute_id': 211, 'value': 0.0},\n",
       "  {'attribute_id': 217, 'value': 394.0},\n",
       "  {'attribute_id': 1253, 'value': -5.0},\n",
       "  {'attribute_id': 1768, 'value': 11313.0},\n",
       "  {'attribute_id': 1259, 'value': 0.82},\n",
       "  {'attribute_id': 1261, 'value': 0.71},\n",
       "  {'attribute_id': 1262, 'value': 0.82},\n",
       "  {'attribute_id': 246, 'value': 394.0},\n",
       "  {'attribute_id': 1271, 'value': 0.0},\n",
       "  {'attribute_id': 1785, 'value': 1.0},\n",
       "  {'attribute_id': 2298, 'value': 2.0},\n",
       "  {'attribute_id': 2299, 'value': 500.0},\n",
       "  {'attribute_id': 1281, 'value': 1.0},\n",
       "  {'attribute_id': 263, 'value': 260000.0},\n",
       "  {'attribute_id': 264, 'value': 0.0},\n",
       "  {'attribute_id': 265, 'value': 630000.0},\n",
       "  {'attribute_id': 267, 'value': 0.5},\n",
       "  {'attribute_id': 268, 'value': 0.8},\n",
       "  {'attribute_id': 269, 'value': 0.75},\n",
       "  {'attribute_id': 270, 'value': 0.65},\n",
       "  {'attribute_id': 271, 'value': 1.0},\n",
       "  {'attribute_id': 272, 'value': 0.5},\n",
       "  {'attribute_id': 273, 'value': 0.6},\n",
       "  {'attribute_id': 274, 'value': 0.8},\n",
       "  {'attribute_id': 277, 'value': 5.0},\n",
       "  {'attribute_id': 278, 'value': 1.0},\n",
       "  {'attribute_id': 283, 'value': 0.0},\n",
       "  {'attribute_id': 1336, 'value': 0.0},\n",
       "  {'attribute_id': 853, 'value': 1.0},\n",
       "  {'attribute_id': 861, 'value': 1.0},\n",
       "  {'attribute_id': 866, 'value': 16274.0},\n",
       "  {'attribute_id': 867, 'value': 3.0},\n",
       "  {'attribute_id': 868, 'value': 3000.0},\n",
       "  {'attribute_id': 869, 'value': 300000.0},\n",
       "  {'attribute_id': 2406, 'value': 180.0},\n",
       "  {'attribute_id': 2407, 'value': -10.0},\n",
       "  {'attribute_id': 2408, 'value': -10.0},\n",
       "  {'attribute_id': 874, 'value': 1.0},\n",
       "  {'attribute_id': 2433, 'value': 1.0},\n",
       "  {'attribute_id': 898, 'value': 0.95},\n",
       "  {'attribute_id': 907, 'value': 1.0},\n",
       "  {'attribute_id': 908, 'value': 5000000.0},\n",
       "  {'attribute_id': 911, 'value': 1.0},\n",
       "  {'attribute_id': 912, 'value': 100000.0},\n",
       "  {'attribute_id': 2115, 'value': 0.2},\n",
       "  {'attribute_id': 422, 'value': 1.0},\n",
       "  {'attribute_id': 1970, 'value': 1.0},\n",
       "  {'attribute_id': 1973, 'value': 0.0},\n",
       "  {'attribute_id': 1549, 'value': 60000.0},\n",
       "  {'attribute_id': 979, 'value': 75.0},\n",
       "  {'attribute_id': 982, 'value': 1.0},\n",
       "  {'attribute_id': 479, 'value': 20000000.0},\n",
       "  {'attribute_id': 482, 'value': 135000.0},\n",
       "  {'attribute_id': 484, 'value': 0.5},\n",
       "  {'attribute_id': 2021, 'value': 5.0},\n",
       "  {'attribute_id': 1001, 'value': 1e-09},\n",
       "  {'attribute_id': 1002, 'value': 300000.0},\n",
       "  {'attribute_id': 1005, 'value': 25000.0},\n",
       "  {'attribute_id': 2045, 'value': 1.0}],\n",
       " 'dogma_effects': [{'effect_id': 1615, 'is_default': False},\n",
       "  {'effect_id': 1617, 'is_default': False},\n",
       "  {'effect_id': 6104, 'is_default': False},\n",
       "  {'effect_id': 6634, 'is_default': False},\n",
       "  {'effect_id': 6640, 'is_default': False},\n",
       "  {'effect_id': 6641, 'is_default': False},\n",
       "  {'effect_id': 6647, 'is_default': False},\n",
       "  {'effect_id': 6653, 'is_default': False},\n",
       "  {'effect_id': 6783, 'is_default': False}],\n",
       " 'graphic_id': 2910,\n",
       " 'group_id': 30,\n",
       " 'market_group_id': 813,\n",
       " 'mass': 2400000000.0,\n",
       " 'name': 'Avatar',\n",
       " 'packaged_volume': 10000000.0,\n",
       " 'portion_size': 1,\n",
       " 'published': True,\n",
       " 'radius': 6800.0,\n",
       " 'type_id': 11567,\n",
       " 'volume': 155000000.0}"
      ]
     },
     "execution_count": 16,
     "metadata": {},
     "output_type": "execute_result"
    }
   ],
   "source": [
    "uni.types[11567]"
   ]
  },
  {
   "cell_type": "code",
   "execution_count": 8,
   "metadata": {},
   "outputs": [],
   "source": [
    "losses = gym.losses(result)"
   ]
  },
  {
   "cell_type": "code",
   "execution_count": 9,
   "metadata": {},
   "outputs": [
    {
     "data": {
      "text/plain": [
       "(<tf.Tensor: shape=(), dtype=float32, numpy=2.7522936>,\n",
       " <tf.Tensor: shape=(), dtype=float32, numpy=0.0017755391>,\n",
       " <tf.Tensor: shape=(), dtype=float32, numpy=217.35147>)"
      ]
     },
     "execution_count": 9,
     "metadata": {},
     "output_type": "execute_result"
    }
   ],
   "source": [
    "losses"
   ]
  },
  {
   "cell_type": "code",
   "execution_count": null,
   "metadata": {},
   "outputs": [],
   "source": [
    "with tf.GradientTape() as tape:\n",
    "    result = unroller(\n",
    "        state, 150\n",
    "    )\n",
    "    #cProfile.run('unroller(state, 100)', 'profile_stats')"
   ]
  },
  {
   "cell_type": "code",
   "execution_count": null,
   "metadata": {},
   "outputs": [],
   "source": [
    "import pstats\n",
    "p = pstats.Stats('profile_stats')\n",
    "p.sort_stats('cumtime')\n",
    "p.print_stats()"
   ]
  },
  {
   "cell_type": "code",
   "execution_count": null,
   "metadata": {},
   "outputs": [],
   "source": [
    "result[0:1]"
   ]
  },
  {
   "cell_type": "code",
   "execution_count": null,
   "metadata": {},
   "outputs": [],
   "source": [
    "tape.gradient(result[0][2], sources=model.trainable_variables)"
   ]
  },
  {
   "cell_type": "code",
   "execution_count": null,
   "metadata": {},
   "outputs": [],
   "source": [
    "model.trainable_variables"
   ]
  },
  {
   "cell_type": "code",
   "execution_count": null,
   "metadata": {},
   "outputs": [],
   "source": []
  }
 ],
 "metadata": {
  "kernelspec": {
   "display_name": "Python 3",
   "language": "python",
   "name": "python3"
  },
  "language_info": {
   "codemirror_mode": {
    "name": "ipython",
    "version": 3
   },
   "file_extension": ".py",
   "mimetype": "text/x-python",
   "name": "python",
   "nbconvert_exporter": "python",
   "pygments_lexer": "ipython3",
   "version": "3.6.2"
  }
 },
 "nbformat": 4,
 "nbformat_minor": 4
}
