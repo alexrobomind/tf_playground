{
 "cells": [
  {
   "cell_type": "code",
   "execution_count": 1,
   "metadata": {},
   "outputs": [],
   "source": [
    "import evebox as box\n",
    "from tqdm.notebook import tqdm, trange"
   ]
  },
  {
   "cell_type": "code",
   "execution_count": 28,
   "metadata": {},
   "outputs": [
    {
     "data": {
      "text/plain": [
       "<module 'evebox.universe' from 'C:\\\\Users\\\\Knieps\\\\Documents\\\\repos\\\\tf_playground\\\\eveplan\\\\evebox\\\\universe.py'>"
      ]
     },
     "execution_count": 28,
     "metadata": {},
     "output_type": "execute_result"
    }
   ],
   "source": [
    "import importlib\n",
    "#importlib.reload(box.esi)\n",
    "#importlib.reload(box.universe)\n",
    "importlib.reload(box)\n",
    "importlib.reload(box.market)\n",
    "importlib.reload(box.universe)"
   ]
  },
  {
   "cell_type": "code",
   "execution_count": 18,
   "metadata": {},
   "outputs": [],
   "source": [
    "uni = box.Universe.from_esi(cache = 'universe.txt', tqdm = tqdm).range('Jita', min_sec = 0.5).with_market_types()\n",
    "\n",
    "#types = [\n",
    "#    t\n",
    "#    for t, v in uni.market_types.items()\n",
    "#    if v[\"volume\"] <= 1e4\n",
    "#]\n",
    "#\n",
    "#uni = uni.sub_market(types)\n",
    "#del types"
   ]
  },
  {
   "cell_type": "code",
   "execution_count": 19,
   "metadata": {},
   "outputs": [
    {
     "data": {
      "application/vnd.jupyter.widget-view+json": {
       "model_id": "b57a59379e994495b36383f11e51506f",
       "version_major": 2,
       "version_minor": 0
      },
      "text/plain": [
       "HBox(children=(FloatProgress(value=0.0, max=20.0), HTML(value='')))"
      ]
     },
     "metadata": {},
     "output_type": "display_data"
    },
    {
     "data": {
      "application/vnd.jupyter.widget-view+json": {
       "model_id": "",
       "version_major": 2,
       "version_minor": 0
      },
      "text/plain": [
       "HBox(children=(FloatProgress(value=0.0, description='Loading orders in Derelik', max=18.0, style=ProgressStyle…"
      ]
     },
     "metadata": {},
     "output_type": "display_data"
    },
    {
     "data": {
      "application/vnd.jupyter.widget-view+json": {
       "model_id": "",
       "version_major": 2,
       "version_minor": 0
      },
      "text/plain": [
       "HBox(children=(FloatProgress(value=0.0, description='Loading orders in The Forge', max=287.0, style=ProgressSt…"
      ]
     },
     "metadata": {},
     "output_type": "display_data"
    },
    {
     "data": {
      "application/vnd.jupyter.widget-view+json": {
       "model_id": "",
       "version_major": 2,
       "version_minor": 0
      },
      "text/plain": [
       "HBox(children=(FloatProgress(value=0.0, description='Loading orders in Lonetrek', max=68.0, style=ProgressStyl…"
      ]
     },
     "metadata": {},
     "output_type": "display_data"
    },
    {
     "data": {
      "application/vnd.jupyter.widget-view+json": {
       "model_id": "",
       "version_major": 2,
       "version_minor": 0
      },
      "text/plain": [
       "HBox(children=(FloatProgress(value=0.0, description='Loading orders in Tash-Murkon', max=38.0, style=ProgressS…"
      ]
     },
     "metadata": {},
     "output_type": "display_data"
    },
    {
     "data": {
      "application/vnd.jupyter.widget-view+json": {
       "model_id": "",
       "version_major": 2,
       "version_minor": 0
      },
      "text/plain": [
       "HBox(children=(FloatProgress(value=0.0, description='Loading orders in Molden Heath', max=21.0, style=Progress…"
      ]
     },
     "metadata": {},
     "output_type": "display_data"
    },
    {
     "data": {
      "application/vnd.jupyter.widget-view+json": {
       "model_id": "",
       "version_major": 2,
       "version_minor": 0
      },
      "text/plain": [
       "HBox(children=(FloatProgress(value=0.0, description='Loading orders in Heimatar', max=69.0, style=ProgressStyl…"
      ]
     },
     "metadata": {},
     "output_type": "display_data"
    },
    {
     "data": {
      "application/vnd.jupyter.widget-view+json": {
       "model_id": "",
       "version_major": 2,
       "version_minor": 0
      },
      "text/plain": [
       "HBox(children=(FloatProgress(value=0.0, description='Loading orders in Sinq Laison', max=103.0, style=Progress…"
      ]
     },
     "metadata": {},
     "output_type": "display_data"
    },
    {
     "data": {
      "application/vnd.jupyter.widget-view+json": {
       "model_id": "",
       "version_major": 2,
       "version_minor": 0
      },
      "text/plain": [
       "HBox(children=(FloatProgress(value=0.0, description='Loading orders in The Citadel', max=52.0, style=ProgressS…"
      ]
     },
     "metadata": {},
     "output_type": "display_data"
    },
    {
     "data": {
      "application/vnd.jupyter.widget-view+json": {
       "model_id": "",
       "version_major": 2,
       "version_minor": 0
      },
      "text/plain": [
       "HBox(children=(FloatProgress(value=0.0, description='Loading orders in Devoid', max=12.0, style=ProgressStyle(…"
      ]
     },
     "metadata": {},
     "output_type": "display_data"
    },
    {
     "data": {
      "application/vnd.jupyter.widget-view+json": {
       "model_id": "",
       "version_major": 2,
       "version_minor": 0
      },
      "text/plain": [
       "HBox(children=(FloatProgress(value=0.0, description='Loading orders in Everyshore', max=24.0, style=ProgressSt…"
      ]
     },
     "metadata": {},
     "output_type": "display_data"
    },
    {
     "data": {
      "application/vnd.jupyter.widget-view+json": {
       "model_id": "",
       "version_major": 2,
       "version_minor": 0
      },
      "text/plain": [
       "HBox(children=(FloatProgress(value=0.0, description='Loading orders in The Bleak Lands', max=12.0, style=Progr…"
      ]
     },
     "metadata": {},
     "output_type": "display_data"
    },
    {
     "data": {
      "application/vnd.jupyter.widget-view+json": {
       "model_id": "",
       "version_major": 2,
       "version_minor": 0
      },
      "text/plain": [
       "HBox(children=(FloatProgress(value=0.0, description='Loading orders in Metropolis', max=99.0, style=ProgressSt…"
      ]
     },
     "metadata": {},
     "output_type": "display_data"
    },
    {
     "data": {
      "application/vnd.jupyter.widget-view+json": {
       "model_id": "",
       "version_major": 2,
       "version_minor": 0
      },
      "text/plain": [
       "HBox(children=(FloatProgress(value=0.0, description='Loading orders in Domain', max=145.0, style=ProgressStyle…"
      ]
     },
     "metadata": {},
     "output_type": "display_data"
    },
    {
     "data": {
      "application/vnd.jupyter.widget-view+json": {
       "model_id": "",
       "version_major": 2,
       "version_minor": 0
      },
      "text/plain": [
       "HBox(children=(FloatProgress(value=0.0, description='Loading orders in Placid', max=35.0, style=ProgressStyle(…"
      ]
     },
     "metadata": {},
     "output_type": "display_data"
    },
    {
     "data": {
      "application/vnd.jupyter.widget-view+json": {
       "model_id": "",
       "version_major": 2,
       "version_minor": 0
      },
      "text/plain": [
       "HBox(children=(FloatProgress(value=0.0, description='Loading orders in Khanid', max=8.0, style=ProgressStyle(d…"
      ]
     },
     "metadata": {},
     "output_type": "display_data"
    },
    {
     "data": {
      "application/vnd.jupyter.widget-view+json": {
       "model_id": "",
       "version_major": 2,
       "version_minor": 0
      },
      "text/plain": [
       "HBox(children=(FloatProgress(value=0.0, description='Loading orders in Kador', max=24.0, style=ProgressStyle(d…"
      ]
     },
     "metadata": {},
     "output_type": "display_data"
    },
    {
     "data": {
      "application/vnd.jupyter.widget-view+json": {
       "model_id": "",
       "version_major": 2,
       "version_minor": 0
      },
      "text/plain": [
       "HBox(children=(FloatProgress(value=0.0, description='Loading orders in Essence', max=43.0, style=ProgressStyle…"
      ]
     },
     "metadata": {},
     "output_type": "display_data"
    },
    {
     "data": {
      "application/vnd.jupyter.widget-view+json": {
       "model_id": "",
       "version_major": 2,
       "version_minor": 0
      },
      "text/plain": [
       "HBox(children=(FloatProgress(value=0.0, description='Loading orders in Kor-Azor', max=20.0, style=ProgressStyl…"
      ]
     },
     "metadata": {},
     "output_type": "display_data"
    },
    {
     "data": {
      "application/vnd.jupyter.widget-view+json": {
       "model_id": "",
       "version_major": 2,
       "version_minor": 0
      },
      "text/plain": [
       "HBox(children=(FloatProgress(value=0.0, description='Loading orders in Genesis', max=31.0, style=ProgressStyle…"
      ]
     },
     "metadata": {},
     "output_type": "display_data"
    },
    {
     "data": {
      "application/vnd.jupyter.widget-view+json": {
       "model_id": "",
       "version_major": 2,
       "version_minor": 0
      },
      "text/plain": [
       "HBox(children=(FloatProgress(value=0.0, description='Loading orders in Verge Vendor', max=29.0, style=Progress…"
      ]
     },
     "metadata": {},
     "output_type": "display_data"
    },
    {
     "name": "stdout",
     "output_type": "stream",
     "text": [
      "\n"
     ]
    },
    {
     "data": {
      "application/vnd.jupyter.widget-view+json": {
       "model_id": "0b0a6d1e4dc5468b9ec1ed770dae6b26",
       "version_major": 2,
       "version_minor": 0
      },
      "text/plain": [
       "HBox(children=(FloatProgress(value=0.0, max=20.0), HTML(value='')))"
      ]
     },
     "metadata": {},
     "output_type": "display_data"
    },
    {
     "name": "stdout",
     "output_type": "stream",
     "text": [
      "\n"
     ]
    }
   ],
   "source": [
    "orders = box.load_orders(uni, tqdm = tqdm)"
   ]
  },
  {
   "cell_type": "code",
   "execution_count": 7,
   "metadata": {},
   "outputs": [
    {
     "data": {
      "text/html": [
       "<div>\n",
       "<style scoped>\n",
       "    .dataframe tbody tr th:only-of-type {\n",
       "        vertical-align: middle;\n",
       "    }\n",
       "\n",
       "    .dataframe tbody tr th {\n",
       "        vertical-align: top;\n",
       "    }\n",
       "\n",
       "    .dataframe thead th {\n",
       "        text-align: right;\n",
       "    }\n",
       "</style>\n",
       "<table border=\"1\" class=\"dataframe\">\n",
       "  <thead>\n",
       "    <tr style=\"text-align: right;\">\n",
       "      <th></th>\n",
       "      <th>duration</th>\n",
       "      <th>is_buy_order</th>\n",
       "      <th>issued</th>\n",
       "      <th>location_id</th>\n",
       "      <th>min_volume</th>\n",
       "      <th>price</th>\n",
       "      <th>range</th>\n",
       "      <th>system_id</th>\n",
       "      <th>type_id</th>\n",
       "      <th>volume_remain</th>\n",
       "      <th>volume_total</th>\n",
       "    </tr>\n",
       "    <tr>\n",
       "      <th>order_id</th>\n",
       "      <th></th>\n",
       "      <th></th>\n",
       "      <th></th>\n",
       "      <th></th>\n",
       "      <th></th>\n",
       "      <th></th>\n",
       "      <th></th>\n",
       "      <th></th>\n",
       "      <th></th>\n",
       "      <th></th>\n",
       "      <th></th>\n",
       "    </tr>\n",
       "  </thead>\n",
       "  <tbody>\n",
       "    <tr>\n",
       "      <th>4518726139</th>\n",
       "      <td>365</td>\n",
       "      <td>False</td>\n",
       "      <td>2020-01-14T11:20:12+00:00</td>\n",
       "      <td>60014470</td>\n",
       "      <td>1</td>\n",
       "      <td>5.000000e+08</td>\n",
       "      <td>region</td>\n",
       "      <td>30001480</td>\n",
       "      <td>41532</td>\n",
       "      <td>22</td>\n",
       "      <td>22</td>\n",
       "    </tr>\n",
       "    <tr>\n",
       "      <th>5473153758</th>\n",
       "      <td>90</td>\n",
       "      <td>True</td>\n",
       "      <td>2019-12-04T22:24:04+00:00</td>\n",
       "      <td>1029996624481</td>\n",
       "      <td>1</td>\n",
       "      <td>2.850000e+05</td>\n",
       "      <td>solarsystem</td>\n",
       "      <td>30004017</td>\n",
       "      <td>28439</td>\n",
       "      <td>107</td>\n",
       "      <td>400</td>\n",
       "    </tr>\n",
       "    <tr>\n",
       "      <th>5486915087</th>\n",
       "      <td>90</td>\n",
       "      <td>True</td>\n",
       "      <td>2020-01-14T17:01:07+00:00</td>\n",
       "      <td>1028128105463</td>\n",
       "      <td>1</td>\n",
       "      <td>1.000100e+02</td>\n",
       "      <td>region</td>\n",
       "      <td>30004070</td>\n",
       "      <td>25274</td>\n",
       "      <td>64849</td>\n",
       "      <td>100000</td>\n",
       "    </tr>\n",
       "    <tr>\n",
       "      <th>5491933741</th>\n",
       "      <td>90</td>\n",
       "      <td>True</td>\n",
       "      <td>2020-01-29T02:33:32+00:00</td>\n",
       "      <td>1028153746131</td>\n",
       "      <td>1</td>\n",
       "      <td>1.490000e+06</td>\n",
       "      <td>region</td>\n",
       "      <td>30003769</td>\n",
       "      <td>49711</td>\n",
       "      <td>5</td>\n",
       "      <td>5</td>\n",
       "    </tr>\n",
       "    <tr>\n",
       "      <th>5503564949</th>\n",
       "      <td>365</td>\n",
       "      <td>False</td>\n",
       "      <td>2019-12-30T07:25:34+00:00</td>\n",
       "      <td>60008485</td>\n",
       "      <td>1</td>\n",
       "      <td>3.137264e+07</td>\n",
       "      <td>region</td>\n",
       "      <td>30004288</td>\n",
       "      <td>52695</td>\n",
       "      <td>59</td>\n",
       "      <td>59</td>\n",
       "    </tr>\n",
       "    <tr>\n",
       "      <th>...</th>\n",
       "      <td>...</td>\n",
       "      <td>...</td>\n",
       "      <td>...</td>\n",
       "      <td>...</td>\n",
       "      <td>...</td>\n",
       "      <td>...</td>\n",
       "      <td>...</td>\n",
       "      <td>...</td>\n",
       "      <td>...</td>\n",
       "      <td>...</td>\n",
       "      <td>...</td>\n",
       "    </tr>\n",
       "    <tr>\n",
       "      <th>5622696336</th>\n",
       "      <td>14</td>\n",
       "      <td>True</td>\n",
       "      <td>2020-02-29T19:43:13+00:00</td>\n",
       "      <td>1030049082711</td>\n",
       "      <td>1</td>\n",
       "      <td>1.799999e+06</td>\n",
       "      <td>region</td>\n",
       "      <td>30004759</td>\n",
       "      <td>53984</td>\n",
       "      <td>100</td>\n",
       "      <td>100</td>\n",
       "    </tr>\n",
       "    <tr>\n",
       "      <th>5623072409</th>\n",
       "      <td>90</td>\n",
       "      <td>True</td>\n",
       "      <td>2020-03-01T06:24:17+00:00</td>\n",
       "      <td>1032110505696</td>\n",
       "      <td>1</td>\n",
       "      <td>2.000000e+06</td>\n",
       "      <td>1</td>\n",
       "      <td>30001198</td>\n",
       "      <td>53984</td>\n",
       "      <td>49</td>\n",
       "      <td>50</td>\n",
       "    </tr>\n",
       "    <tr>\n",
       "      <th>5623289006</th>\n",
       "      <td>90</td>\n",
       "      <td>False</td>\n",
       "      <td>2020-03-01T12:16:17+00:00</td>\n",
       "      <td>60012730</td>\n",
       "      <td>1</td>\n",
       "      <td>2.500000e+06</td>\n",
       "      <td>region</td>\n",
       "      <td>30002423</td>\n",
       "      <td>52694</td>\n",
       "      <td>1</td>\n",
       "      <td>1</td>\n",
       "    </tr>\n",
       "    <tr>\n",
       "      <th>5623897447</th>\n",
       "      <td>90</td>\n",
       "      <td>True</td>\n",
       "      <td>2020-03-02T02:03:51+00:00</td>\n",
       "      <td>1027167974576</td>\n",
       "      <td>1</td>\n",
       "      <td>2.955000e+06</td>\n",
       "      <td>40</td>\n",
       "      <td>30004908</td>\n",
       "      <td>44992</td>\n",
       "      <td>975</td>\n",
       "      <td>975</td>\n",
       "    </tr>\n",
       "    <tr>\n",
       "      <th>5624325097</th>\n",
       "      <td>90</td>\n",
       "      <td>False</td>\n",
       "      <td>2020-03-02T17:18:56+00:00</td>\n",
       "      <td>60011752</td>\n",
       "      <td>1</td>\n",
       "      <td>2.221592e+06</td>\n",
       "      <td>region</td>\n",
       "      <td>30003580</td>\n",
       "      <td>53977</td>\n",
       "      <td>2</td>\n",
       "      <td>2</td>\n",
       "    </tr>\n",
       "  </tbody>\n",
       "</table>\n",
       "<p>62 rows × 11 columns</p>\n",
       "</div>"
      ],
      "text/plain": [
       "            duration  is_buy_order                     issued    location_id  \\\n",
       "order_id                                                                       \n",
       "4518726139       365         False  2020-01-14T11:20:12+00:00       60014470   \n",
       "5473153758        90          True  2019-12-04T22:24:04+00:00  1029996624481   \n",
       "5486915087        90          True  2020-01-14T17:01:07+00:00  1028128105463   \n",
       "5491933741        90          True  2020-01-29T02:33:32+00:00  1028153746131   \n",
       "5503564949       365         False  2019-12-30T07:25:34+00:00       60008485   \n",
       "...              ...           ...                        ...            ...   \n",
       "5622696336        14          True  2020-02-29T19:43:13+00:00  1030049082711   \n",
       "5623072409        90          True  2020-03-01T06:24:17+00:00  1032110505696   \n",
       "5623289006        90         False  2020-03-01T12:16:17+00:00       60012730   \n",
       "5623897447        90          True  2020-03-02T02:03:51+00:00  1027167974576   \n",
       "5624325097        90         False  2020-03-02T17:18:56+00:00       60011752   \n",
       "\n",
       "            min_volume         price        range  system_id  type_id  \\\n",
       "order_id                                                                \n",
       "4518726139           1  5.000000e+08       region   30001480    41532   \n",
       "5473153758           1  2.850000e+05  solarsystem   30004017    28439   \n",
       "5486915087           1  1.000100e+02       region   30004070    25274   \n",
       "5491933741           1  1.490000e+06       region   30003769    49711   \n",
       "5503564949           1  3.137264e+07       region   30004288    52695   \n",
       "...                ...           ...          ...        ...      ...   \n",
       "5622696336           1  1.799999e+06       region   30004759    53984   \n",
       "5623072409           1  2.000000e+06            1   30001198    53984   \n",
       "5623289006           1  2.500000e+06       region   30002423    52694   \n",
       "5623897447           1  2.955000e+06           40   30004908    44992   \n",
       "5624325097           1  2.221592e+06       region   30003580    53977   \n",
       "\n",
       "            volume_remain  volume_total  \n",
       "order_id                                 \n",
       "4518726139             22            22  \n",
       "5473153758            107           400  \n",
       "5486915087          64849        100000  \n",
       "5491933741              5             5  \n",
       "5503564949             59            59  \n",
       "...                   ...           ...  \n",
       "5622696336            100           100  \n",
       "5623072409             49            50  \n",
       "5623289006              1             1  \n",
       "5623897447            975           975  \n",
       "5624325097              2             2  \n",
       "\n",
       "[62 rows x 11 columns]"
      ]
     },
     "execution_count": 7,
     "metadata": {},
     "output_type": "execute_result"
    }
   ],
   "source": [
    "orders"
   ]
  },
  {
   "cell_type": "code",
   "execution_count": 32,
   "metadata": {},
   "outputs": [
    {
     "ename": "SyntaxError",
     "evalue": "invalid syntax (embedding.py, line 17)",
     "output_type": "error",
     "traceback": [
      "Traceback \u001b[1;36m(most recent call last)\u001b[0m:\n",
      "  File \u001b[0;32m\"c:\\program files\\python36\\lib\\site-packages\\IPython\\core\\interactiveshell.py\"\u001b[0m, line \u001b[0;32m2961\u001b[0m, in \u001b[0;35mrun_code\u001b[0m\n    exec(code_obj, self.user_global_ns, self.user_ns)\n",
      "  File \u001b[0;32m\"<ipython-input-32-3fedacae4a8c>\"\u001b[0m, line \u001b[0;32m1\u001b[0m, in \u001b[0;35m<module>\u001b[0m\n    import evebox.tf.trading_gym\n",
      "\u001b[1;36m  File \u001b[1;32m\"C:\\Users\\Knieps\\Documents\\repos\\tf_playground\\eveplan\\evebox\\tf\\trading_gym.py\"\u001b[1;36m, line \u001b[1;32m4\u001b[1;36m, in \u001b[1;35m<module>\u001b[1;36m\u001b[0m\n\u001b[1;33m    from evebox.tf.embedding import encode_orders, update_encoded_orders\u001b[0m\n",
      "\u001b[1;36m  File \u001b[1;32m\"C:\\Users\\Knieps\\Documents\\repos\\tf_playground\\eveplan\\evebox\\tf\\embedding.py\"\u001b[1;36m, line \u001b[1;32m17\u001b[0m\n\u001b[1;33m    tf.shape(params)\u001b[0m\n\u001b[1;37m     ^\u001b[0m\n\u001b[1;31mSyntaxError\u001b[0m\u001b[1;31m:\u001b[0m invalid syntax\n"
     ]
    }
   ],
   "source": [
    "import evebox.tf.trading_gym"
   ]
  },
  {
   "cell_type": "code",
   "execution_count": null,
   "metadata": {},
   "outputs": [],
   "source": []
  }
 ],
 "metadata": {
  "kernelspec": {
   "display_name": "Python 3",
   "language": "python",
   "name": "python3"
  },
  "language_info": {
   "codemirror_mode": {
    "name": "ipython",
    "version": 3
   },
   "file_extension": ".py",
   "mimetype": "text/x-python",
   "name": "python",
   "nbconvert_exporter": "python",
   "pygments_lexer": "ipython3",
   "version": "3.6.2"
  }
 },
 "nbformat": 4,
 "nbformat_minor": 4
}
