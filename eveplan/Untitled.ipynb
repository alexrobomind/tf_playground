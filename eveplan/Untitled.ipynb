{
 "cells": [
  {
   "cell_type": "code",
   "execution_count": 1,
   "metadata": {},
   "outputs": [],
   "source": [
    "import evebox as box\n",
    "import pandas as pd\n",
    "import tensorflow as tf\n",
    "import cProfile\n",
    "from tqdm.notebook import tqdm, trange"
   ]
  },
  {
   "cell_type": "raw",
   "metadata": {},
   "source": [
    "import importlib\n",
    "import types\n",
    "\n",
    "def rreload(module):\n",
    "    \"\"\"Recursively reload modules.\"\"\"\n",
    "    importlib.reload(module)\n",
    "    for attribute_name in dir(module):\n",
    "        attribute = getattr(module, attribute_name)\n",
    "        if type(attribute) is types.ModuleType:\n",
    "            rreload(attribute)\n",
    "\n",
    "rreload(box)"
   ]
  },
  {
   "cell_type": "code",
   "execution_count": 2,
   "metadata": {},
   "outputs": [],
   "source": [
    "uni = box.Universe.from_esi(cache = 'universe.txt', tqdm = tqdm).range('Jita', min_sec = 0.5).with_market_types()"
   ]
  },
  {
   "cell_type": "code",
   "execution_count": 3,
   "metadata": {},
   "outputs": [],
   "source": [
    "#orders = box.load_orders(uni, tqdm = tqdm)\n",
    "orders = pd.read_csv('market/current.csv')"
   ]
  },
  {
   "cell_type": "code",
   "execution_count": 4,
   "metadata": {},
   "outputs": [],
   "source": [
    "#orders.to_csv('market/current.csv')"
   ]
  },
  {
   "cell_type": "code",
   "execution_count": 4,
   "metadata": {},
   "outputs": [
    {
     "data": {
      "text/html": [
       "<div>\n",
       "<style scoped>\n",
       "    .dataframe tbody tr th:only-of-type {\n",
       "        vertical-align: middle;\n",
       "    }\n",
       "\n",
       "    .dataframe tbody tr th {\n",
       "        vertical-align: top;\n",
       "    }\n",
       "\n",
       "    .dataframe thead th {\n",
       "        text-align: right;\n",
       "    }\n",
       "</style>\n",
       "<table border=\"1\" class=\"dataframe\">\n",
       "  <thead>\n",
       "    <tr style=\"text-align: right;\">\n",
       "      <th></th>\n",
       "      <th>order_id</th>\n",
       "      <th>duration</th>\n",
       "      <th>is_buy_order</th>\n",
       "      <th>issued</th>\n",
       "      <th>location_id</th>\n",
       "      <th>min_volume</th>\n",
       "      <th>price</th>\n",
       "      <th>range</th>\n",
       "      <th>system_id</th>\n",
       "      <th>type_id</th>\n",
       "      <th>volume_remain</th>\n",
       "      <th>volume_total</th>\n",
       "    </tr>\n",
       "  </thead>\n",
       "  <tbody>\n",
       "    <tr>\n",
       "      <th>0</th>\n",
       "      <td>911190994</td>\n",
       "      <td>365</td>\n",
       "      <td>False</td>\n",
       "      <td>2020-03-09T20:18:58+00:00</td>\n",
       "      <td>60000004</td>\n",
       "      <td>1</td>\n",
       "      <td>14.87</td>\n",
       "      <td>region</td>\n",
       "      <td>30002780</td>\n",
       "      <td>41</td>\n",
       "      <td>23572</td>\n",
       "      <td>23572</td>\n",
       "    </tr>\n",
       "    <tr>\n",
       "      <th>1</th>\n",
       "      <td>911190995</td>\n",
       "      <td>365</td>\n",
       "      <td>False</td>\n",
       "      <td>2020-03-09T20:18:58+00:00</td>\n",
       "      <td>60000007</td>\n",
       "      <td>1</td>\n",
       "      <td>14.03</td>\n",
       "      <td>region</td>\n",
       "      <td>30002779</td>\n",
       "      <td>41</td>\n",
       "      <td>23572</td>\n",
       "      <td>23572</td>\n",
       "    </tr>\n",
       "    <tr>\n",
       "      <th>2</th>\n",
       "      <td>911190996</td>\n",
       "      <td>365</td>\n",
       "      <td>False</td>\n",
       "      <td>2020-03-09T20:18:58+00:00</td>\n",
       "      <td>60000010</td>\n",
       "      <td>1</td>\n",
       "      <td>14.87</td>\n",
       "      <td>region</td>\n",
       "      <td>30002776</td>\n",
       "      <td>41</td>\n",
       "      <td>23572</td>\n",
       "      <td>23572</td>\n",
       "    </tr>\n",
       "    <tr>\n",
       "      <th>3</th>\n",
       "      <td>911190997</td>\n",
       "      <td>365</td>\n",
       "      <td>False</td>\n",
       "      <td>2020-03-09T20:18:58+00:00</td>\n",
       "      <td>60000013</td>\n",
       "      <td>1</td>\n",
       "      <td>14.03</td>\n",
       "      <td>region</td>\n",
       "      <td>30002779</td>\n",
       "      <td>41</td>\n",
       "      <td>23572</td>\n",
       "      <td>23572</td>\n",
       "    </tr>\n",
       "    <tr>\n",
       "      <th>4</th>\n",
       "      <td>911190998</td>\n",
       "      <td>365</td>\n",
       "      <td>False</td>\n",
       "      <td>2020-03-09T20:18:58+00:00</td>\n",
       "      <td>60000016</td>\n",
       "      <td>1</td>\n",
       "      <td>14.80</td>\n",
       "      <td>region</td>\n",
       "      <td>30002778</td>\n",
       "      <td>41</td>\n",
       "      <td>23572</td>\n",
       "      <td>23572</td>\n",
       "    </tr>\n",
       "    <tr>\n",
       "      <th>...</th>\n",
       "      <td>...</td>\n",
       "      <td>...</td>\n",
       "      <td>...</td>\n",
       "      <td>...</td>\n",
       "      <td>...</td>\n",
       "      <td>...</td>\n",
       "      <td>...</td>\n",
       "      <td>...</td>\n",
       "      <td>...</td>\n",
       "      <td>...</td>\n",
       "      <td>...</td>\n",
       "      <td>...</td>\n",
       "    </tr>\n",
       "    <tr>\n",
       "      <th>891209</th>\n",
       "      <td>5629686039</td>\n",
       "      <td>1</td>\n",
       "      <td>False</td>\n",
       "      <td>2020-03-09T22:21:26+00:00</td>\n",
       "      <td>60012103</td>\n",
       "      <td>1</td>\n",
       "      <td>1086.00</td>\n",
       "      <td>region</td>\n",
       "      <td>30005316</td>\n",
       "      <td>37544</td>\n",
       "      <td>1</td>\n",
       "      <td>1</td>\n",
       "    </tr>\n",
       "    <tr>\n",
       "      <th>891210</th>\n",
       "      <td>5629686166</td>\n",
       "      <td>30</td>\n",
       "      <td>False</td>\n",
       "      <td>2020-03-09T22:21:37+00:00</td>\n",
       "      <td>60012010</td>\n",
       "      <td>1</td>\n",
       "      <td>999999.99</td>\n",
       "      <td>region</td>\n",
       "      <td>30004970</td>\n",
       "      <td>656</td>\n",
       "      <td>2</td>\n",
       "      <td>2</td>\n",
       "    </tr>\n",
       "    <tr>\n",
       "      <th>891211</th>\n",
       "      <td>5629686170</td>\n",
       "      <td>90</td>\n",
       "      <td>False</td>\n",
       "      <td>2020-03-09T22:21:38+00:00</td>\n",
       "      <td>60014077</td>\n",
       "      <td>1</td>\n",
       "      <td>12500.00</td>\n",
       "      <td>region</td>\n",
       "      <td>30003389</td>\n",
       "      <td>20763</td>\n",
       "      <td>1000</td>\n",
       "      <td>1000</td>\n",
       "    </tr>\n",
       "    <tr>\n",
       "      <th>891212</th>\n",
       "      <td>5629686218</td>\n",
       "      <td>3</td>\n",
       "      <td>False</td>\n",
       "      <td>2020-03-09T22:21:42+00:00</td>\n",
       "      <td>60015036</td>\n",
       "      <td>1</td>\n",
       "      <td>31000.00</td>\n",
       "      <td>region</td>\n",
       "      <td>30045305</td>\n",
       "      <td>12195</td>\n",
       "      <td>1</td>\n",
       "      <td>1</td>\n",
       "    </tr>\n",
       "    <tr>\n",
       "      <th>891213</th>\n",
       "      <td>5629686374</td>\n",
       "      <td>3</td>\n",
       "      <td>False</td>\n",
       "      <td>2020-03-09T22:21:57+00:00</td>\n",
       "      <td>60015036</td>\n",
       "      <td>1</td>\n",
       "      <td>72000.00</td>\n",
       "      <td>region</td>\n",
       "      <td>30045305</td>\n",
       "      <td>12193</td>\n",
       "      <td>1</td>\n",
       "      <td>1</td>\n",
       "    </tr>\n",
       "  </tbody>\n",
       "</table>\n",
       "<p>891214 rows × 12 columns</p>\n",
       "</div>"
      ],
      "text/plain": [
       "          order_id  duration  is_buy_order                     issued  \\\n",
       "0        911190994       365         False  2020-03-09T20:18:58+00:00   \n",
       "1        911190995       365         False  2020-03-09T20:18:58+00:00   \n",
       "2        911190996       365         False  2020-03-09T20:18:58+00:00   \n",
       "3        911190997       365         False  2020-03-09T20:18:58+00:00   \n",
       "4        911190998       365         False  2020-03-09T20:18:58+00:00   \n",
       "...            ...       ...           ...                        ...   \n",
       "891209  5629686039         1         False  2020-03-09T22:21:26+00:00   \n",
       "891210  5629686166        30         False  2020-03-09T22:21:37+00:00   \n",
       "891211  5629686170        90         False  2020-03-09T22:21:38+00:00   \n",
       "891212  5629686218         3         False  2020-03-09T22:21:42+00:00   \n",
       "891213  5629686374         3         False  2020-03-09T22:21:57+00:00   \n",
       "\n",
       "        location_id  min_volume      price   range  system_id  type_id  \\\n",
       "0          60000004           1      14.87  region   30002780       41   \n",
       "1          60000007           1      14.03  region   30002779       41   \n",
       "2          60000010           1      14.87  region   30002776       41   \n",
       "3          60000013           1      14.03  region   30002779       41   \n",
       "4          60000016           1      14.80  region   30002778       41   \n",
       "...             ...         ...        ...     ...        ...      ...   \n",
       "891209     60012103           1    1086.00  region   30005316    37544   \n",
       "891210     60012010           1  999999.99  region   30004970      656   \n",
       "891211     60014077           1   12500.00  region   30003389    20763   \n",
       "891212     60015036           1   31000.00  region   30045305    12195   \n",
       "891213     60015036           1   72000.00  region   30045305    12193   \n",
       "\n",
       "        volume_remain  volume_total  \n",
       "0               23572         23572  \n",
       "1               23572         23572  \n",
       "2               23572         23572  \n",
       "3               23572         23572  \n",
       "4               23572         23572  \n",
       "...               ...           ...  \n",
       "891209              1             1  \n",
       "891210              2             2  \n",
       "891211           1000          1000  \n",
       "891212              1             1  \n",
       "891213              1             1  \n",
       "\n",
       "[891214 rows x 12 columns]"
      ]
     },
     "execution_count": 4,
     "metadata": {},
     "output_type": "execute_result"
    }
   ],
   "source": [
    "orders"
   ]
  },
  {
   "cell_type": "code",
   "execution_count": 4,
   "metadata": {},
   "outputs": [],
   "source": [
    "gym = box.tf.TradingGym(uni, orders)"
   ]
  },
  {
   "cell_type": "code",
   "execution_count": 17,
   "metadata": {},
   "outputs": [],
   "source": [
    "jita = [s[\"system_id\"] for s in uni.systems.values() if s[\"name\"] == \"Jita\"][0]\n",
    "\n",
    "state = box.MutableState()\n",
    "state.time_left = 100.0\n",
    "state.system    = jita\n",
    "\n",
    "state = box.State(state)"
   ]
  },
  {
   "cell_type": "code",
   "execution_count": 22,
   "metadata": {},
   "outputs": [
    {
     "data": {
      "application/vnd.jupyter.widget-view+json": {
       "model_id": "0d3effd6be5b495191703231e2c8df73",
       "version_major": 2,
       "version_minor": 0
      },
      "text/plain": [
       "HBox(children=(FloatProgress(value=0.0, description='Encoding systems', max=972.0, style=ProgressStyle(descrip…"
      ]
     },
     "metadata": {},
     "output_type": "display_data"
    },
    {
     "name": "stdout",
     "output_type": "stream",
     "text": [
      "\n"
     ]
    },
    {
     "data": {
      "application/vnd.jupyter.widget-view+json": {
       "model_id": "6b28556e418445ca805981bca780ed7c",
       "version_major": 2,
       "version_minor": 0
      },
      "text/plain": [
       "HBox(children=(FloatProgress(value=0.0, description='Encoding types', max=14472.0, style=ProgressStyle(descrip…"
      ]
     },
     "metadata": {},
     "output_type": "display_data"
    },
    {
     "name": "stdout",
     "output_type": "stream",
     "text": [
      "\n"
     ]
    }
   ],
   "source": [
    "class Model(tf.keras.Model):\n",
    "    def __init__(self, universe):\n",
    "        super().__init__()\n",
    "        \n",
    "        self.bandwidth = 128\n",
    "        self.d_notes  = 4\n",
    "        self.memory = 64\n",
    "        \n",
    "        self.embedding = box.tf.Embedding(universe, d_notes = self.d_notes, tqdm = tqdm)\n",
    "        \n",
    "        self.input_transforms = {\n",
    "            k : tf.keras.layers.Dense(self.bandwidth)\n",
    "            for k in ['state', 'orders', 'cargo', 'systems']\n",
    "        }\n",
    "        \n",
    "        def otf(n):\n",
    "            return tf.keras.layers.Dense(n)\n",
    "        \n",
    "        self.output_transforms = {\n",
    "            'actions' : otf(3),\n",
    "            'move_targets' : otf(1),\n",
    "            'buy_params' : otf(3),\n",
    "            'sell_params' : otf(3),\n",
    "            'value' : otf(1)\n",
    "        }\n",
    "        \n",
    "        self.stack_start = box.tf.StackedTogether(\n",
    "            tf.keras.Sequential([\n",
    "                box.tf.MultiHeadedAttention(self.bandwidth, 16, 8) for i in range(2)\n",
    "            ])\n",
    "        )\n",
    "        \n",
    "        self.stack_step = box.tf.StackedTogether(\n",
    "            tf.keras.Sequential([\n",
    "                box.tf.MultiHeadedAttention(self.bandwidth, 16, 8) for i in range(2)\n",
    "            ])\n",
    "        )\n",
    "        \n",
    "        self.rnn_cell = tf.keras.layers.GRUCell(self.bandwidth)\n",
    "            \n",
    "    \n",
    "    def _preprocess_input(self, input):\n",
    "        # Pre-process input (adds \"note\" variables to types & systems, joins orders with their types & systems)\n",
    "        input = self.embedding(input)\n",
    "        \n",
    "        # Expand state to have the same shape as the other stuff\n",
    "        input['state'] = tf.expand_dims(input['state'], axis = -2)\n",
    "        \n",
    "        # Expand all items into a [...,bandwidth] shape\n",
    "        input = {\n",
    "            k : self.input_transforms[k](v)\n",
    "            for k, v in input.items()\n",
    "        }\n",
    "        \n",
    "        return input\n",
    "        \n",
    "    def get_initial_state(self, input):\n",
    "        input = self._preprocess_input(input)\n",
    "        \n",
    "        input = self.stack_start(input)\n",
    "        \n",
    "        return [tf.reshape(input['state'], [-1, self.bandwidth])]\n",
    "    \n",
    "    def call(self, input):\n",
    "        input, rnn_state = input\n",
    "        \n",
    "        batch_shape = tf.shape(input['state'])[:-1]\n",
    "        \n",
    "        input = self._preprocess_input(input)\n",
    "        \n",
    "        # Add RNN state to the mix\n",
    "        input['rnn_state'] = tf.reshape(rnn_state, tf.concat([batch_shape, [1, self.bandwidth]], axis = 0))\n",
    "        \n",
    "        # We don't want orders in here, too costly (but probably not present anyway)\n",
    "        if 'orders' in input:\n",
    "            del input['orders']\n",
    "        \n",
    "        # Apply attention stack\n",
    "        input = self.stack_step(input)\n",
    "        \n",
    "        # Extract rnn state & apply to cell\n",
    "        rnn_in = tf.reshape(input['rnn_state'], [-1, self.bandwidth])\n",
    "        _, rnn_state = self.rnn_cell(rnn_in, rnn_state)\n",
    "        del input['rnn_state']\n",
    "        \n",
    "        output = {\n",
    "            'actions' : tf.squeeze(\n",
    "                self.output_transforms['actions'](input['state']),\n",
    "                axis = -2\n",
    "            ),\n",
    "            \n",
    "            'move_targets' : tf.squeeze(\n",
    "                self.output_transforms['move_targets'](input['systems']),\n",
    "                axis = -1\n",
    "            ),\n",
    "            \n",
    "            'buy_params'  : self.output_transforms['buy_params'] (input['cargo']),\n",
    "            'sell_params' : self.output_transforms['sell_params'](input['cargo']),\n",
    "            \n",
    "            'value' : tf.squeeze(\n",
    "                self.output_transforms['value'](input['state']),\n",
    "                axis = [-2, -1]\n",
    "            )\n",
    "        }\n",
    "        \n",
    "        return output, rnn_state\n",
    "        \n",
    "        \n",
    "        \n",
    "\n",
    "model = Model(uni)"
   ]
  },
  {
   "cell_type": "code",
   "execution_count": null,
   "metadata": {},
   "outputs": [
    {
     "data": {
      "application/vnd.jupyter.widget-view+json": {
       "model_id": "f3c53b8b8eaf4437a7e98f6e3099eb3e",
       "version_major": 2,
       "version_minor": 0
      },
      "text/plain": [
       "HBox(children=(FloatProgress(value=0.0, max=1.0), HTML(value='')))"
      ]
     },
     "metadata": {},
     "output_type": "display_data"
    },
    {
     "name": "stdout",
     "output_type": "stream",
     "text": [
      "\n"
     ]
    },
    {
     "data": {
      "application/vnd.jupyter.widget-view+json": {
       "model_id": "1d94096c69114110bd970229ad8663c8",
       "version_major": 2,
       "version_minor": 0
      },
      "text/plain": [
       "HBox(children=(FloatProgress(value=0.0, description='Iterations', style=ProgressStyle(description_width='initi…"
      ]
     },
     "metadata": {},
     "output_type": "display_data"
    },
    {
     "data": {
      "application/vnd.jupyter.widget-view+json": {
       "model_id": "",
       "version_major": 2,
       "version_minor": 0
      },
      "text/plain": [
       "HBox(children=(FloatProgress(value=0.0, description='Batch', max=2.0, style=ProgressStyle(description_width='i…"
      ]
     },
     "metadata": {},
     "output_type": "display_data"
    },
    {
     "name": "stdout",
     "output_type": "stream",
     "text": [
      "WARNING:tensorflow:The dtype of the source tensor must be floating (e.g. tf.float32) when calling GradientTape.gradient, got tf.int32\n",
      "WARNING:tensorflow:The dtype of the source tensor must be floating (e.g. tf.float32) when calling GradientTape.gradient, got tf.int32\n"
     ]
    },
    {
     "data": {
      "application/vnd.jupyter.widget-view+json": {
       "model_id": "f5fa41c36e4e45aab81f583024c7bf60",
       "version_major": 2,
       "version_minor": 0
      },
      "text/plain": [
       "HBox(children=(FloatProgress(value=0.0), HTML(value='')))"
      ]
     },
     "metadata": {},
     "output_type": "display_data"
    },
    {
     "name": "stdout",
     "output_type": "stream",
     "text": [
      "WARNING:tensorflow:The dtype of the target tensor must be floating (e.g. tf.float32) when calling GradientTape.gradient, got tf.int32\n",
      "WARNING:tensorflow:The dtype of the target tensor must be floating (e.g. tf.float32) when calling GradientTape.gradient, got tf.int32\n",
      "WARNING:tensorflow:The dtype of the target tensor must be floating (e.g. tf.float32) when calling GradientTape.gradient, got tf.int32\n",
      "\n",
      "-649.748474\n",
      "323.713348\n",
      "-25.9855518\n",
      "-326.061096\n"
     ]
    },
    {
     "data": {
      "application/vnd.jupyter.widget-view+json": {
       "model_id": "04734b8889e846229f5fdfcd191a1421",
       "version_major": 2,
       "version_minor": 0
      },
      "text/plain": [
       "HBox(children=(FloatProgress(value=0.0), HTML(value='')))"
      ]
     },
     "metadata": {},
     "output_type": "display_data"
    },
    {
     "name": "stdout",
     "output_type": "stream",
     "text": [
      "\n",
      "-649.469849\n",
      "323.713348\n",
      "-25.9872437\n",
      "-325.782501\n"
     ]
    }
   ],
   "source": [
    "unroller = gym.unroll_model(model, tqdm);\n",
    "\n",
    "opt = tf.keras.optimizers.SGD(1e-5)\n",
    "\n",
    "unroller(state, 1)\n",
    "\n",
    "def get_loss():\n",
    "    result = unroller(state, 100)\n",
    "    \n",
    "    policy_loss, value_loss, entropy_loss = gym.losses(result)\n",
    "    \n",
    "    total_loss = policy_loss + value_loss + 1e-3 * entropy_loss\n",
    "    tf.print(policy_loss)\n",
    "    tf.print(value_loss)\n",
    "    tf.print(entropy_loss)\n",
    "    tf.print(total_loss)\n",
    "    return total_loss\n",
    "\n",
    "def mean_loss():\n",
    "    losses = tf.stack(\n",
    "        [get_loss() for i in tqdm(range(1), desc = 'Batch', leave = False)],\n",
    "        axis = -1\n",
    "    )\n",
    "    \n",
    "    mean_loss = tf.math.reduce_mean(losses)\n",
    "    \n",
    "    return mean_loss\n",
    "\n",
    "for i in trange(100, desc = 'Iterations'):\n",
    "    print(opt.minimize(mean_loss, model.trainable_variables))"
   ]
  },
  {
   "cell_type": "code",
   "execution_count": 13,
   "metadata": {},
   "outputs": [
    {
     "data": {
      "text/plain": [
       "(Buy 61411932.0 of 42241,\n",
       " Buy 10420804.0 of 11567,\n",
       " Buy 41306360.0 of 11567,\n",
       " Buy 56765748.0 of 11567,\n",
       " Buy 25071562.0 of 42241,\n",
       " Buy 71965600.0 of 42241,\n",
       " Buy 69669368.0 of 42241,\n",
       " Buy 70687472.0 of 11567,\n",
       " Buy 44765412.0 of 42241,\n",
       " Buy 31007356.0 of 42241)"
      ]
     },
     "execution_count": 13,
     "metadata": {},
     "output_type": "execute_result"
    }
   ],
   "source": [
    "states, actions, logps, values = zip(*result)\n",
    "\n",
    "actions"
   ]
  },
  {
   "cell_type": "code",
   "execution_count": 16,
   "metadata": {},
   "outputs": [
    {
     "data": {
      "text/plain": [
       "{'capacity': 11250.0,\n",
       " 'description': 'Casting his sight on his realm, the Lord witnessed\\r\\nThe cascade of evil, the torrents of war.\\r\\nBurning with wrath, He stepped \\r\\ndown from the Heavens\\r\\nTo judge the unworthy,\\r\\nTo redeem the pure.\\r\\n\\r\\n<i>-The Scriptures, Revelation Verses 2:12</i>\\r\\n\\r\\n',\n",
       " 'dogma_attributes': [{'attribute_id': 3, 'value': 0.0},\n",
       "  {'attribute_id': 4, 'value': 2400000000.0},\n",
       "  {'attribute_id': 9, 'value': 390000.0},\n",
       "  {'attribute_id': 11, 'value': 1250000.0},\n",
       "  {'attribute_id': 12, 'value': 8.0},\n",
       "  {'attribute_id': 13, 'value': 5.0},\n",
       "  {'attribute_id': 14, 'value': 8.0},\n",
       "  {'attribute_id': 15, 'value': 0.0},\n",
       "  {'attribute_id': 18, 'value': 0.0},\n",
       "  {'attribute_id': 19, 'value': 1.0},\n",
       "  {'attribute_id': 21, 'value': 0.0},\n",
       "  {'attribute_id': 37, 'value': 60.0},\n",
       "  {'attribute_id': 38, 'value': 11250.0},\n",
       "  {'attribute_id': 552, 'value': 22760.0},\n",
       "  {'attribute_id': 48, 'value': 815.0},\n",
       "  {'attribute_id': 49, 'value': 0.0},\n",
       "  {'attribute_id': 564, 'value': 70.0},\n",
       "  {'attribute_id': 55, 'value': 7500000.0},\n",
       "  {'attribute_id': 63, 'value': 1.0},\n",
       "  {'attribute_id': 2112, 'value': 0.2},\n",
       "  {'attribute_id': 2113, 'value': 0.2},\n",
       "  {'attribute_id': 2114, 'value': 1.0},\n",
       "  {'attribute_id': 1547, 'value': 4.0},\n",
       "  {'attribute_id': 2116, 'value': 1.0},\n",
       "  {'attribute_id': 70, 'value': 0.034},\n",
       "  {'attribute_id': 524, 'value': 0.75},\n",
       "  {'attribute_id': 76, 'value': 250000.0},\n",
       "  {'attribute_id': 525, 'value': 1.0},\n",
       "  {'attribute_id': 2574, 'value': 200.0},\n",
       "  {'attribute_id': 2135, 'value': 0.2},\n",
       "  {'attribute_id': 600, 'value': 1.37},\n",
       "  {'attribute_id': 101, 'value': 0.0},\n",
       "  {'attribute_id': 102, 'value': 6.0},\n",
       "  {'attribute_id': 104, 'value': 0.0},\n",
       "  {'attribute_id': 1132, 'value': 400.0},\n",
       "  {'attribute_id': 109, 'value': 0.67},\n",
       "  {'attribute_id': 110, 'value': 0.67},\n",
       "  {'attribute_id': 111, 'value': 0.67},\n",
       "  {'attribute_id': 1137, 'value': 3.0},\n",
       "  {'attribute_id': 1555, 'value': 14000.0},\n",
       "  {'attribute_id': 633, 'value': 0.0},\n",
       "  {'attribute_id': 129, 'value': 150.0},\n",
       "  {'attribute_id': 1154, 'value': 3.0},\n",
       "  {'attribute_id': 136, 'value': 1.0},\n",
       "  {'attribute_id': 153, 'value': 1.38e-08},\n",
       "  {'attribute_id': 1178, 'value': 100.0},\n",
       "  {'attribute_id': 1179, 'value': 0.01},\n",
       "  {'attribute_id': 161, 'value': 155000000.0},\n",
       "  {'attribute_id': 162, 'value': 6800.0},\n",
       "  {'attribute_id': 113, 'value': 0.67},\n",
       "  {'attribute_id': 1196, 'value': 0.01},\n",
       "  {'attribute_id': 1198, 'value': 0.01},\n",
       "  {'attribute_id': 1199, 'value': 100.0},\n",
       "  {'attribute_id': 1200, 'value': 100.0},\n",
       "  {'attribute_id': 182, 'value': 20533.0},\n",
       "  {'attribute_id': 183, 'value': 3347.0},\n",
       "  {'attribute_id': 192, 'value': 8.0},\n",
       "  {'attribute_id': 2754, 'value': 1e-05},\n",
       "  {'attribute_id': 2244, 'value': 1.0},\n",
       "  {'attribute_id': 1224, 'value': 0.25},\n",
       "  {'attribute_id': 715, 'value': 5000.0},\n",
       "  {'attribute_id': 716, 'value': 2.0},\n",
       "  {'attribute_id': 208, 'value': 225.0},\n",
       "  {'attribute_id': 209, 'value': 0.0},\n",
       "  {'attribute_id': 210, 'value': 0.0},\n",
       "  {'attribute_id': 211, 'value': 0.0},\n",
       "  {'attribute_id': 217, 'value': 394.0},\n",
       "  {'attribute_id': 1253, 'value': -5.0},\n",
       "  {'attribute_id': 1768, 'value': 11313.0},\n",
       "  {'attribute_id': 1259, 'value': 0.82},\n",
       "  {'attribute_id': 1261, 'value': 0.71},\n",
       "  {'attribute_id': 1262, 'value': 0.82},\n",
       "  {'attribute_id': 246, 'value': 394.0},\n",
       "  {'attribute_id': 1271, 'value': 0.0},\n",
       "  {'attribute_id': 1785, 'value': 1.0},\n",
       "  {'attribute_id': 2298, 'value': 2.0},\n",
       "  {'attribute_id': 2299, 'value': 500.0},\n",
       "  {'attribute_id': 1281, 'value': 1.0},\n",
       "  {'attribute_id': 263, 'value': 260000.0},\n",
       "  {'attribute_id': 264, 'value': 0.0},\n",
       "  {'attribute_id': 265, 'value': 630000.0},\n",
       "  {'attribute_id': 267, 'value': 0.5},\n",
       "  {'attribute_id': 268, 'value': 0.8},\n",
       "  {'attribute_id': 269, 'value': 0.75},\n",
       "  {'attribute_id': 270, 'value': 0.65},\n",
       "  {'attribute_id': 271, 'value': 1.0},\n",
       "  {'attribute_id': 272, 'value': 0.5},\n",
       "  {'attribute_id': 273, 'value': 0.6},\n",
       "  {'attribute_id': 274, 'value': 0.8},\n",
       "  {'attribute_id': 277, 'value': 5.0},\n",
       "  {'attribute_id': 278, 'value': 1.0},\n",
       "  {'attribute_id': 283, 'value': 0.0},\n",
       "  {'attribute_id': 1336, 'value': 0.0},\n",
       "  {'attribute_id': 853, 'value': 1.0},\n",
       "  {'attribute_id': 861, 'value': 1.0},\n",
       "  {'attribute_id': 866, 'value': 16274.0},\n",
       "  {'attribute_id': 867, 'value': 3.0},\n",
       "  {'attribute_id': 868, 'value': 3000.0},\n",
       "  {'attribute_id': 869, 'value': 300000.0},\n",
       "  {'attribute_id': 2406, 'value': 180.0},\n",
       "  {'attribute_id': 2407, 'value': -10.0},\n",
       "  {'attribute_id': 2408, 'value': -10.0},\n",
       "  {'attribute_id': 874, 'value': 1.0},\n",
       "  {'attribute_id': 2433, 'value': 1.0},\n",
       "  {'attribute_id': 898, 'value': 0.95},\n",
       "  {'attribute_id': 907, 'value': 1.0},\n",
       "  {'attribute_id': 908, 'value': 5000000.0},\n",
       "  {'attribute_id': 911, 'value': 1.0},\n",
       "  {'attribute_id': 912, 'value': 100000.0},\n",
       "  {'attribute_id': 2115, 'value': 0.2},\n",
       "  {'attribute_id': 422, 'value': 1.0},\n",
       "  {'attribute_id': 1970, 'value': 1.0},\n",
       "  {'attribute_id': 1973, 'value': 0.0},\n",
       "  {'attribute_id': 1549, 'value': 60000.0},\n",
       "  {'attribute_id': 979, 'value': 75.0},\n",
       "  {'attribute_id': 982, 'value': 1.0},\n",
       "  {'attribute_id': 479, 'value': 20000000.0},\n",
       "  {'attribute_id': 482, 'value': 135000.0},\n",
       "  {'attribute_id': 484, 'value': 0.5},\n",
       "  {'attribute_id': 2021, 'value': 5.0},\n",
       "  {'attribute_id': 1001, 'value': 1e-09},\n",
       "  {'attribute_id': 1002, 'value': 300000.0},\n",
       "  {'attribute_id': 1005, 'value': 25000.0},\n",
       "  {'attribute_id': 2045, 'value': 1.0}],\n",
       " 'dogma_effects': [{'effect_id': 1615, 'is_default': False},\n",
       "  {'effect_id': 1617, 'is_default': False},\n",
       "  {'effect_id': 6104, 'is_default': False},\n",
       "  {'effect_id': 6634, 'is_default': False},\n",
       "  {'effect_id': 6640, 'is_default': False},\n",
       "  {'effect_id': 6641, 'is_default': False},\n",
       "  {'effect_id': 6647, 'is_default': False},\n",
       "  {'effect_id': 6653, 'is_default': False},\n",
       "  {'effect_id': 6783, 'is_default': False}],\n",
       " 'graphic_id': 2910,\n",
       " 'group_id': 30,\n",
       " 'market_group_id': 813,\n",
       " 'mass': 2400000000.0,\n",
       " 'name': 'Avatar',\n",
       " 'packaged_volume': 10000000.0,\n",
       " 'portion_size': 1,\n",
       " 'published': True,\n",
       " 'radius': 6800.0,\n",
       " 'type_id': 11567,\n",
       " 'volume': 155000000.0}"
      ]
     },
     "execution_count": 16,
     "metadata": {},
     "output_type": "execute_result"
    }
   ],
   "source": [
    "uni.types[11567]"
   ]
  },
  {
   "cell_type": "code",
   "execution_count": 8,
   "metadata": {},
   "outputs": [],
   "source": [
    "losses = gym.losses(result)"
   ]
  },
  {
   "cell_type": "code",
   "execution_count": 9,
   "metadata": {},
   "outputs": [
    {
     "data": {
      "text/plain": [
       "(<tf.Tensor: shape=(), dtype=float32, numpy=2.7522936>,\n",
       " <tf.Tensor: shape=(), dtype=float32, numpy=0.0017755391>,\n",
       " <tf.Tensor: shape=(), dtype=float32, numpy=217.35147>)"
      ]
     },
     "execution_count": 9,
     "metadata": {},
     "output_type": "execute_result"
    }
   ],
   "source": [
    "losses"
   ]
  },
  {
   "cell_type": "code",
   "execution_count": null,
   "metadata": {},
   "outputs": [],
   "source": [
    "with tf.GradientTape() as tape:\n",
    "    result = unroller(\n",
    "        state, 150\n",
    "    )\n",
    "    #cProfile.run('unroller(state, 100)', 'profile_stats')"
   ]
  },
  {
   "cell_type": "code",
   "execution_count": null,
   "metadata": {},
   "outputs": [],
   "source": [
    "import pstats\n",
    "p = pstats.Stats('profile_stats')\n",
    "p.sort_stats('cumtime')\n",
    "p.print_stats()"
   ]
  },
  {
   "cell_type": "code",
   "execution_count": null,
   "metadata": {},
   "outputs": [],
   "source": [
    "result[0:1]"
   ]
  },
  {
   "cell_type": "code",
   "execution_count": null,
   "metadata": {},
   "outputs": [],
   "source": [
    "tape.gradient(result[0][2], sources=model.trainable_variables)"
   ]
  },
  {
   "cell_type": "code",
   "execution_count": null,
   "metadata": {},
   "outputs": [],
   "source": [
    "model.trainable_variables"
   ]
  },
  {
   "cell_type": "code",
   "execution_count": null,
   "metadata": {},
   "outputs": [],
   "source": []
  }
 ],
 "metadata": {
  "kernelspec": {
   "display_name": "Python 3",
   "language": "python",
   "name": "python3"
  },
  "language_info": {
   "codemirror_mode": {
    "name": "ipython",
    "version": 3
   },
   "file_extension": ".py",
   "mimetype": "text/x-python",
   "name": "python",
   "nbconvert_exporter": "python",
   "pygments_lexer": "ipython3",
   "version": "3.6.6"
  }
 },
 "nbformat": 4,
 "nbformat_minor": 4
}
