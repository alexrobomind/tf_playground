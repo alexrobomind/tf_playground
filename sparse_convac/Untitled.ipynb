{
 "cells": [
  {
   "cell_type": "code",
   "execution_count": 1,
   "metadata": {},
   "outputs": [],
   "source": [
    "import tensorflow as tf"
   ]
  },
  {
   "cell_type": "code",
   "execution_count": 2,
   "metadata": {},
   "outputs": [],
   "source": [
    "import sparse_convolution as sc"
   ]
  },
  {
   "cell_type": "code",
   "execution_count": 3,
   "metadata": {},
   "outputs": [],
   "source": [
    "# Image is 1920 * 1080 *   3   = 6220800\n",
    "test1 = sc.RandomSparseConv2D(  20,   1,  3, 15, kernel_size = (2, 2), strides = (2, 2), use_bias = True);\n",
    "# Image is  960 *  540 *  15   = 7776000\n",
    "test2 = sc.RandomSparseConv2D(  30,   3, 10, 30, kernel_size = (2, 2), strides = (2, 2), use_bias = True);\n",
    "# Image is  480 *  270 *  30   = 3888000\n",
    "test3 = sc.RandomSparseConv2D(  90,  10, 10, 25, kernel_size = (2, 2), strides = (2, 2), use_bias = True);\n",
    "# Image is  240 *  135 *  90   = 1944000\n",
    "test4 = sc.RandomSparseConv2D( 450,  20, 15, 50, kernel_size = (4, 5), strides = (4, 5), use_bias = True);\n",
    "# Image is   60 *   27 * 450   =  729000\n",
    "test5 = sc.RandomSparseConv2D(1000,  60, 25, 30, kernel_size = (2, 3), strides = (2, 3), use_bias = True);\n",
    "# Image is   30 *    9 *1000   =  270000\n",
    "test6 = sc.RandomSparseConv2D(3000, 150, 25, 40, kernel_size = (5, 3), strides = (5, 3), use_bias = True);\n",
    "# Image is   6  *    3 *3000   =   54000\n",
    "test7 = sc.RandomSparseConv2D(20000,1000,25, 40, kernel_size = (6, 3), strides = (6, 3), use_bias = True);\n",
    "# Image is   1  *    1 * 20000 =   20000"
   ]
  },
  {
   "cell_type": "code",
   "execution_count": 4,
   "metadata": {},
   "outputs": [],
   "source": [
    "test = sc.EncoderDecoderStack([test1, test2, test3, test4, test5, test6, test7]);"
   ]
  },
  {
   "cell_type": "code",
   "execution_count": 6,
   "metadata": {
    "scrolled": false
   },
   "outputs": [
    {
     "name": "stdout",
     "output_type": "stream",
     "text": [
      "Train on 4 samples\n",
      "4/4 [==============================] - 115s 29s/sample - loss: 0.9991\n"
     ]
    }
   ],
   "source": [
    "test.compile(optimizer = 'adagrad', loss = 'mse');\n",
    "testin = tf.ones(dtype=tf.float32, shape = [4, 1920, 1080, 3]);\n",
    "test.fit(testin, testin);"
   ]
  },
  {
   "cell_type": "code",
   "execution_count": 10,
   "metadata": {},
   "outputs": [
    {
     "name": "stdout",
     "output_type": "stream",
     "text": [
      "Train on 1 samples\n",
      "Epoch 1/10\n",
      "1/1 [==============================] - 4s 4s/sample - loss: 0.6170\n",
      "Epoch 2/10\n",
      "1/1 [==============================] - 4s 4s/sample - loss: 0.5404\n",
      "Epoch 3/10\n",
      "1/1 [==============================] - 4s 4s/sample - loss: 0.5334\n",
      "Epoch 4/10\n",
      "1/1 [==============================] - 4s 4s/sample - loss: 0.5098\n",
      "Epoch 5/10\n",
      "1/1 [==============================] - 4s 4s/sample - loss: 0.5430\n",
      "Epoch 6/10\n",
      "1/1 [==============================] - 4s 4s/sample - loss: 0.4530\n",
      "Epoch 7/10\n",
      "1/1 [==============================] - 4s 4s/sample - loss: 0.4455\n",
      "Epoch 8/10\n",
      "1/1 [==============================] - 4s 4s/sample - loss: 0.4308\n",
      "Epoch 9/10\n",
      "1/1 [==============================] - 3s 3s/sample - loss: 0.4551\n",
      "Epoch 10/10\n",
      "1/1 [==============================] - 3s 3s/sample - loss: 0.3954\n"
     ]
    }
   ],
   "source": [
    "test.fit(testin[0:1], testin[0:1], epochs = 10);"
   ]
  },
  {
   "cell_type": "code",
   "execution_count": null,
   "metadata": {
    "scrolled": false
   },
   "outputs": [],
   "source": [
    "testin = tf.ones(dtype=tf.float32, shape = [4, 1920, 1080, 3]);\n",
    "\n",
    "with tf.GradientTape() as tape:\n",
    "    testout = test.encoder(testin);\n",
    "    testback = test.decoder(testout);\n",
    "    loss = tf.keras.losses.MSE(testback, testin);\n",
    "print('');\n",
    "print('');\n",
    "print('Output: ');\n",
    "print(testout.shape);\n",
    "print('Weight: ');\n",
    "w = test1._encoder.convlayers[0].weights[0];\n",
    "print(w.shape);\n",
    "print('Backwards: ');\n",
    "print(testback.shape);\n",
    "print('Grad: ');\n",
    "grad_bs = tape.gradient(loss, test.trainable_variables);\n",
    "print(len(grad_bs));\n",
    "#print(grad_b.shape);"
   ]
  },
  {
   "cell_type": "code",
   "execution_count": null,
   "metadata": {},
   "outputs": [],
   "source": []
  }
 ],
 "metadata": {
  "kernelspec": {
   "display_name": "Python 3",
   "language": "python",
   "name": "python3"
  },
  "language_info": {
   "codemirror_mode": {
    "name": "ipython",
    "version": 3
   },
   "file_extension": ".py",
   "mimetype": "text/x-python",
   "name": "python",
   "nbconvert_exporter": "python",
   "pygments_lexer": "ipython3",
   "version": "3.6.2"
  }
 },
 "nbformat": 4,
 "nbformat_minor": 2
}
